{
 "cells": [
  {
   "cell_type": "markdown",
   "metadata": {},
   "source": [
    "## Дипко Олександра, КН-409"
   ]
  },
  {
   "cell_type": "markdown",
   "metadata": {
    "origin_pos": 0
   },
   "source": [
    "# Automatic Differentiation\n",
    ":label:`sec_autograd`\n",
    "\n",
    "As we have explained in :numref:`sec_calculus`,\n",
    "differentiation is a crucial step in nearly all deep learning optimization algorithms.\n",
    "While the calculations for taking these derivatives are straightforward,\n",
    "requiring only some basic calculus,\n",
    "for complex models, working out the updates by hand\n",
    "can be a pain (and often error-prone)."
   ]
  },
  {
   "cell_type": "code",
   "execution_count": 2,
   "metadata": {
    "origin_pos": 2,
    "tab": [
     "pytorch"
    ]
   },
   "outputs": [
    {
     "data": {
      "text/plain": [
       "tensor([0., 1., 2., 3.])"
      ]
     },
     "execution_count": 2,
     "metadata": {},
     "output_type": "execute_result"
    }
   ],
   "source": [
    "import torch\n",
    "\n",
    "x = torch.arange(4.0)\n",
    "x"
   ]
  },
  {
   "cell_type": "code",
   "execution_count": 3,
   "metadata": {
    "origin_pos": 6,
    "tab": [
     "pytorch"
    ]
   },
   "outputs": [],
   "source": [
    "x.requires_grad_(True)  # Same as `x = torch.arange(4.0, requires_grad=True)`\n",
    "x.grad  # The default value is None"
   ]
  },
  {
   "cell_type": "code",
   "execution_count": 4,
   "metadata": {
    "origin_pos": 10,
    "tab": [
     "pytorch"
    ]
   },
   "outputs": [
    {
     "data": {
      "text/plain": [
       "tensor(28., grad_fn=<MulBackward0>)"
      ]
     },
     "execution_count": 4,
     "metadata": {},
     "output_type": "execute_result"
    }
   ],
   "source": [
    "y = 2 * torch.dot(x, x)\n",
    "y"
   ]
  },
  {
   "cell_type": "code",
   "execution_count": 5,
   "metadata": {
    "origin_pos": 14,
    "tab": [
     "pytorch"
    ]
   },
   "outputs": [
    {
     "data": {
      "text/plain": [
       "tensor([ 0.,  4.,  8., 12.])"
      ]
     },
     "execution_count": 5,
     "metadata": {},
     "output_type": "execute_result"
    }
   ],
   "source": [
    "y.backward()\n",
    "x.grad"
   ]
  },
  {
   "cell_type": "code",
   "execution_count": 6,
   "metadata": {
    "origin_pos": 18,
    "tab": [
     "pytorch"
    ]
   },
   "outputs": [
    {
     "data": {
      "text/plain": [
       "tensor([True, True, True, True])"
      ]
     },
     "execution_count": 6,
     "metadata": {},
     "output_type": "execute_result"
    }
   ],
   "source": [
    "x.grad == 4 * x"
   ]
  },
  {
   "cell_type": "code",
   "execution_count": 7,
   "metadata": {
    "origin_pos": 22,
    "tab": [
     "pytorch"
    ]
   },
   "outputs": [
    {
     "data": {
      "text/plain": [
       "tensor([1., 1., 1., 1.])"
      ]
     },
     "execution_count": 7,
     "metadata": {},
     "output_type": "execute_result"
    }
   ],
   "source": [
    "# PyTorch accumulates the gradient in default, we need to clear the previous\n",
    "# values\n",
    "x.grad.zero_()\n",
    "y = x.sum()\n",
    "y.backward()\n",
    "x.grad"
   ]
  },
  {
   "cell_type": "markdown",
   "metadata": {
    "origin_pos": 24
   },
   "source": [
    "## Backward for Non-Scalar Variables\n",
    "\n",
    "Technically, when `y` is not a scalar,\n",
    "the most natural interpretation of the differentiation of a vector `y`\n",
    "with respect to a vector `x` is a matrix.\n",
    "For higher-order and higher-dimensional `y` and `x`,\n",
    "the differentiation result could be a high-order tensor.\n",
    "\n",
    "However, while these more exotic objects do show up\n",
    "in advanced machine learning (including [**in deep learning**]),\n",
    "more often (**when we are calling backward on a vector,**)\n",
    "we are trying to calculate the derivatives of the loss functions\n",
    "for each constituent of a *batch* of training examples.\n",
    "Here, (**our intent is**) not to calculate the differentiation matrix\n",
    "but rather (**the sum of the partial derivatives\n",
    "computed individually for each example**) in the batch.\n"
   ]
  },
  {
   "cell_type": "code",
   "execution_count": 8,
   "metadata": {
    "origin_pos": 26,
    "tab": [
     "pytorch"
    ]
   },
   "outputs": [
    {
     "data": {
      "text/plain": [
       "tensor([0., 2., 4., 6.])"
      ]
     },
     "execution_count": 8,
     "metadata": {},
     "output_type": "execute_result"
    }
   ],
   "source": [
    "# Invoking `backward` on a non-scalar requires passing in a `gradient` argument\n",
    "# which specifies the gradient of the differentiated function w.r.t `self`.\n",
    "# In our case, we simply want to sum the partial derivatives, so passing\n",
    "# in a gradient of ones is appropriate\n",
    "x.grad.zero_()\n",
    "y = x * x\n",
    "# y.backward(torch.ones(len(x))) equivalent to the below\n",
    "y.sum().backward()\n",
    "x.grad"
   ]
  },
  {
   "cell_type": "markdown",
   "metadata": {
    "origin_pos": 28
   },
   "source": [
    "## Detaching Computation\n",
    "\n",
    "Sometimes, we wish to [**move some calculations\n",
    "outside of the recorded computational graph.**]\n",
    "For example, say that `y` was calculated as a function of `x`,\n",
    "and that subsequently `z` was calculated as a function of both `y` and `x`.\n",
    "Now, imagine that we wanted to calculate\n",
    "the gradient of `z` with respect to `x`,\n",
    "but wanted for some reason to treat `y` as a constant,\n",
    "and only take into account the role\n",
    "that `x` played after `y` was calculated.\n",
    "\n",
    "Here, we can detach `y` to return a new variable `u`\n",
    "that has the same value as `y` but discards any information\n",
    "about how `y` was computed in the computational graph.\n",
    "In other words, the gradient will not flow backwards through `u` to `x`.\n",
    "Thus, the following backpropagation function computes\n",
    "the partial derivative of `z = u * x` with respect to `x` while treating `u` as a constant,\n",
    "instead of the partial derivative of `z = x * x * x` with respect to `x`.\n"
   ]
  },
  {
   "cell_type": "code",
   "execution_count": 9,
   "metadata": {
    "origin_pos": 30,
    "tab": [
     "pytorch"
    ]
   },
   "outputs": [
    {
     "data": {
      "text/plain": [
       "tensor([True, True, True, True])"
      ]
     },
     "execution_count": 9,
     "metadata": {},
     "output_type": "execute_result"
    }
   ],
   "source": [
    "x.grad.zero_()\n",
    "y = x * x\n",
    "u = y.detach()\n",
    "z = u * x\n",
    "\n",
    "z.sum().backward()\n",
    "x.grad == u"
   ]
  },
  {
   "cell_type": "code",
   "execution_count": 10,
   "metadata": {
    "origin_pos": 34,
    "tab": [
     "pytorch"
    ]
   },
   "outputs": [
    {
     "data": {
      "text/plain": [
       "tensor([True, True, True, True])"
      ]
     },
     "execution_count": 10,
     "metadata": {},
     "output_type": "execute_result"
    }
   ],
   "source": [
    "x.grad.zero_()\n",
    "y.sum().backward()\n",
    "x.grad == 2 * x"
   ]
  },
  {
   "cell_type": "markdown",
   "metadata": {
    "origin_pos": 36
   },
   "source": [
    "## Computing the Gradient of Python Control Flow\n",
    "\n",
    "One benefit of using automatic differentiation\n",
    "is that [**even if**] building the computational graph of (**a function\n",
    "required passing through a maze of Python control flow**)\n",
    "(e.g., conditionals, loops, and arbitrary function calls),\n",
    "(**we can still calculate the gradient of the resulting variable.**)\n",
    "In the following snippet, note that\n",
    "the number of iterations of the `while` loop\n",
    "and the evaluation of the `if` statement\n",
    "both depend on the value of the input `a`.\n"
   ]
  },
  {
   "cell_type": "code",
   "execution_count": 11,
   "metadata": {
    "origin_pos": 38,
    "tab": [
     "pytorch"
    ]
   },
   "outputs": [],
   "source": [
    "def f(a):\n",
    "    b = a * 2\n",
    "    while b.norm() < 1000:\n",
    "        b = b * 2\n",
    "    if b.sum() > 0:\n",
    "        c = b\n",
    "    else:\n",
    "        c = 100 * b\n",
    "    return c"
   ]
  },
  {
   "cell_type": "code",
   "execution_count": 12,
   "metadata": {
    "origin_pos": 42,
    "tab": [
     "pytorch"
    ]
   },
   "outputs": [],
   "source": [
    "a = torch.randn(size=(), requires_grad=True)\n",
    "d = f(a)\n",
    "d.backward()"
   ]
  },
  {
   "cell_type": "code",
   "execution_count": 13,
   "metadata": {
    "origin_pos": 46,
    "tab": [
     "pytorch"
    ]
   },
   "outputs": [
    {
     "data": {
      "text/plain": [
       "tensor(True)"
      ]
     },
     "execution_count": 13,
     "metadata": {},
     "output_type": "execute_result"
    }
   ],
   "source": [
    "a.grad == d / a"
   ]
  },
  {
   "cell_type": "markdown",
   "metadata": {
    "origin_pos": 0
   },
   "source": [
    "# Calculus\n",
    ":label:`sec_calculus`\n",
    "\n",
    "Finding the area of a polygon had remained mysterious\n",
    "until at least 2,500 years ago, when ancient Greeks divided a polygon into triangles and summed their areas.\n",
    "To find the area of curved shapes, such as a circle,\n",
    "ancient Greeks inscribed polygons in such shapes.\n",
    "As shown in :numref:`fig_circle_area`,\n",
    "an inscribed polygon with more sides of equal length better approximates\n",
    "the circle. This process is also known as the *method of exhaustion*.\n",
    "\n",
    "![Find the area of a circle with the method of exhaustion.](../img/polygon-circle.svg)\n",
    ":label:`fig_circle_area`\n",
    "\n",
    "In fact, the method of exhaustion is where *integral calculus* (will be described in :numref:`sec_integral_calculus`) originates from.\n",
    "More than 2,000 years later,\n",
    "the other branch of calculus, *differential calculus*,\n",
    "was invented.\n",
    "Among the most critical applications of differential calculus,\n",
    "optimization problems consider how to do something *the best*.\n",
    "As discussed in :numref:`subsec_norms_and_objectives`,\n",
    "such problems are ubiquitous in deep learning.\n",
    "\n",
    "In deep learning, we *train* models, updating them successively\n",
    "so that they get better and better as they see more and more data.\n",
    "Usually, getting better means minimizing a *loss function*,\n",
    "a score that answers the question \"how *bad* is our model?\"\n",
    "This question is more subtle than it appears.\n",
    "Ultimately, what we really care about\n",
    "is producing a model that performs well on data\n",
    "that we have never seen before.\n",
    "But we can only fit the model to data that we can actually see.\n",
    "Thus we can decompose the task of fitting models into two key concerns:\n",
    "(i) *optimization*: the process of fitting our models to observed data;\n",
    "(ii) *generalization*: the mathematical principles and practitioners' wisdom\n",
    "that guide as to how to produce models whose validity extends\n",
    "beyond the exact set of data examples used to train them.\n",
    "\n",
    "To help you understand\n",
    "optimization problems and methods in later chapters,\n",
    "here we give a very brief primer on differential calculus\n",
    "that is commonly used in deep learning."
   ]
  },
  {
   "cell_type": "code",
   "execution_count": 14,
   "metadata": {
    "origin_pos": 2,
    "tab": [
     "pytorch"
    ]
   },
   "outputs": [],
   "source": [
    "%matplotlib inline\n",
    "import numpy as np\n",
    "from IPython import display\n",
    "from d2l import torch as d2l\n",
    "\n",
    "\n",
    "def f(x):\n",
    "    return 3 * x ** 2 - 4 * x"
   ]
  },
  {
   "cell_type": "markdown",
   "metadata": {
    "origin_pos": 4
   },
   "source": [
    "[**By setting $x=1$ and letting $h$ approach $0$,\n",
    "the numerical result of $\\frac{f(x+h) - f(x)}{h}$**]\n",
    "in :eqref:`eq_derivative`\n",
    "(**approaches $2$.**)\n",
    "Though this experiment is not a mathematical proof,\n",
    "we will see later that the derivative $u'$ is $2$ when $x=1$.\n"
   ]
  },
  {
   "cell_type": "code",
   "execution_count": 15,
   "metadata": {
    "origin_pos": 5,
    "tab": [
     "pytorch"
    ]
   },
   "outputs": [
    {
     "name": "stdout",
     "output_type": "stream",
     "text": [
      "h=0.10000, numerical limit=2.30000\n",
      "h=0.01000, numerical limit=2.03000\n",
      "h=0.00100, numerical limit=2.00300\n",
      "h=0.00010, numerical limit=2.00030\n",
      "h=0.00001, numerical limit=2.00003\n"
     ]
    }
   ],
   "source": [
    "def numerical_lim(f, x, h):\n",
    "    return (f(x + h) - f(x)) / h\n",
    "\n",
    "h = 0.1\n",
    "for i in range(5):\n",
    "    print(f'h={h:.5f}, numerical limit={numerical_lim(f, 1, h):.5f}')\n",
    "    h *= 0.1"
   ]
  },
  {
   "cell_type": "code",
   "execution_count": 16,
   "metadata": {
    "origin_pos": 7,
    "tab": [
     "pytorch"
    ]
   },
   "outputs": [],
   "source": [
    "def use_svg_display():  #@save\n",
    "    \"\"\"Use the svg format to display a plot in Jupyter.\"\"\"\n",
    "    display.set_matplotlib_formats('svg')"
   ]
  },
  {
   "cell_type": "code",
   "execution_count": 17,
   "metadata": {
    "origin_pos": 9,
    "tab": [
     "pytorch"
    ]
   },
   "outputs": [],
   "source": [
    "def set_figsize(figsize=(3.5, 2.5)):  #@save\n",
    "    \"\"\"Set the figure size for matplotlib.\"\"\"\n",
    "    use_svg_display()\n",
    "    d2l.plt.rcParams['figure.figsize'] = figsize"
   ]
  },
  {
   "cell_type": "code",
   "execution_count": 18,
   "metadata": {
    "origin_pos": 11,
    "tab": [
     "pytorch"
    ]
   },
   "outputs": [],
   "source": [
    "#@save\n",
    "def set_axes(axes, xlabel, ylabel, xlim, ylim, xscale, yscale, legend):\n",
    "    \"\"\"Set the axes for matplotlib.\"\"\"\n",
    "    axes.set_xlabel(xlabel)\n",
    "    axes.set_ylabel(ylabel)\n",
    "    axes.set_xscale(xscale)\n",
    "    axes.set_yscale(yscale)\n",
    "    axes.set_xlim(xlim)\n",
    "    axes.set_ylim(ylim)\n",
    "    if legend:\n",
    "        axes.legend(legend)\n",
    "    axes.grid()"
   ]
  },
  {
   "cell_type": "code",
   "execution_count": 19,
   "metadata": {
    "origin_pos": 13,
    "tab": [
     "pytorch"
    ]
   },
   "outputs": [],
   "source": [
    "#@save\n",
    "def plot(X, Y=None, xlabel=None, ylabel=None, legend=None, xlim=None,\n",
    "         ylim=None, xscale='linear', yscale='linear',\n",
    "         fmts=('-', 'm--', 'g-.', 'r:'), figsize=(3.5, 2.5), axes=None):\n",
    "    \"\"\"Plot data points.\"\"\"\n",
    "    if legend is None:\n",
    "        legend = []\n",
    "\n",
    "    set_figsize(figsize)\n",
    "    axes = axes if axes else d2l.plt.gca()\n",
    "\n",
    "    # Return True if `X` (tensor or list) has 1 axis\n",
    "    def has_one_axis(X):\n",
    "        return (hasattr(X, \"ndim\") and X.ndim == 1 or\n",
    "                isinstance(X, list) and not hasattr(X[0], \"__len__\"))\n",
    "\n",
    "    if has_one_axis(X):\n",
    "        X = [X]\n",
    "    if Y is None:\n",
    "        X, Y = [[]] * len(X), X\n",
    "    elif has_one_axis(Y):\n",
    "        Y = [Y]\n",
    "    if len(X) != len(Y):\n",
    "        X = X * len(Y)\n",
    "    axes.cla()\n",
    "    for x, y, fmt in zip(X, Y, fmts):\n",
    "        if len(x):\n",
    "            axes.plot(x, y, fmt)\n",
    "        else:\n",
    "            axes.plot(y, fmt)\n",
    "    set_axes(axes, xlabel, ylabel, xlim, ylim, xscale, yscale, legend)"
   ]
  },
  {
   "cell_type": "markdown",
   "metadata": {
    "origin_pos": 14
   },
   "source": [
    "Now we can [**plot the function $u = f(x)$ and its tangent line $y = 2x - 3$ at $x=1$**], where the coefficient $2$ is the slope of the tangent line.\n"
   ]
  },
  {
   "cell_type": "code",
   "execution_count": 20,
   "metadata": {
    "origin_pos": 15,
    "tab": [
     "pytorch"
    ]
   },
   "outputs": [
    {
     "data": {
      "image/svg+xml": [
       "<?xml version=\"1.0\" encoding=\"utf-8\" standalone=\"no\"?>\r\n",
       "<!DOCTYPE svg PUBLIC \"-//W3C//DTD SVG 1.1//EN\"\r\n",
       "  \"http://www.w3.org/Graphics/SVG/1.1/DTD/svg11.dtd\">\r\n",
       "<svg height=\"180.65625pt\" version=\"1.1\" viewBox=\"0 0 243.529359 180.65625\" width=\"243.529359pt\" xmlns=\"http://www.w3.org/2000/svg\" xmlns:xlink=\"http://www.w3.org/1999/xlink\">\r\n",
       " <metadata>\r\n",
       "  <rdf:RDF xmlns:cc=\"http://creativecommons.org/ns#\" xmlns:dc=\"http://purl.org/dc/elements/1.1/\" xmlns:rdf=\"http://www.w3.org/1999/02/22-rdf-syntax-ns#\">\r\n",
       "   <cc:Work>\r\n",
       "    <dc:type rdf:resource=\"http://purl.org/dc/dcmitype/StillImage\"/>\r\n",
       "    <dc:date>2021-09-11T16:15:29.491663</dc:date>\r\n",
       "    <dc:format>image/svg+xml</dc:format>\r\n",
       "    <dc:creator>\r\n",
       "     <cc:Agent>\r\n",
       "      <dc:title>Matplotlib v3.4.1, https://matplotlib.org/</dc:title>\r\n",
       "     </cc:Agent>\r\n",
       "    </dc:creator>\r\n",
       "   </cc:Work>\r\n",
       "  </rdf:RDF>\r\n",
       " </metadata>\r\n",
       " <defs>\r\n",
       "  <style type=\"text/css\">*{stroke-linecap:butt;stroke-linejoin:round;}</style>\r\n",
       " </defs>\r\n",
       " <g id=\"figure_1\">\r\n",
       "  <g id=\"patch_1\">\r\n",
       "   <path d=\"M 0 180.65625 \r\n",
       "L 243.529359 180.65625 \r\n",
       "L 243.529359 0 \r\n",
       "L 0 0 \r\n",
       "z\r\n",
       "\" style=\"fill:none;\"/>\r\n",
       "  </g>\r\n",
       "  <g id=\"axes_1\">\r\n",
       "   <g id=\"patch_2\">\r\n",
       "    <path d=\"M 40.603125 143.1 \r\n",
       "L 235.903125 143.1 \r\n",
       "L 235.903125 7.2 \r\n",
       "L 40.603125 7.2 \r\n",
       "z\r\n",
       "\" style=\"fill:#ffffff;\"/>\r\n",
       "   </g>\r\n",
       "   <g id=\"matplotlib.axis_1\">\r\n",
       "    <g id=\"xtick_1\">\r\n",
       "     <g id=\"line2d_1\">\r\n",
       "      <path clip-path=\"url(#p82291074b1)\" d=\"M 49.480398 143.1 \r\n",
       "L 49.480398 7.2 \r\n",
       "\" style=\"fill:none;stroke:#b0b0b0;stroke-linecap:square;stroke-width:0.8;\"/>\r\n",
       "     </g>\r\n",
       "     <g id=\"line2d_2\">\r\n",
       "      <defs>\r\n",
       "       <path d=\"M 0 0 \r\n",
       "L 0 3.5 \r\n",
       "\" id=\"me101e27716\" style=\"stroke:#000000;stroke-width:0.8;\"/>\r\n",
       "      </defs>\r\n",
       "      <g>\r\n",
       "       <use style=\"stroke:#000000;stroke-width:0.8;\" x=\"49.480398\" xlink:href=\"#me101e27716\" y=\"143.1\"/>\r\n",
       "      </g>\r\n",
       "     </g>\r\n",
       "     <g id=\"text_1\">\r\n",
       "      <!-- 0 -->\r\n",
       "      <g transform=\"translate(46.299148 157.698438)scale(0.1 -0.1)\">\r\n",
       "       <defs>\r\n",
       "        <path d=\"M 2034 4250 \r\n",
       "Q 1547 4250 1301 3770 \r\n",
       "Q 1056 3291 1056 2328 \r\n",
       "Q 1056 1369 1301 889 \r\n",
       "Q 1547 409 2034 409 \r\n",
       "Q 2525 409 2770 889 \r\n",
       "Q 3016 1369 3016 2328 \r\n",
       "Q 3016 3291 2770 3770 \r\n",
       "Q 2525 4250 2034 4250 \r\n",
       "z\r\n",
       "M 2034 4750 \r\n",
       "Q 2819 4750 3233 4129 \r\n",
       "Q 3647 3509 3647 2328 \r\n",
       "Q 3647 1150 3233 529 \r\n",
       "Q 2819 -91 2034 -91 \r\n",
       "Q 1250 -91 836 529 \r\n",
       "Q 422 1150 422 2328 \r\n",
       "Q 422 3509 836 4129 \r\n",
       "Q 1250 4750 2034 4750 \r\n",
       "z\r\n",
       "\" id=\"DejaVuSans-30\" transform=\"scale(0.015625)\"/>\r\n",
       "       </defs>\r\n",
       "       <use xlink:href=\"#DejaVuSans-30\"/>\r\n",
       "      </g>\r\n",
       "     </g>\r\n",
       "    </g>\r\n",
       "    <g id=\"xtick_2\">\r\n",
       "     <g id=\"line2d_3\">\r\n",
       "      <path clip-path=\"url(#p82291074b1)\" d=\"M 110.702968 143.1 \r\n",
       "L 110.702968 7.2 \r\n",
       "\" style=\"fill:none;stroke:#b0b0b0;stroke-linecap:square;stroke-width:0.8;\"/>\r\n",
       "     </g>\r\n",
       "     <g id=\"line2d_4\">\r\n",
       "      <g>\r\n",
       "       <use style=\"stroke:#000000;stroke-width:0.8;\" x=\"110.702968\" xlink:href=\"#me101e27716\" y=\"143.1\"/>\r\n",
       "      </g>\r\n",
       "     </g>\r\n",
       "     <g id=\"text_2\">\r\n",
       "      <!-- 1 -->\r\n",
       "      <g transform=\"translate(107.521718 157.698438)scale(0.1 -0.1)\">\r\n",
       "       <defs>\r\n",
       "        <path d=\"M 794 531 \r\n",
       "L 1825 531 \r\n",
       "L 1825 4091 \r\n",
       "L 703 3866 \r\n",
       "L 703 4441 \r\n",
       "L 1819 4666 \r\n",
       "L 2450 4666 \r\n",
       "L 2450 531 \r\n",
       "L 3481 531 \r\n",
       "L 3481 0 \r\n",
       "L 794 0 \r\n",
       "L 794 531 \r\n",
       "z\r\n",
       "\" id=\"DejaVuSans-31\" transform=\"scale(0.015625)\"/>\r\n",
       "       </defs>\r\n",
       "       <use xlink:href=\"#DejaVuSans-31\"/>\r\n",
       "      </g>\r\n",
       "     </g>\r\n",
       "    </g>\r\n",
       "    <g id=\"xtick_3\">\r\n",
       "     <g id=\"line2d_5\">\r\n",
       "      <path clip-path=\"url(#p82291074b1)\" d=\"M 171.925539 143.1 \r\n",
       "L 171.925539 7.2 \r\n",
       "\" style=\"fill:none;stroke:#b0b0b0;stroke-linecap:square;stroke-width:0.8;\"/>\r\n",
       "     </g>\r\n",
       "     <g id=\"line2d_6\">\r\n",
       "      <g>\r\n",
       "       <use style=\"stroke:#000000;stroke-width:0.8;\" x=\"171.925539\" xlink:href=\"#me101e27716\" y=\"143.1\"/>\r\n",
       "      </g>\r\n",
       "     </g>\r\n",
       "     <g id=\"text_3\">\r\n",
       "      <!-- 2 -->\r\n",
       "      <g transform=\"translate(168.744289 157.698438)scale(0.1 -0.1)\">\r\n",
       "       <defs>\r\n",
       "        <path d=\"M 1228 531 \r\n",
       "L 3431 531 \r\n",
       "L 3431 0 \r\n",
       "L 469 0 \r\n",
       "L 469 531 \r\n",
       "Q 828 903 1448 1529 \r\n",
       "Q 2069 2156 2228 2338 \r\n",
       "Q 2531 2678 2651 2914 \r\n",
       "Q 2772 3150 2772 3378 \r\n",
       "Q 2772 3750 2511 3984 \r\n",
       "Q 2250 4219 1831 4219 \r\n",
       "Q 1534 4219 1204 4116 \r\n",
       "Q 875 4013 500 3803 \r\n",
       "L 500 4441 \r\n",
       "Q 881 4594 1212 4672 \r\n",
       "Q 1544 4750 1819 4750 \r\n",
       "Q 2544 4750 2975 4387 \r\n",
       "Q 3406 4025 3406 3419 \r\n",
       "Q 3406 3131 3298 2873 \r\n",
       "Q 3191 2616 2906 2266 \r\n",
       "Q 2828 2175 2409 1742 \r\n",
       "Q 1991 1309 1228 531 \r\n",
       "z\r\n",
       "\" id=\"DejaVuSans-32\" transform=\"scale(0.015625)\"/>\r\n",
       "       </defs>\r\n",
       "       <use xlink:href=\"#DejaVuSans-32\"/>\r\n",
       "      </g>\r\n",
       "     </g>\r\n",
       "    </g>\r\n",
       "    <g id=\"xtick_4\">\r\n",
       "     <g id=\"line2d_7\">\r\n",
       "      <path clip-path=\"url(#p82291074b1)\" d=\"M 233.148109 143.1 \r\n",
       "L 233.148109 7.2 \r\n",
       "\" style=\"fill:none;stroke:#b0b0b0;stroke-linecap:square;stroke-width:0.8;\"/>\r\n",
       "     </g>\r\n",
       "     <g id=\"line2d_8\">\r\n",
       "      <g>\r\n",
       "       <use style=\"stroke:#000000;stroke-width:0.8;\" x=\"233.148109\" xlink:href=\"#me101e27716\" y=\"143.1\"/>\r\n",
       "      </g>\r\n",
       "     </g>\r\n",
       "     <g id=\"text_4\">\r\n",
       "      <!-- 3 -->\r\n",
       "      <g transform=\"translate(229.966859 157.698438)scale(0.1 -0.1)\">\r\n",
       "       <defs>\r\n",
       "        <path d=\"M 2597 2516 \r\n",
       "Q 3050 2419 3304 2112 \r\n",
       "Q 3559 1806 3559 1356 \r\n",
       "Q 3559 666 3084 287 \r\n",
       "Q 2609 -91 1734 -91 \r\n",
       "Q 1441 -91 1130 -33 \r\n",
       "Q 819 25 488 141 \r\n",
       "L 488 750 \r\n",
       "Q 750 597 1062 519 \r\n",
       "Q 1375 441 1716 441 \r\n",
       "Q 2309 441 2620 675 \r\n",
       "Q 2931 909 2931 1356 \r\n",
       "Q 2931 1769 2642 2001 \r\n",
       "Q 2353 2234 1838 2234 \r\n",
       "L 1294 2234 \r\n",
       "L 1294 2753 \r\n",
       "L 1863 2753 \r\n",
       "Q 2328 2753 2575 2939 \r\n",
       "Q 2822 3125 2822 3475 \r\n",
       "Q 2822 3834 2567 4026 \r\n",
       "Q 2313 4219 1838 4219 \r\n",
       "Q 1578 4219 1281 4162 \r\n",
       "Q 984 4106 628 3988 \r\n",
       "L 628 4550 \r\n",
       "Q 988 4650 1302 4700 \r\n",
       "Q 1616 4750 1894 4750 \r\n",
       "Q 2613 4750 3031 4423 \r\n",
       "Q 3450 4097 3450 3541 \r\n",
       "Q 3450 3153 3228 2886 \r\n",
       "Q 3006 2619 2597 2516 \r\n",
       "z\r\n",
       "\" id=\"DejaVuSans-33\" transform=\"scale(0.015625)\"/>\r\n",
       "       </defs>\r\n",
       "       <use xlink:href=\"#DejaVuSans-33\"/>\r\n",
       "      </g>\r\n",
       "     </g>\r\n",
       "    </g>\r\n",
       "    <g id=\"text_5\">\r\n",
       "     <!-- x -->\r\n",
       "     <g transform=\"translate(135.29375 171.376563)scale(0.1 -0.1)\">\r\n",
       "      <defs>\r\n",
       "       <path d=\"M 3513 3500 \r\n",
       "L 2247 1797 \r\n",
       "L 3578 0 \r\n",
       "L 2900 0 \r\n",
       "L 1881 1375 \r\n",
       "L 863 0 \r\n",
       "L 184 0 \r\n",
       "L 1544 1831 \r\n",
       "L 300 3500 \r\n",
       "L 978 3500 \r\n",
       "L 1906 2253 \r\n",
       "L 2834 3500 \r\n",
       "L 3513 3500 \r\n",
       "z\r\n",
       "\" id=\"DejaVuSans-78\" transform=\"scale(0.015625)\"/>\r\n",
       "      </defs>\r\n",
       "      <use xlink:href=\"#DejaVuSans-78\"/>\r\n",
       "     </g>\r\n",
       "    </g>\r\n",
       "   </g>\r\n",
       "   <g id=\"matplotlib.axis_2\">\r\n",
       "    <g id=\"ytick_1\">\r\n",
       "     <g id=\"line2d_9\">\r\n",
       "      <path clip-path=\"url(#p82291074b1)\" d=\"M 40.603125 114.635514 \r\n",
       "L 235.903125 114.635514 \r\n",
       "\" style=\"fill:none;stroke:#b0b0b0;stroke-linecap:square;stroke-width:0.8;\"/>\r\n",
       "     </g>\r\n",
       "     <g id=\"line2d_10\">\r\n",
       "      <defs>\r\n",
       "       <path d=\"M 0 0 \r\n",
       "L -3.5 0 \r\n",
       "\" id=\"m9cbb19fc67\" style=\"stroke:#000000;stroke-width:0.8;\"/>\r\n",
       "      </defs>\r\n",
       "      <g>\r\n",
       "       <use style=\"stroke:#000000;stroke-width:0.8;\" x=\"40.603125\" xlink:href=\"#m9cbb19fc67\" y=\"114.635514\"/>\r\n",
       "      </g>\r\n",
       "     </g>\r\n",
       "     <g id=\"text_6\">\r\n",
       "      <!-- 0 -->\r\n",
       "      <g transform=\"translate(27.240625 118.434732)scale(0.1 -0.1)\">\r\n",
       "       <use xlink:href=\"#DejaVuSans-30\"/>\r\n",
       "      </g>\r\n",
       "     </g>\r\n",
       "    </g>\r\n",
       "    <g id=\"ytick_2\">\r\n",
       "     <g id=\"line2d_11\">\r\n",
       "      <path clip-path=\"url(#p82291074b1)\" d=\"M 40.603125 77.490157 \r\n",
       "L 235.903125 77.490157 \r\n",
       "\" style=\"fill:none;stroke:#b0b0b0;stroke-linecap:square;stroke-width:0.8;\"/>\r\n",
       "     </g>\r\n",
       "     <g id=\"line2d_12\">\r\n",
       "      <g>\r\n",
       "       <use style=\"stroke:#000000;stroke-width:0.8;\" x=\"40.603125\" xlink:href=\"#m9cbb19fc67\" y=\"77.490157\"/>\r\n",
       "      </g>\r\n",
       "     </g>\r\n",
       "     <g id=\"text_7\">\r\n",
       "      <!-- 5 -->\r\n",
       "      <g transform=\"translate(27.240625 81.289376)scale(0.1 -0.1)\">\r\n",
       "       <defs>\r\n",
       "        <path d=\"M 691 4666 \r\n",
       "L 3169 4666 \r\n",
       "L 3169 4134 \r\n",
       "L 1269 4134 \r\n",
       "L 1269 2991 \r\n",
       "Q 1406 3038 1543 3061 \r\n",
       "Q 1681 3084 1819 3084 \r\n",
       "Q 2600 3084 3056 2656 \r\n",
       "Q 3513 2228 3513 1497 \r\n",
       "Q 3513 744 3044 326 \r\n",
       "Q 2575 -91 1722 -91 \r\n",
       "Q 1428 -91 1123 -41 \r\n",
       "Q 819 9 494 109 \r\n",
       "L 494 744 \r\n",
       "Q 775 591 1075 516 \r\n",
       "Q 1375 441 1709 441 \r\n",
       "Q 2250 441 2565 725 \r\n",
       "Q 2881 1009 2881 1497 \r\n",
       "Q 2881 1984 2565 2268 \r\n",
       "Q 2250 2553 1709 2553 \r\n",
       "Q 1456 2553 1204 2497 \r\n",
       "Q 953 2441 691 2322 \r\n",
       "L 691 4666 \r\n",
       "z\r\n",
       "\" id=\"DejaVuSans-35\" transform=\"scale(0.015625)\"/>\r\n",
       "       </defs>\r\n",
       "       <use xlink:href=\"#DejaVuSans-35\"/>\r\n",
       "      </g>\r\n",
       "     </g>\r\n",
       "    </g>\r\n",
       "    <g id=\"ytick_3\">\r\n",
       "     <g id=\"line2d_13\">\r\n",
       "      <path clip-path=\"url(#p82291074b1)\" d=\"M 40.603125 40.344801 \r\n",
       "L 235.903125 40.344801 \r\n",
       "\" style=\"fill:none;stroke:#b0b0b0;stroke-linecap:square;stroke-width:0.8;\"/>\r\n",
       "     </g>\r\n",
       "     <g id=\"line2d_14\">\r\n",
       "      <g>\r\n",
       "       <use style=\"stroke:#000000;stroke-width:0.8;\" x=\"40.603125\" xlink:href=\"#m9cbb19fc67\" y=\"40.344801\"/>\r\n",
       "      </g>\r\n",
       "     </g>\r\n",
       "     <g id=\"text_8\">\r\n",
       "      <!-- 10 -->\r\n",
       "      <g transform=\"translate(20.878125 44.14402)scale(0.1 -0.1)\">\r\n",
       "       <use xlink:href=\"#DejaVuSans-31\"/>\r\n",
       "       <use x=\"63.623047\" xlink:href=\"#DejaVuSans-30\"/>\r\n",
       "      </g>\r\n",
       "     </g>\r\n",
       "    </g>\r\n",
       "    <g id=\"text_9\">\r\n",
       "     <!-- f(x) -->\r\n",
       "     <g transform=\"translate(14.798437 83.771094)rotate(-90)scale(0.1 -0.1)\">\r\n",
       "      <defs>\r\n",
       "       <path d=\"M 2375 4863 \r\n",
       "L 2375 4384 \r\n",
       "L 1825 4384 \r\n",
       "Q 1516 4384 1395 4259 \r\n",
       "Q 1275 4134 1275 3809 \r\n",
       "L 1275 3500 \r\n",
       "L 2222 3500 \r\n",
       "L 2222 3053 \r\n",
       "L 1275 3053 \r\n",
       "L 1275 0 \r\n",
       "L 697 0 \r\n",
       "L 697 3053 \r\n",
       "L 147 3053 \r\n",
       "L 147 3500 \r\n",
       "L 697 3500 \r\n",
       "L 697 3744 \r\n",
       "Q 697 4328 969 4595 \r\n",
       "Q 1241 4863 1831 4863 \r\n",
       "L 2375 4863 \r\n",
       "z\r\n",
       "\" id=\"DejaVuSans-66\" transform=\"scale(0.015625)\"/>\r\n",
       "       <path d=\"M 1984 4856 \r\n",
       "Q 1566 4138 1362 3434 \r\n",
       "Q 1159 2731 1159 2009 \r\n",
       "Q 1159 1288 1364 580 \r\n",
       "Q 1569 -128 1984 -844 \r\n",
       "L 1484 -844 \r\n",
       "Q 1016 -109 783 600 \r\n",
       "Q 550 1309 550 2009 \r\n",
       "Q 550 2706 781 3412 \r\n",
       "Q 1013 4119 1484 4856 \r\n",
       "L 1984 4856 \r\n",
       "z\r\n",
       "\" id=\"DejaVuSans-28\" transform=\"scale(0.015625)\"/>\r\n",
       "       <path d=\"M 513 4856 \r\n",
       "L 1013 4856 \r\n",
       "Q 1481 4119 1714 3412 \r\n",
       "Q 1947 2706 1947 2009 \r\n",
       "Q 1947 1309 1714 600 \r\n",
       "Q 1481 -109 1013 -844 \r\n",
       "L 513 -844 \r\n",
       "Q 928 -128 1133 580 \r\n",
       "Q 1338 1288 1338 2009 \r\n",
       "Q 1338 2731 1133 3434 \r\n",
       "Q 928 4138 513 4856 \r\n",
       "z\r\n",
       "\" id=\"DejaVuSans-29\" transform=\"scale(0.015625)\"/>\r\n",
       "      </defs>\r\n",
       "      <use xlink:href=\"#DejaVuSans-66\"/>\r\n",
       "      <use x=\"35.205078\" xlink:href=\"#DejaVuSans-28\"/>\r\n",
       "      <use x=\"74.21875\" xlink:href=\"#DejaVuSans-78\"/>\r\n",
       "      <use x=\"133.398438\" xlink:href=\"#DejaVuSans-29\"/>\r\n",
       "     </g>\r\n",
       "    </g>\r\n",
       "   </g>\r\n",
       "   <g id=\"line2d_15\">\r\n",
       "    <path clip-path=\"url(#p82291074b1)\" d=\"M 49.480398 114.635514 \r\n",
       "L 55.602655 117.38427 \r\n",
       "L 61.724912 119.687282 \r\n",
       "L 67.847169 121.54455 \r\n",
       "L 73.969426 122.956073 \r\n",
       "L 80.091683 123.921853 \r\n",
       "L 86.21394 124.441888 \r\n",
       "L 92.336197 124.516178 \r\n",
       "L 98.458454 124.144725 \r\n",
       "L 104.580711 123.327527 \r\n",
       "L 110.702968 122.064585 \r\n",
       "L 116.825225 120.355898 \r\n",
       "L 122.947482 118.201468 \r\n",
       "L 129.069739 115.601293 \r\n",
       "L 135.191996 112.555374 \r\n",
       "L 141.314254 109.06371 \r\n",
       "L 147.436511 105.126302 \r\n",
       "L 153.558768 100.74315 \r\n",
       "L 159.681025 95.914254 \r\n",
       "L 165.803282 90.639614 \r\n",
       "L 171.925539 84.919229 \r\n",
       "L 178.047796 78.7531 \r\n",
       "L 184.170053 72.141226 \r\n",
       "L 190.29231 65.083608 \r\n",
       "L 196.414567 57.580247 \r\n",
       "L 202.536824 49.63114 \r\n",
       "L 208.659081 41.23629 \r\n",
       "L 214.781338 32.395695 \r\n",
       "L 220.903595 23.109356 \r\n",
       "L 227.025852 13.377273 \r\n",
       "\" style=\"fill:none;stroke:#1f77b4;stroke-linecap:square;stroke-width:1.5;\"/>\r\n",
       "   </g>\r\n",
       "   <g id=\"line2d_16\">\r\n",
       "    <path clip-path=\"url(#p82291074b1)\" d=\"M 49.480398 136.922727 \r\n",
       "L 55.602655 135.436913 \r\n",
       "L 61.724912 133.951099 \r\n",
       "L 67.847169 132.465285 \r\n",
       "L 73.969426 130.97947 \r\n",
       "L 80.091683 129.493656 \r\n",
       "L 86.21394 128.007842 \r\n",
       "L 92.336197 126.522028 \r\n",
       "L 98.458454 125.036213 \r\n",
       "L 104.580711 123.550399 \r\n",
       "L 110.702968 122.064585 \r\n",
       "L 116.825225 120.578771 \r\n",
       "L 122.947482 119.092956 \r\n",
       "L 129.069739 117.607142 \r\n",
       "L 135.191996 116.121328 \r\n",
       "L 141.314254 114.635514 \r\n",
       "L 147.436511 113.149699 \r\n",
       "L 153.558768 111.663885 \r\n",
       "L 159.681025 110.178071 \r\n",
       "L 165.803282 108.692257 \r\n",
       "L 171.925539 107.206442 \r\n",
       "L 178.047796 105.720628 \r\n",
       "L 184.170053 104.234814 \r\n",
       "L 190.29231 102.749 \r\n",
       "L 196.414567 101.263185 \r\n",
       "L 202.536824 99.777371 \r\n",
       "L 208.659081 98.291557 \r\n",
       "L 214.781338 96.805743 \r\n",
       "L 220.903595 95.319928 \r\n",
       "L 227.025852 93.834114 \r\n",
       "\" style=\"fill:none;stroke:#bf00bf;stroke-dasharray:5.55,2.4;stroke-dashoffset:0;stroke-width:1.5;\"/>\r\n",
       "   </g>\r\n",
       "   <g id=\"patch_3\">\r\n",
       "    <path d=\"M 40.603125 143.1 \r\n",
       "L 40.603125 7.2 \r\n",
       "\" style=\"fill:none;stroke:#000000;stroke-linecap:square;stroke-linejoin:miter;stroke-width:0.8;\"/>\r\n",
       "   </g>\r\n",
       "   <g id=\"patch_4\">\r\n",
       "    <path d=\"M 235.903125 143.1 \r\n",
       "L 235.903125 7.2 \r\n",
       "\" style=\"fill:none;stroke:#000000;stroke-linecap:square;stroke-linejoin:miter;stroke-width:0.8;\"/>\r\n",
       "   </g>\r\n",
       "   <g id=\"patch_5\">\r\n",
       "    <path d=\"M 40.603125 143.1 \r\n",
       "L 235.903125 143.1 \r\n",
       "\" style=\"fill:none;stroke:#000000;stroke-linecap:square;stroke-linejoin:miter;stroke-width:0.8;\"/>\r\n",
       "   </g>\r\n",
       "   <g id=\"patch_6\">\r\n",
       "    <path d=\"M 40.603125 7.2 \r\n",
       "L 235.903125 7.2 \r\n",
       "\" style=\"fill:none;stroke:#000000;stroke-linecap:square;stroke-linejoin:miter;stroke-width:0.8;\"/>\r\n",
       "   </g>\r\n",
       "   <g id=\"legend_1\">\r\n",
       "    <g id=\"patch_7\">\r\n",
       "     <path d=\"M 47.603125 44.55625 \r\n",
       "L 172.153125 44.55625 \r\n",
       "Q 174.153125 44.55625 174.153125 42.55625 \r\n",
       "L 174.153125 14.2 \r\n",
       "Q 174.153125 12.2 172.153125 12.2 \r\n",
       "L 47.603125 12.2 \r\n",
       "Q 45.603125 12.2 45.603125 14.2 \r\n",
       "L 45.603125 42.55625 \r\n",
       "Q 45.603125 44.55625 47.603125 44.55625 \r\n",
       "z\r\n",
       "\" style=\"fill:#ffffff;opacity:0.8;stroke:#cccccc;stroke-linejoin:miter;\"/>\r\n",
       "    </g>\r\n",
       "    <g id=\"line2d_17\">\r\n",
       "     <path d=\"M 49.603125 20.298437 \r\n",
       "L 69.603125 20.298437 \r\n",
       "\" style=\"fill:none;stroke:#1f77b4;stroke-linecap:square;stroke-width:1.5;\"/>\r\n",
       "    </g>\r\n",
       "    <g id=\"line2d_18\"/>\r\n",
       "    <g id=\"text_10\">\r\n",
       "     <!-- f(x) -->\r\n",
       "     <g transform=\"translate(77.603125 23.798437)scale(0.1 -0.1)\">\r\n",
       "      <use xlink:href=\"#DejaVuSans-66\"/>\r\n",
       "      <use x=\"35.205078\" xlink:href=\"#DejaVuSans-28\"/>\r\n",
       "      <use x=\"74.21875\" xlink:href=\"#DejaVuSans-78\"/>\r\n",
       "      <use x=\"133.398438\" xlink:href=\"#DejaVuSans-29\"/>\r\n",
       "     </g>\r\n",
       "    </g>\r\n",
       "    <g id=\"line2d_19\">\r\n",
       "     <path d=\"M 49.603125 34.976562 \r\n",
       "L 69.603125 34.976562 \r\n",
       "\" style=\"fill:none;stroke:#bf00bf;stroke-dasharray:5.55,2.4;stroke-dashoffset:0;stroke-width:1.5;\"/>\r\n",
       "    </g>\r\n",
       "    <g id=\"line2d_20\"/>\r\n",
       "    <g id=\"text_11\">\r\n",
       "     <!-- Tangent line (x=1) -->\r\n",
       "     <g transform=\"translate(77.603125 38.476562)scale(0.1 -0.1)\">\r\n",
       "      <defs>\r\n",
       "       <path d=\"M -19 4666 \r\n",
       "L 3928 4666 \r\n",
       "L 3928 4134 \r\n",
       "L 2272 4134 \r\n",
       "L 2272 0 \r\n",
       "L 1638 0 \r\n",
       "L 1638 4134 \r\n",
       "L -19 4134 \r\n",
       "L -19 4666 \r\n",
       "z\r\n",
       "\" id=\"DejaVuSans-54\" transform=\"scale(0.015625)\"/>\r\n",
       "       <path d=\"M 2194 1759 \r\n",
       "Q 1497 1759 1228 1600 \r\n",
       "Q 959 1441 959 1056 \r\n",
       "Q 959 750 1161 570 \r\n",
       "Q 1363 391 1709 391 \r\n",
       "Q 2188 391 2477 730 \r\n",
       "Q 2766 1069 2766 1631 \r\n",
       "L 2766 1759 \r\n",
       "L 2194 1759 \r\n",
       "z\r\n",
       "M 3341 1997 \r\n",
       "L 3341 0 \r\n",
       "L 2766 0 \r\n",
       "L 2766 531 \r\n",
       "Q 2569 213 2275 61 \r\n",
       "Q 1981 -91 1556 -91 \r\n",
       "Q 1019 -91 701 211 \r\n",
       "Q 384 513 384 1019 \r\n",
       "Q 384 1609 779 1909 \r\n",
       "Q 1175 2209 1959 2209 \r\n",
       "L 2766 2209 \r\n",
       "L 2766 2266 \r\n",
       "Q 2766 2663 2505 2880 \r\n",
       "Q 2244 3097 1772 3097 \r\n",
       "Q 1472 3097 1187 3025 \r\n",
       "Q 903 2953 641 2809 \r\n",
       "L 641 3341 \r\n",
       "Q 956 3463 1253 3523 \r\n",
       "Q 1550 3584 1831 3584 \r\n",
       "Q 2591 3584 2966 3190 \r\n",
       "Q 3341 2797 3341 1997 \r\n",
       "z\r\n",
       "\" id=\"DejaVuSans-61\" transform=\"scale(0.015625)\"/>\r\n",
       "       <path d=\"M 3513 2113 \r\n",
       "L 3513 0 \r\n",
       "L 2938 0 \r\n",
       "L 2938 2094 \r\n",
       "Q 2938 2591 2744 2837 \r\n",
       "Q 2550 3084 2163 3084 \r\n",
       "Q 1697 3084 1428 2787 \r\n",
       "Q 1159 2491 1159 1978 \r\n",
       "L 1159 0 \r\n",
       "L 581 0 \r\n",
       "L 581 3500 \r\n",
       "L 1159 3500 \r\n",
       "L 1159 2956 \r\n",
       "Q 1366 3272 1645 3428 \r\n",
       "Q 1925 3584 2291 3584 \r\n",
       "Q 2894 3584 3203 3211 \r\n",
       "Q 3513 2838 3513 2113 \r\n",
       "z\r\n",
       "\" id=\"DejaVuSans-6e\" transform=\"scale(0.015625)\"/>\r\n",
       "       <path d=\"M 2906 1791 \r\n",
       "Q 2906 2416 2648 2759 \r\n",
       "Q 2391 3103 1925 3103 \r\n",
       "Q 1463 3103 1205 2759 \r\n",
       "Q 947 2416 947 1791 \r\n",
       "Q 947 1169 1205 825 \r\n",
       "Q 1463 481 1925 481 \r\n",
       "Q 2391 481 2648 825 \r\n",
       "Q 2906 1169 2906 1791 \r\n",
       "z\r\n",
       "M 3481 434 \r\n",
       "Q 3481 -459 3084 -895 \r\n",
       "Q 2688 -1331 1869 -1331 \r\n",
       "Q 1566 -1331 1297 -1286 \r\n",
       "Q 1028 -1241 775 -1147 \r\n",
       "L 775 -588 \r\n",
       "Q 1028 -725 1275 -790 \r\n",
       "Q 1522 -856 1778 -856 \r\n",
       "Q 2344 -856 2625 -561 \r\n",
       "Q 2906 -266 2906 331 \r\n",
       "L 2906 616 \r\n",
       "Q 2728 306 2450 153 \r\n",
       "Q 2172 0 1784 0 \r\n",
       "Q 1141 0 747 490 \r\n",
       "Q 353 981 353 1791 \r\n",
       "Q 353 2603 747 3093 \r\n",
       "Q 1141 3584 1784 3584 \r\n",
       "Q 2172 3584 2450 3431 \r\n",
       "Q 2728 3278 2906 2969 \r\n",
       "L 2906 3500 \r\n",
       "L 3481 3500 \r\n",
       "L 3481 434 \r\n",
       "z\r\n",
       "\" id=\"DejaVuSans-67\" transform=\"scale(0.015625)\"/>\r\n",
       "       <path d=\"M 3597 1894 \r\n",
       "L 3597 1613 \r\n",
       "L 953 1613 \r\n",
       "Q 991 1019 1311 708 \r\n",
       "Q 1631 397 2203 397 \r\n",
       "Q 2534 397 2845 478 \r\n",
       "Q 3156 559 3463 722 \r\n",
       "L 3463 178 \r\n",
       "Q 3153 47 2828 -22 \r\n",
       "Q 2503 -91 2169 -91 \r\n",
       "Q 1331 -91 842 396 \r\n",
       "Q 353 884 353 1716 \r\n",
       "Q 353 2575 817 3079 \r\n",
       "Q 1281 3584 2069 3584 \r\n",
       "Q 2775 3584 3186 3129 \r\n",
       "Q 3597 2675 3597 1894 \r\n",
       "z\r\n",
       "M 3022 2063 \r\n",
       "Q 3016 2534 2758 2815 \r\n",
       "Q 2500 3097 2075 3097 \r\n",
       "Q 1594 3097 1305 2825 \r\n",
       "Q 1016 2553 972 2059 \r\n",
       "L 3022 2063 \r\n",
       "z\r\n",
       "\" id=\"DejaVuSans-65\" transform=\"scale(0.015625)\"/>\r\n",
       "       <path d=\"M 1172 4494 \r\n",
       "L 1172 3500 \r\n",
       "L 2356 3500 \r\n",
       "L 2356 3053 \r\n",
       "L 1172 3053 \r\n",
       "L 1172 1153 \r\n",
       "Q 1172 725 1289 603 \r\n",
       "Q 1406 481 1766 481 \r\n",
       "L 2356 481 \r\n",
       "L 2356 0 \r\n",
       "L 1766 0 \r\n",
       "Q 1100 0 847 248 \r\n",
       "Q 594 497 594 1153 \r\n",
       "L 594 3053 \r\n",
       "L 172 3053 \r\n",
       "L 172 3500 \r\n",
       "L 594 3500 \r\n",
       "L 594 4494 \r\n",
       "L 1172 4494 \r\n",
       "z\r\n",
       "\" id=\"DejaVuSans-74\" transform=\"scale(0.015625)\"/>\r\n",
       "       <path id=\"DejaVuSans-20\" transform=\"scale(0.015625)\"/>\r\n",
       "       <path d=\"M 603 4863 \r\n",
       "L 1178 4863 \r\n",
       "L 1178 0 \r\n",
       "L 603 0 \r\n",
       "L 603 4863 \r\n",
       "z\r\n",
       "\" id=\"DejaVuSans-6c\" transform=\"scale(0.015625)\"/>\r\n",
       "       <path d=\"M 603 3500 \r\n",
       "L 1178 3500 \r\n",
       "L 1178 0 \r\n",
       "L 603 0 \r\n",
       "L 603 3500 \r\n",
       "z\r\n",
       "M 603 4863 \r\n",
       "L 1178 4863 \r\n",
       "L 1178 4134 \r\n",
       "L 603 4134 \r\n",
       "L 603 4863 \r\n",
       "z\r\n",
       "\" id=\"DejaVuSans-69\" transform=\"scale(0.015625)\"/>\r\n",
       "       <path d=\"M 678 2906 \r\n",
       "L 4684 2906 \r\n",
       "L 4684 2381 \r\n",
       "L 678 2381 \r\n",
       "L 678 2906 \r\n",
       "z\r\n",
       "M 678 1631 \r\n",
       "L 4684 1631 \r\n",
       "L 4684 1100 \r\n",
       "L 678 1100 \r\n",
       "L 678 1631 \r\n",
       "z\r\n",
       "\" id=\"DejaVuSans-3d\" transform=\"scale(0.015625)\"/>\r\n",
       "      </defs>\r\n",
       "      <use xlink:href=\"#DejaVuSans-54\"/>\r\n",
       "      <use x=\"44.583984\" xlink:href=\"#DejaVuSans-61\"/>\r\n",
       "      <use x=\"105.863281\" xlink:href=\"#DejaVuSans-6e\"/>\r\n",
       "      <use x=\"169.242188\" xlink:href=\"#DejaVuSans-67\"/>\r\n",
       "      <use x=\"232.71875\" xlink:href=\"#DejaVuSans-65\"/>\r\n",
       "      <use x=\"294.242188\" xlink:href=\"#DejaVuSans-6e\"/>\r\n",
       "      <use x=\"357.621094\" xlink:href=\"#DejaVuSans-74\"/>\r\n",
       "      <use x=\"396.830078\" xlink:href=\"#DejaVuSans-20\"/>\r\n",
       "      <use x=\"428.617188\" xlink:href=\"#DejaVuSans-6c\"/>\r\n",
       "      <use x=\"456.400391\" xlink:href=\"#DejaVuSans-69\"/>\r\n",
       "      <use x=\"484.183594\" xlink:href=\"#DejaVuSans-6e\"/>\r\n",
       "      <use x=\"547.5625\" xlink:href=\"#DejaVuSans-65\"/>\r\n",
       "      <use x=\"609.085938\" xlink:href=\"#DejaVuSans-20\"/>\r\n",
       "      <use x=\"640.873047\" xlink:href=\"#DejaVuSans-28\"/>\r\n",
       "      <use x=\"679.886719\" xlink:href=\"#DejaVuSans-78\"/>\r\n",
       "      <use x=\"739.066406\" xlink:href=\"#DejaVuSans-3d\"/>\r\n",
       "      <use x=\"822.855469\" xlink:href=\"#DejaVuSans-31\"/>\r\n",
       "      <use x=\"886.478516\" xlink:href=\"#DejaVuSans-29\"/>\r\n",
       "     </g>\r\n",
       "    </g>\r\n",
       "   </g>\r\n",
       "  </g>\r\n",
       " </g>\r\n",
       " <defs>\r\n",
       "  <clipPath id=\"p82291074b1\">\r\n",
       "   <rect height=\"135.9\" width=\"195.3\" x=\"40.603125\" y=\"7.2\"/>\r\n",
       "  </clipPath>\r\n",
       " </defs>\r\n",
       "</svg>\r\n"
      ],
      "text/plain": [
       "<Figure size 252x180 with 1 Axes>"
      ]
     },
     "metadata": {
      "needs_background": "light"
     },
     "output_type": "display_data"
    }
   ],
   "source": [
    "x = np.arange(0, 3, 0.1)\n",
    "plot(x, [f(x), 2 * x - 3], 'x', 'f(x)', legend=['f(x)', 'Tangent line (x=1)'])"
   ]
  },
  {
   "cell_type": "markdown",
   "metadata": {
    "origin_pos": 0
   },
   "source": [
    "# Linear Algebra\n",
    ":label:`sec_linear-algebra`\n",
    "\n",
    "\n",
    "Now that you can store and manipulate data,\n",
    "let us briefly review the subset of basic linear algebra\n",
    "that you will need to understand and implement\n",
    "most of models covered in this book.\n",
    "Below, we introduce the basic mathematical objects, arithmetic,\n",
    "and operations in linear algebra,\n",
    "expressing each of them through mathematical notation\n",
    "and the corresponding implementation in code.\n",
    "\n",
    "## Scalars\n",
    "\n",
    "If you never studied linear algebra or machine learning,\n",
    "then your past experience with math probably consisted\n",
    "of thinking about one number at a time.\n",
    "And, if you ever balanced a checkbook\n",
    "or even paid for dinner at a restaurant\n",
    "then you already know how to do basic things\n",
    "like adding and multiplying pairs of numbers.\n",
    "For example, the temperature in Palo Alto is $52$ degrees Fahrenheit.\n",
    "Formally, we call values consisting\n",
    "of just one numerical quantity *scalars*.\n",
    "If you wanted to convert this value to Celsius\n",
    "(the metric system's more sensible temperature scale),\n",
    "you would evaluate the expression $c = \\frac{5}{9}(f - 32)$, setting $f$ to $52$.\n",
    "In this equation, each of the terms---$5$, $9$, and $32$---are scalar values.\n",
    "The placeholders $c$ and $f$ are called *variables*\n",
    "and they represent unknown scalar values.\n",
    "\n",
    "In this book, we adopt the mathematical notation\n",
    "where scalar variables are denoted\n",
    "by ordinary lower-cased letters (e.g., $x$, $y$, and $z$).\n",
    "We denote the space of all (continuous) *real-valued* scalars by $\\mathbb{R}$.\n",
    "For expedience, we will punt on rigorous definitions\n",
    "of what precisely *space* is,\n",
    "but just remember for now that the expression $x \\in \\mathbb{R}$\n",
    "is a formal way to say that $x$ is a real-valued scalar.\n",
    "The symbol $\\in$ can be pronounced \"in\"\n",
    "and simply denotes membership in a set.\n",
    "Analogously, we could write $x, y \\in \\{0, 1\\}$\n",
    "to state that $x$ and $y$ are numbers\n",
    "whose value can only be $0$ or $1$.\n",
    "\n",
    "(**A scalar is represented by a tensor with just one element.**)\n",
    "In the next snippet, we instantiate two scalars\n",
    "and perform some familiar arithmetic operations with them,\n",
    "namely addition, multiplication, division, and exponentiation.\n"
   ]
  },
  {
   "cell_type": "code",
   "execution_count": 21,
   "metadata": {
    "origin_pos": 2,
    "tab": [
     "pytorch"
    ]
   },
   "outputs": [
    {
     "data": {
      "text/plain": [
       "(tensor(5.), tensor(6.), tensor(1.5000), tensor(9.))"
      ]
     },
     "execution_count": 21,
     "metadata": {},
     "output_type": "execute_result"
    }
   ],
   "source": [
    "import torch\n",
    "\n",
    "x = torch.tensor(3.0)\n",
    "y = torch.tensor(2.0)\n",
    "\n",
    "x + y, x * y, x / y, x**y"
   ]
  },
  {
   "cell_type": "code",
   "execution_count": 22,
   "metadata": {
    "origin_pos": 6,
    "tab": [
     "pytorch"
    ]
   },
   "outputs": [
    {
     "data": {
      "text/plain": [
       "tensor([0, 1, 2, 3])"
      ]
     },
     "execution_count": 22,
     "metadata": {},
     "output_type": "execute_result"
    }
   ],
   "source": [
    "x = torch.arange(4)\n",
    "x"
   ]
  },
  {
   "cell_type": "code",
   "execution_count": 23,
   "metadata": {
    "origin_pos": 10,
    "tab": [
     "pytorch"
    ]
   },
   "outputs": [
    {
     "data": {
      "text/plain": [
       "tensor(3)"
      ]
     },
     "execution_count": 23,
     "metadata": {},
     "output_type": "execute_result"
    }
   ],
   "source": [
    "x[3]"
   ]
  },
  {
   "cell_type": "code",
   "execution_count": 24,
   "metadata": {
    "origin_pos": 14,
    "tab": [
     "pytorch"
    ]
   },
   "outputs": [
    {
     "data": {
      "text/plain": [
       "4"
      ]
     },
     "execution_count": 24,
     "metadata": {},
     "output_type": "execute_result"
    }
   ],
   "source": [
    "len(x)"
   ]
  },
  {
   "cell_type": "code",
   "execution_count": 25,
   "metadata": {
    "origin_pos": 18,
    "tab": [
     "pytorch"
    ]
   },
   "outputs": [
    {
     "data": {
      "text/plain": [
       "torch.Size([4])"
      ]
     },
     "execution_count": 25,
     "metadata": {},
     "output_type": "execute_result"
    }
   ],
   "source": [
    "x.shape"
   ]
  },
  {
   "cell_type": "code",
   "execution_count": 26,
   "metadata": {
    "origin_pos": 22,
    "tab": [
     "pytorch"
    ]
   },
   "outputs": [
    {
     "data": {
      "text/plain": [
       "tensor([[ 0,  1,  2,  3],\n",
       "        [ 4,  5,  6,  7],\n",
       "        [ 8,  9, 10, 11],\n",
       "        [12, 13, 14, 15],\n",
       "        [16, 17, 18, 19]])"
      ]
     },
     "execution_count": 26,
     "metadata": {},
     "output_type": "execute_result"
    }
   ],
   "source": [
    "A = torch.arange(20).reshape(5, 4)\n",
    "A"
   ]
  },
  {
   "cell_type": "code",
   "execution_count": 27,
   "metadata": {
    "origin_pos": 26,
    "tab": [
     "pytorch"
    ]
   },
   "outputs": [
    {
     "data": {
      "text/plain": [
       "tensor([[ 0,  4,  8, 12, 16],\n",
       "        [ 1,  5,  9, 13, 17],\n",
       "        [ 2,  6, 10, 14, 18],\n",
       "        [ 3,  7, 11, 15, 19]])"
      ]
     },
     "execution_count": 27,
     "metadata": {},
     "output_type": "execute_result"
    }
   ],
   "source": [
    "A.T"
   ]
  },
  {
   "cell_type": "code",
   "execution_count": 28,
   "metadata": {
    "origin_pos": 30,
    "tab": [
     "pytorch"
    ]
   },
   "outputs": [
    {
     "data": {
      "text/plain": [
       "tensor([[1, 2, 3],\n",
       "        [2, 0, 4],\n",
       "        [3, 4, 5]])"
      ]
     },
     "execution_count": 28,
     "metadata": {},
     "output_type": "execute_result"
    }
   ],
   "source": [
    "B = torch.tensor([[1, 2, 3], [2, 0, 4], [3, 4, 5]])\n",
    "B"
   ]
  },
  {
   "cell_type": "code",
   "execution_count": 29,
   "metadata": {
    "origin_pos": 34,
    "tab": [
     "pytorch"
    ]
   },
   "outputs": [
    {
     "data": {
      "text/plain": [
       "tensor([[True, True, True],\n",
       "        [True, True, True],\n",
       "        [True, True, True]])"
      ]
     },
     "execution_count": 29,
     "metadata": {},
     "output_type": "execute_result"
    }
   ],
   "source": [
    "B == B.T"
   ]
  },
  {
   "cell_type": "code",
   "execution_count": 30,
   "metadata": {
    "origin_pos": 38,
    "tab": [
     "pytorch"
    ]
   },
   "outputs": [
    {
     "data": {
      "text/plain": [
       "tensor([[[ 0,  1,  2,  3],\n",
       "         [ 4,  5,  6,  7],\n",
       "         [ 8,  9, 10, 11]],\n",
       "\n",
       "        [[12, 13, 14, 15],\n",
       "         [16, 17, 18, 19],\n",
       "         [20, 21, 22, 23]]])"
      ]
     },
     "execution_count": 30,
     "metadata": {},
     "output_type": "execute_result"
    }
   ],
   "source": [
    "X = torch.arange(24).reshape(2, 3, 4)\n",
    "X"
   ]
  },
  {
   "cell_type": "code",
   "execution_count": 31,
   "metadata": {
    "origin_pos": 42,
    "tab": [
     "pytorch"
    ]
   },
   "outputs": [
    {
     "data": {
      "text/plain": [
       "(tensor([[ 0.,  1.,  2.,  3.],\n",
       "         [ 4.,  5.,  6.,  7.],\n",
       "         [ 8.,  9., 10., 11.],\n",
       "         [12., 13., 14., 15.],\n",
       "         [16., 17., 18., 19.]]),\n",
       " tensor([[ 0.,  2.,  4.,  6.],\n",
       "         [ 8., 10., 12., 14.],\n",
       "         [16., 18., 20., 22.],\n",
       "         [24., 26., 28., 30.],\n",
       "         [32., 34., 36., 38.]]))"
      ]
     },
     "execution_count": 31,
     "metadata": {},
     "output_type": "execute_result"
    }
   ],
   "source": [
    "A = torch.arange(20, dtype=torch.float32).reshape(5, 4)\n",
    "B = A.clone()  # Assign a copy of `A` to `B` by allocating new memory\n",
    "A, A + B"
   ]
  },
  {
   "cell_type": "code",
   "execution_count": 32,
   "metadata": {
    "origin_pos": 46,
    "tab": [
     "pytorch"
    ]
   },
   "outputs": [
    {
     "data": {
      "text/plain": [
       "tensor([[  0.,   1.,   4.,   9.],\n",
       "        [ 16.,  25.,  36.,  49.],\n",
       "        [ 64.,  81., 100., 121.],\n",
       "        [144., 169., 196., 225.],\n",
       "        [256., 289., 324., 361.]])"
      ]
     },
     "execution_count": 32,
     "metadata": {},
     "output_type": "execute_result"
    }
   ],
   "source": [
    "A * B"
   ]
  },
  {
   "cell_type": "code",
   "execution_count": 33,
   "metadata": {
    "origin_pos": 50,
    "tab": [
     "pytorch"
    ]
   },
   "outputs": [
    {
     "data": {
      "text/plain": [
       "(tensor([[[ 2,  3,  4,  5],\n",
       "          [ 6,  7,  8,  9],\n",
       "          [10, 11, 12, 13]],\n",
       " \n",
       "         [[14, 15, 16, 17],\n",
       "          [18, 19, 20, 21],\n",
       "          [22, 23, 24, 25]]]),\n",
       " torch.Size([2, 3, 4]))"
      ]
     },
     "execution_count": 33,
     "metadata": {},
     "output_type": "execute_result"
    }
   ],
   "source": [
    "a = 2\n",
    "X = torch.arange(24).reshape(2, 3, 4)\n",
    "a + X, (a * X).shape"
   ]
  },
  {
   "cell_type": "code",
   "execution_count": 34,
   "metadata": {
    "origin_pos": 54,
    "tab": [
     "pytorch"
    ]
   },
   "outputs": [
    {
     "data": {
      "text/plain": [
       "(tensor([0., 1., 2., 3.]), tensor(6.))"
      ]
     },
     "execution_count": 34,
     "metadata": {},
     "output_type": "execute_result"
    }
   ],
   "source": [
    "x = torch.arange(4, dtype=torch.float32)\n",
    "x, x.sum()"
   ]
  },
  {
   "cell_type": "code",
   "execution_count": 35,
   "metadata": {
    "origin_pos": 58,
    "tab": [
     "pytorch"
    ]
   },
   "outputs": [
    {
     "data": {
      "text/plain": [
       "(torch.Size([5, 4]), tensor(190.))"
      ]
     },
     "execution_count": 35,
     "metadata": {},
     "output_type": "execute_result"
    }
   ],
   "source": [
    "A.shape, A.sum()"
   ]
  },
  {
   "cell_type": "code",
   "execution_count": 36,
   "metadata": {
    "origin_pos": 62,
    "tab": [
     "pytorch"
    ]
   },
   "outputs": [
    {
     "data": {
      "text/plain": [
       "(tensor([40., 45., 50., 55.]), torch.Size([4]))"
      ]
     },
     "execution_count": 36,
     "metadata": {},
     "output_type": "execute_result"
    }
   ],
   "source": [
    "A_sum_axis0 = A.sum(axis=0)\n",
    "A_sum_axis0, A_sum_axis0.shape"
   ]
  },
  {
   "cell_type": "code",
   "execution_count": 37,
   "metadata": {
    "origin_pos": 66,
    "tab": [
     "pytorch"
    ]
   },
   "outputs": [
    {
     "data": {
      "text/plain": [
       "(tensor([ 6., 22., 38., 54., 70.]), torch.Size([5]))"
      ]
     },
     "execution_count": 37,
     "metadata": {},
     "output_type": "execute_result"
    }
   ],
   "source": [
    "A_sum_axis1 = A.sum(axis=1)\n",
    "A_sum_axis1, A_sum_axis1.shape"
   ]
  },
  {
   "cell_type": "code",
   "execution_count": 38,
   "metadata": {
    "origin_pos": 70,
    "tab": [
     "pytorch"
    ]
   },
   "outputs": [
    {
     "data": {
      "text/plain": [
       "tensor(190.)"
      ]
     },
     "execution_count": 38,
     "metadata": {},
     "output_type": "execute_result"
    }
   ],
   "source": [
    "A.sum(axis=[0, 1])  # Same as `A.sum()`"
   ]
  },
  {
   "cell_type": "code",
   "execution_count": 39,
   "metadata": {
    "origin_pos": 74,
    "tab": [
     "pytorch"
    ]
   },
   "outputs": [
    {
     "data": {
      "text/plain": [
       "(tensor(9.5000), tensor(9.5000))"
      ]
     },
     "execution_count": 39,
     "metadata": {},
     "output_type": "execute_result"
    }
   ],
   "source": [
    "A.mean(), A.sum() / A.numel()"
   ]
  },
  {
   "cell_type": "code",
   "execution_count": 40,
   "metadata": {
    "origin_pos": 78,
    "tab": [
     "pytorch"
    ]
   },
   "outputs": [
    {
     "data": {
      "text/plain": [
       "(tensor([ 8.,  9., 10., 11.]), tensor([ 8.,  9., 10., 11.]))"
      ]
     },
     "execution_count": 40,
     "metadata": {},
     "output_type": "execute_result"
    }
   ],
   "source": [
    "A.mean(axis=0), A.sum(axis=0) / A.shape[0]"
   ]
  },
  {
   "cell_type": "code",
   "execution_count": 41,
   "metadata": {
    "origin_pos": 82,
    "tab": [
     "pytorch"
    ]
   },
   "outputs": [
    {
     "data": {
      "text/plain": [
       "tensor([[ 6.],\n",
       "        [22.],\n",
       "        [38.],\n",
       "        [54.],\n",
       "        [70.]])"
      ]
     },
     "execution_count": 41,
     "metadata": {},
     "output_type": "execute_result"
    }
   ],
   "source": [
    "sum_A = A.sum(axis=1, keepdims=True)\n",
    "sum_A"
   ]
  },
  {
   "cell_type": "code",
   "execution_count": 42,
   "metadata": {
    "origin_pos": 86,
    "tab": [
     "pytorch"
    ]
   },
   "outputs": [
    {
     "data": {
      "text/plain": [
       "tensor([[0.0000, 0.1667, 0.3333, 0.5000],\n",
       "        [0.1818, 0.2273, 0.2727, 0.3182],\n",
       "        [0.2105, 0.2368, 0.2632, 0.2895],\n",
       "        [0.2222, 0.2407, 0.2593, 0.2778],\n",
       "        [0.2286, 0.2429, 0.2571, 0.2714]])"
      ]
     },
     "execution_count": 42,
     "metadata": {},
     "output_type": "execute_result"
    }
   ],
   "source": [
    "A / sum_A"
   ]
  },
  {
   "cell_type": "code",
   "execution_count": 43,
   "metadata": {
    "origin_pos": 90,
    "tab": [
     "pytorch"
    ]
   },
   "outputs": [
    {
     "data": {
      "text/plain": [
       "tensor([[ 0.,  1.,  2.,  3.],\n",
       "        [ 4.,  6.,  8., 10.],\n",
       "        [12., 15., 18., 21.],\n",
       "        [24., 28., 32., 36.],\n",
       "        [40., 45., 50., 55.]])"
      ]
     },
     "execution_count": 43,
     "metadata": {},
     "output_type": "execute_result"
    }
   ],
   "source": [
    "A.cumsum(axis=0)"
   ]
  },
  {
   "cell_type": "code",
   "execution_count": 44,
   "metadata": {
    "origin_pos": 94,
    "tab": [
     "pytorch"
    ]
   },
   "outputs": [
    {
     "data": {
      "text/plain": [
       "(tensor([0., 1., 2., 3.]), tensor([1., 1., 1., 1.]), tensor(6.))"
      ]
     },
     "execution_count": 44,
     "metadata": {},
     "output_type": "execute_result"
    }
   ],
   "source": [
    "y = torch.ones(4, dtype=torch.float32)\n",
    "x, y, torch.dot(x, y)"
   ]
  },
  {
   "cell_type": "code",
   "execution_count": 45,
   "metadata": {
    "origin_pos": 98,
    "tab": [
     "pytorch"
    ]
   },
   "outputs": [
    {
     "data": {
      "text/plain": [
       "tensor(6.)"
      ]
     },
     "execution_count": 45,
     "metadata": {},
     "output_type": "execute_result"
    }
   ],
   "source": [
    "torch.sum(x * y)"
   ]
  },
  {
   "cell_type": "code",
   "execution_count": 46,
   "metadata": {
    "origin_pos": 105,
    "tab": [
     "pytorch"
    ]
   },
   "outputs": [
    {
     "data": {
      "text/plain": [
       "(torch.Size([5, 4]), torch.Size([4]), tensor([ 14.,  38.,  62.,  86., 110.]))"
      ]
     },
     "execution_count": 46,
     "metadata": {},
     "output_type": "execute_result"
    }
   ],
   "source": [
    "A.shape, x.shape, torch.mv(A, x)"
   ]
  },
  {
   "cell_type": "code",
   "execution_count": 47,
   "metadata": {
    "origin_pos": 109,
    "tab": [
     "pytorch"
    ]
   },
   "outputs": [
    {
     "data": {
      "text/plain": [
       "tensor([[ 6.,  6.,  6.],\n",
       "        [22., 22., 22.],\n",
       "        [38., 38., 38.],\n",
       "        [54., 54., 54.],\n",
       "        [70., 70., 70.]])"
      ]
     },
     "execution_count": 47,
     "metadata": {},
     "output_type": "execute_result"
    }
   ],
   "source": [
    "B = torch.ones(4, 3)\n",
    "torch.mm(A, B)"
   ]
  },
  {
   "cell_type": "code",
   "execution_count": 48,
   "metadata": {
    "origin_pos": 113,
    "tab": [
     "pytorch"
    ]
   },
   "outputs": [
    {
     "data": {
      "text/plain": [
       "tensor(5.)"
      ]
     },
     "execution_count": 48,
     "metadata": {},
     "output_type": "execute_result"
    }
   ],
   "source": [
    "u = torch.tensor([3.0, -4.0])\n",
    "torch.norm(u)"
   ]
  },
  {
   "cell_type": "code",
   "execution_count": 49,
   "metadata": {
    "origin_pos": 117,
    "tab": [
     "pytorch"
    ]
   },
   "outputs": [
    {
     "data": {
      "text/plain": [
       "tensor(7.)"
      ]
     },
     "execution_count": 49,
     "metadata": {},
     "output_type": "execute_result"
    }
   ],
   "source": [
    "torch.abs(u).sum()"
   ]
  },
  {
   "cell_type": "code",
   "execution_count": 50,
   "metadata": {
    "origin_pos": 121,
    "tab": [
     "pytorch"
    ]
   },
   "outputs": [
    {
     "data": {
      "text/plain": [
       "tensor(6.)"
      ]
     },
     "execution_count": 50,
     "metadata": {},
     "output_type": "execute_result"
    }
   ],
   "source": [
    "torch.norm(torch.ones((4, 9)))"
   ]
  },
  {
   "cell_type": "markdown",
   "metadata": {
    "origin_pos": 4
   },
   "source": [
    "## Finding All the Functions and Classes in a Module\n",
    "\n",
    "In order to know which functions and classes can be called in a module, we\n",
    "invoke the `dir` function. For instance, we can (**query all properties in the\n",
    "module for generating random numbers**):\n"
   ]
  },
  {
   "cell_type": "code",
   "execution_count": 51,
   "metadata": {
    "attributes": {
     "classes": [],
     "id": "",
     "n": "1"
    },
    "origin_pos": 6,
    "tab": [
     "pytorch"
    ]
   },
   "outputs": [
    {
     "name": "stdout",
     "output_type": "stream",
     "text": [
      "['AbsTransform', 'AffineTransform', 'Bernoulli', 'Beta', 'Binomial', 'CatTransform', 'Categorical', 'Cauchy', 'Chi2', 'ComposeTransform', 'ContinuousBernoulli', 'CorrCholeskyTransform', 'Dirichlet', 'Distribution', 'ExpTransform', 'Exponential', 'ExponentialFamily', 'FisherSnedecor', 'Gamma', 'Geometric', 'Gumbel', 'HalfCauchy', 'HalfNormal', 'Independent', 'IndependentTransform', 'Kumaraswamy', 'LKJCholesky', 'Laplace', 'LogNormal', 'LogisticNormal', 'LowRankMultivariateNormal', 'LowerCholeskyTransform', 'MixtureSameFamily', 'Multinomial', 'MultivariateNormal', 'NegativeBinomial', 'Normal', 'OneHotCategorical', 'OneHotCategoricalStraightThrough', 'Pareto', 'Poisson', 'PowerTransform', 'RelaxedBernoulli', 'RelaxedOneHotCategorical', 'ReshapeTransform', 'SigmoidTransform', 'SoftmaxTransform', 'StackTransform', 'StickBreakingTransform', 'StudentT', 'TanhTransform', 'Transform', 'TransformedDistribution', 'Uniform', 'VonMises', 'Weibull', '__all__', '__builtins__', '__cached__', '__doc__', '__file__', '__loader__', '__name__', '__package__', '__path__', '__spec__', 'bernoulli', 'beta', 'biject_to', 'binomial', 'categorical', 'cauchy', 'chi2', 'constraint_registry', 'constraints', 'continuous_bernoulli', 'dirichlet', 'distribution', 'exp_family', 'exponential', 'fishersnedecor', 'gamma', 'geometric', 'gumbel', 'half_cauchy', 'half_normal', 'identity_transform', 'independent', 'kl', 'kl_divergence', 'kumaraswamy', 'laplace', 'lkj_cholesky', 'log_normal', 'logistic_normal', 'lowrank_multivariate_normal', 'mixture_same_family', 'multinomial', 'multivariate_normal', 'negative_binomial', 'normal', 'one_hot_categorical', 'pareto', 'poisson', 'register_kl', 'relaxed_bernoulli', 'relaxed_categorical', 'studentT', 'transform_to', 'transformed_distribution', 'transforms', 'uniform', 'utils', 'von_mises', 'weibull']\n"
     ]
    }
   ],
   "source": [
    "import torch\n",
    "\n",
    "print(dir(torch.distributions))"
   ]
  },
  {
   "cell_type": "code",
   "execution_count": 52,
   "metadata": {
    "origin_pos": 14,
    "tab": [
     "pytorch"
    ]
   },
   "outputs": [
    {
     "data": {
      "text/plain": [
       "tensor([1., 1., 1., 1.])"
      ]
     },
     "execution_count": 52,
     "metadata": {},
     "output_type": "execute_result"
    }
   ],
   "source": [
    "torch.ones(4)"
   ]
  },
  {
   "cell_type": "markdown",
   "metadata": {
    "origin_pos": 0
   },
   "source": [
    "# Data Manipulation\n",
    ":label:`sec_ndarray`\n",
    "\n",
    "In order to get anything done, we need some way to store and manipulate data.\n",
    "Generally, there are two important things we need to do with data: (i) acquire\n",
    "them; and (ii) process them once they are inside the computer.  There is no\n",
    "point in acquiring data without some way to store it, so let us get our hands\n",
    "dirty first by playing with synthetic data.  To start, we introduce the\n",
    "$n$-dimensional array, which is also called the *tensor*.\n",
    "\n",
    "If you have worked with NumPy, the most widely-used\n",
    "scientific computing package in Python,\n",
    "then you will find this section familiar.\n",
    "No matter which framework you use,\n",
    "its *tensor class* (`ndarray` in MXNet,\n",
    "`Tensor` in both PyTorch and TensorFlow) is similar to NumPy's `ndarray` with\n",
    "a few killer features.\n",
    "First, GPU is well-supported to accelerate the computation\n",
    "whereas NumPy only supports CPU computation.\n",
    "Second, the tensor class\n",
    "supports automatic differentiation.\n",
    "These properties make the tensor class suitable for deep learning.\n",
    "Throughout the book, when we say tensors,\n",
    "we are referring to instances of the tensor class unless otherwise stated.\n",
    "\n",
    "## Getting Started\n",
    "\n",
    "In this section, we aim to get you up and running,\n",
    "equipping you with the basic math and numerical computing tools\n",
    "that you will build on as you progress through the book.\n",
    "Do not worry if you struggle to grok some of\n",
    "the mathematical concepts or library functions.\n",
    "The following sections will revisit this material\n",
    "in the context of practical examples and it will sink in.\n",
    "On the other hand, if you already have some background\n",
    "and want to go deeper into the mathematical content, just skip this section.\n"
   ]
  },
  {
   "cell_type": "code",
   "execution_count": 53,
   "metadata": {
    "origin_pos": 5,
    "tab": [
     "pytorch"
    ]
   },
   "outputs": [],
   "source": [
    "import torch"
   ]
  },
  {
   "cell_type": "code",
   "execution_count": 54,
   "metadata": {
    "origin_pos": 9,
    "tab": [
     "pytorch"
    ]
   },
   "outputs": [
    {
     "data": {
      "text/plain": [
       "tensor([ 0,  1,  2,  3,  4,  5,  6,  7,  8,  9, 10, 11])"
      ]
     },
     "execution_count": 54,
     "metadata": {},
     "output_type": "execute_result"
    }
   ],
   "source": [
    "x = torch.arange(12)\n",
    "x"
   ]
  },
  {
   "cell_type": "code",
   "execution_count": 55,
   "metadata": {
    "origin_pos": 12,
    "tab": [
     "pytorch"
    ]
   },
   "outputs": [
    {
     "data": {
      "text/plain": [
       "torch.Size([12])"
      ]
     },
     "execution_count": 55,
     "metadata": {},
     "output_type": "execute_result"
    }
   ],
   "source": [
    "x.shape"
   ]
  },
  {
   "cell_type": "code",
   "execution_count": 56,
   "metadata": {
    "origin_pos": 15,
    "tab": [
     "pytorch"
    ]
   },
   "outputs": [
    {
     "data": {
      "text/plain": [
       "12"
      ]
     },
     "execution_count": 56,
     "metadata": {},
     "output_type": "execute_result"
    }
   ],
   "source": [
    "x.numel()"
   ]
  },
  {
   "cell_type": "code",
   "execution_count": 57,
   "metadata": {
    "origin_pos": 18,
    "tab": [
     "pytorch"
    ]
   },
   "outputs": [
    {
     "data": {
      "text/plain": [
       "tensor([[ 0,  1,  2,  3],\n",
       "        [ 4,  5,  6,  7],\n",
       "        [ 8,  9, 10, 11]])"
      ]
     },
     "execution_count": 57,
     "metadata": {},
     "output_type": "execute_result"
    }
   ],
   "source": [
    "X = x.reshape(3, 4)\n",
    "X"
   ]
  },
  {
   "cell_type": "code",
   "execution_count": 58,
   "metadata": {
    "origin_pos": 22,
    "tab": [
     "pytorch"
    ]
   },
   "outputs": [
    {
     "data": {
      "text/plain": [
       "tensor([[[0., 0., 0., 0.],\n",
       "         [0., 0., 0., 0.],\n",
       "         [0., 0., 0., 0.]],\n",
       "\n",
       "        [[0., 0., 0., 0.],\n",
       "         [0., 0., 0., 0.],\n",
       "         [0., 0., 0., 0.]]])"
      ]
     },
     "execution_count": 58,
     "metadata": {},
     "output_type": "execute_result"
    }
   ],
   "source": [
    "torch.zeros((2, 3, 4))"
   ]
  },
  {
   "cell_type": "code",
   "execution_count": 59,
   "metadata": {
    "origin_pos": 26,
    "tab": [
     "pytorch"
    ]
   },
   "outputs": [
    {
     "data": {
      "text/plain": [
       "tensor([[[1., 1., 1., 1.],\n",
       "         [1., 1., 1., 1.],\n",
       "         [1., 1., 1., 1.]],\n",
       "\n",
       "        [[1., 1., 1., 1.],\n",
       "         [1., 1., 1., 1.],\n",
       "         [1., 1., 1., 1.]]])"
      ]
     },
     "execution_count": 59,
     "metadata": {},
     "output_type": "execute_result"
    }
   ],
   "source": [
    "torch.ones((2, 3, 4))"
   ]
  },
  {
   "cell_type": "code",
   "execution_count": 60,
   "metadata": {
    "origin_pos": 30,
    "tab": [
     "pytorch"
    ]
   },
   "outputs": [
    {
     "data": {
      "text/plain": [
       "tensor([[-0.5072, -1.5148, -0.2493,  1.0498],\n",
       "        [-0.2103,  0.1846, -0.3283, -1.2779],\n",
       "        [-0.8542, -1.3083, -1.9118,  0.4957]])"
      ]
     },
     "execution_count": 60,
     "metadata": {},
     "output_type": "execute_result"
    }
   ],
   "source": [
    "torch.randn(3, 4)"
   ]
  },
  {
   "cell_type": "code",
   "execution_count": 61,
   "metadata": {
    "origin_pos": 34,
    "tab": [
     "pytorch"
    ]
   },
   "outputs": [
    {
     "data": {
      "text/plain": [
       "tensor([[2, 1, 4, 3],\n",
       "        [1, 2, 3, 4],\n",
       "        [4, 3, 2, 1]])"
      ]
     },
     "execution_count": 61,
     "metadata": {},
     "output_type": "execute_result"
    }
   ],
   "source": [
    "torch.tensor([[2, 1, 4, 3], [1, 2, 3, 4], [4, 3, 2, 1]])"
   ]
  },
  {
   "cell_type": "code",
   "execution_count": 62,
   "metadata": {
    "origin_pos": 38,
    "tab": [
     "pytorch"
    ]
   },
   "outputs": [
    {
     "data": {
      "text/plain": [
       "(tensor([ 3.,  4.,  6., 10.]),\n",
       " tensor([-1.,  0.,  2.,  6.]),\n",
       " tensor([ 2.,  4.,  8., 16.]),\n",
       " tensor([0.5000, 1.0000, 2.0000, 4.0000]),\n",
       " tensor([ 1.,  4., 16., 64.]))"
      ]
     },
     "execution_count": 62,
     "metadata": {},
     "output_type": "execute_result"
    }
   ],
   "source": [
    "x = torch.tensor([1.0, 2, 4, 8])\n",
    "y = torch.tensor([2, 2, 2, 2])\n",
    "x + y, x - y, x * y, x / y, x**y  # The ** operator is exponentiation"
   ]
  },
  {
   "cell_type": "markdown",
   "metadata": {
    "origin_pos": 40
   },
   "source": [
    "Many (**more operations can be applied elementwise**),\n",
    "including unary operators like exponentiation.\n"
   ]
  },
  {
   "cell_type": "code",
   "execution_count": 63,
   "metadata": {
    "origin_pos": 42,
    "tab": [
     "pytorch"
    ]
   },
   "outputs": [
    {
     "data": {
      "text/plain": [
       "tensor([2.7183e+00, 7.3891e+00, 5.4598e+01, 2.9810e+03])"
      ]
     },
     "execution_count": 63,
     "metadata": {},
     "output_type": "execute_result"
    }
   ],
   "source": [
    "torch.exp(x)"
   ]
  },
  {
   "cell_type": "code",
   "execution_count": 64,
   "metadata": {
    "origin_pos": 46,
    "tab": [
     "pytorch"
    ]
   },
   "outputs": [
    {
     "data": {
      "text/plain": [
       "(tensor([[ 0.,  1.,  2.,  3.],\n",
       "         [ 4.,  5.,  6.,  7.],\n",
       "         [ 8.,  9., 10., 11.],\n",
       "         [ 2.,  1.,  4.,  3.],\n",
       "         [ 1.,  2.,  3.,  4.],\n",
       "         [ 4.,  3.,  2.,  1.]]),\n",
       " tensor([[ 0.,  1.,  2.,  3.,  2.,  1.,  4.,  3.],\n",
       "         [ 4.,  5.,  6.,  7.,  1.,  2.,  3.,  4.],\n",
       "         [ 8.,  9., 10., 11.,  4.,  3.,  2.,  1.]]))"
      ]
     },
     "execution_count": 64,
     "metadata": {},
     "output_type": "execute_result"
    }
   ],
   "source": [
    "X = torch.arange(12, dtype=torch.float32).reshape((3, 4))\n",
    "Y = torch.tensor([[2.0, 1, 4, 3], [1, 2, 3, 4], [4, 3, 2, 1]])\n",
    "torch.cat((X, Y), dim=0), torch.cat((X, Y), dim=1)"
   ]
  },
  {
   "cell_type": "code",
   "execution_count": 65,
   "metadata": {
    "origin_pos": 49,
    "tab": [
     "pytorch"
    ]
   },
   "outputs": [
    {
     "data": {
      "text/plain": [
       "tensor([[False,  True, False,  True],\n",
       "        [False, False, False, False],\n",
       "        [False, False, False, False]])"
      ]
     },
     "execution_count": 65,
     "metadata": {},
     "output_type": "execute_result"
    }
   ],
   "source": [
    "X == Y"
   ]
  },
  {
   "cell_type": "code",
   "execution_count": 66,
   "metadata": {
    "origin_pos": 51,
    "tab": [
     "pytorch"
    ]
   },
   "outputs": [
    {
     "data": {
      "text/plain": [
       "tensor(66.)"
      ]
     },
     "execution_count": 66,
     "metadata": {},
     "output_type": "execute_result"
    }
   ],
   "source": [
    "X.sum()"
   ]
  },
  {
   "cell_type": "code",
   "execution_count": 67,
   "metadata": {
    "origin_pos": 55,
    "tab": [
     "pytorch"
    ]
   },
   "outputs": [
    {
     "data": {
      "text/plain": [
       "(tensor([[0],\n",
       "         [1],\n",
       "         [2]]),\n",
       " tensor([[0, 1]]))"
      ]
     },
     "execution_count": 67,
     "metadata": {},
     "output_type": "execute_result"
    }
   ],
   "source": [
    "a = torch.arange(3).reshape((3, 1))\n",
    "b = torch.arange(2).reshape((1, 2))\n",
    "a, b"
   ]
  },
  {
   "cell_type": "code",
   "execution_count": 68,
   "metadata": {
    "origin_pos": 58,
    "tab": [
     "pytorch"
    ]
   },
   "outputs": [
    {
     "data": {
      "text/plain": [
       "tensor([[0, 1],\n",
       "        [1, 2],\n",
       "        [2, 3]])"
      ]
     },
     "execution_count": 68,
     "metadata": {},
     "output_type": "execute_result"
    }
   ],
   "source": [
    "a + b"
   ]
  },
  {
   "cell_type": "code",
   "execution_count": 69,
   "metadata": {
    "origin_pos": 60,
    "tab": [
     "pytorch"
    ]
   },
   "outputs": [
    {
     "data": {
      "text/plain": [
       "(tensor([ 8.,  9., 10., 11.]),\n",
       " tensor([[ 4.,  5.,  6.,  7.],\n",
       "         [ 8.,  9., 10., 11.]]))"
      ]
     },
     "execution_count": 69,
     "metadata": {},
     "output_type": "execute_result"
    }
   ],
   "source": [
    "X[-1], X[1:3]"
   ]
  },
  {
   "cell_type": "code",
   "execution_count": 70,
   "metadata": {
    "origin_pos": 63,
    "tab": [
     "pytorch"
    ]
   },
   "outputs": [
    {
     "data": {
      "text/plain": [
       "tensor([[ 0.,  1.,  2.,  3.],\n",
       "        [ 4.,  5.,  9.,  7.],\n",
       "        [ 8.,  9., 10., 11.]])"
      ]
     },
     "execution_count": 70,
     "metadata": {},
     "output_type": "execute_result"
    }
   ],
   "source": [
    "X[1, 2] = 9\n",
    "X"
   ]
  },
  {
   "cell_type": "code",
   "execution_count": 71,
   "metadata": {
    "origin_pos": 66,
    "tab": [
     "pytorch"
    ]
   },
   "outputs": [
    {
     "data": {
      "text/plain": [
       "tensor([[12., 12., 12., 12.],\n",
       "        [12., 12., 12., 12.],\n",
       "        [ 8.,  9., 10., 11.]])"
      ]
     },
     "execution_count": 71,
     "metadata": {},
     "output_type": "execute_result"
    }
   ],
   "source": [
    "X[0:2, :] = 12\n",
    "X"
   ]
  },
  {
   "cell_type": "code",
   "execution_count": 72,
   "metadata": {
    "origin_pos": 69,
    "tab": [
     "pytorch"
    ]
   },
   "outputs": [
    {
     "data": {
      "text/plain": [
       "False"
      ]
     },
     "execution_count": 72,
     "metadata": {},
     "output_type": "execute_result"
    }
   ],
   "source": [
    "before = id(Y)\n",
    "Y = Y + X\n",
    "id(Y) == before"
   ]
  },
  {
   "cell_type": "code",
   "execution_count": 73,
   "metadata": {
    "origin_pos": 74,
    "tab": [
     "pytorch"
    ]
   },
   "outputs": [
    {
     "name": "stdout",
     "output_type": "stream",
     "text": [
      "id(Z): 2697364841472\n",
      "id(Z): 2697364841472\n"
     ]
    }
   ],
   "source": [
    "Z = torch.zeros_like(Y)\n",
    "print('id(Z):', id(Z))\n",
    "Z[:] = X + Y\n",
    "print('id(Z):', id(Z))"
   ]
  },
  {
   "cell_type": "code",
   "execution_count": 74,
   "metadata": {
    "origin_pos": 78,
    "tab": [
     "pytorch"
    ]
   },
   "outputs": [
    {
     "data": {
      "text/plain": [
       "True"
      ]
     },
     "execution_count": 74,
     "metadata": {},
     "output_type": "execute_result"
    }
   ],
   "source": [
    "before = id(X)\n",
    "X += Y\n",
    "id(X) == before"
   ]
  },
  {
   "cell_type": "code",
   "execution_count": 75,
   "metadata": {
    "origin_pos": 84,
    "tab": [
     "pytorch"
    ]
   },
   "outputs": [
    {
     "data": {
      "text/plain": [
       "(numpy.ndarray, torch.Tensor)"
      ]
     },
     "execution_count": 75,
     "metadata": {},
     "output_type": "execute_result"
    }
   ],
   "source": [
    "A = X.numpy()\n",
    "B = torch.from_numpy(A)\n",
    "type(A), type(B)"
   ]
  },
  {
   "cell_type": "code",
   "execution_count": 76,
   "metadata": {
    "origin_pos": 88,
    "tab": [
     "pytorch"
    ]
   },
   "outputs": [
    {
     "data": {
      "text/plain": [
       "(tensor([3.5000]), 3.5, 3.5, 3)"
      ]
     },
     "execution_count": 76,
     "metadata": {},
     "output_type": "execute_result"
    }
   ],
   "source": [
    "a = torch.tensor([3.5])\n",
    "a, a.item(), float(a), int(a)"
   ]
  },
  {
   "cell_type": "markdown",
   "metadata": {
    "origin_pos": 0
   },
   "source": [
    "# Data Preprocessing\n",
    ":label:`sec_pandas`\n",
    "\n",
    "So far we have introduced a variety of techniques for manipulating data that are already stored in tensors.\n",
    "To apply deep learning to solving real-world problems,\n",
    "we often begin with preprocessing raw data, rather than those nicely prepared data in the tensor format.\n",
    "Among popular data analytic tools in Python, the `pandas` package is commonly used.\n",
    "Like many other extension packages in the vast ecosystem of Python,\n",
    "`pandas` can work together with tensors.\n",
    "So, we will briefly walk through steps for preprocessing raw data with `pandas`\n",
    "and converting them into the tensor format.\n",
    "We will cover more data preprocessing techniques in later chapters.\n",
    "\n",
    "## Reading the Dataset\n",
    "\n",
    "As an example,\n",
    "we begin by (**creating an artificial dataset that is stored in a\n",
    "csv (comma-separated values) file**)\n",
    "`../data/house_tiny.csv`. Data stored in other\n",
    "formats may be processed in similar ways.\n",
    "\n",
    "Below we write the dataset row by row into a csv file.\n"
   ]
  },
  {
   "cell_type": "code",
   "execution_count": 77,
   "metadata": {
    "origin_pos": 1,
    "tab": [
     "pytorch"
    ]
   },
   "outputs": [],
   "source": [
    "import os\n",
    "\n",
    "os.makedirs(os.path.join('..', 'data'), exist_ok=True)\n",
    "data_file = os.path.join('..', 'data', 'house_tiny.csv')\n",
    "with open(data_file, 'w') as f:\n",
    "    f.write('NumRooms,Alley,Price\\n')  # Column names\n",
    "    f.write('NA,Pave,127500\\n')  # Each row represents a data example\n",
    "    f.write('2,NA,106000\\n')\n",
    "    f.write('4,NA,178100\\n')\n",
    "    f.write('NA,NA,140000\\n')"
   ]
  },
  {
   "cell_type": "code",
   "execution_count": 78,
   "metadata": {
    "origin_pos": 3,
    "tab": [
     "pytorch"
    ]
   },
   "outputs": [
    {
     "name": "stdout",
     "output_type": "stream",
     "text": [
      "   NumRooms Alley   Price\n",
      "0       NaN  Pave  127500\n",
      "1       2.0   NaN  106000\n",
      "2       4.0   NaN  178100\n",
      "3       NaN   NaN  140000\n"
     ]
    }
   ],
   "source": [
    "# If pandas is not installed, just uncomment the following line:\n",
    "# !pip install pandas\n",
    "import pandas as pd\n",
    "\n",
    "data = pd.read_csv(data_file)\n",
    "print(data)"
   ]
  },
  {
   "cell_type": "code",
   "execution_count": 79,
   "metadata": {
    "origin_pos": 5,
    "tab": [
     "pytorch"
    ]
   },
   "outputs": [
    {
     "name": "stdout",
     "output_type": "stream",
     "text": [
      "   NumRooms Alley\n",
      "0       3.0  Pave\n",
      "1       2.0   NaN\n",
      "2       4.0   NaN\n",
      "3       3.0   NaN\n"
     ]
    },
    {
     "name": "stderr",
     "output_type": "stream",
     "text": [
      "<ipython-input-79-7f3bcd4dc11f>:2: FutureWarning: Dropping of nuisance columns in DataFrame reductions (with 'numeric_only=None') is deprecated; in a future version this will raise TypeError.  Select only valid columns before calling the reduction.\n",
      "  inputs = inputs.fillna(inputs.mean())\n"
     ]
    }
   ],
   "source": [
    "inputs, outputs = data.iloc[:, 0:2], data.iloc[:, 2]\n",
    "inputs = inputs.fillna(inputs.mean())\n",
    "print(inputs)"
   ]
  },
  {
   "cell_type": "code",
   "execution_count": 80,
   "metadata": {
    "origin_pos": 7,
    "tab": [
     "pytorch"
    ]
   },
   "outputs": [
    {
     "name": "stdout",
     "output_type": "stream",
     "text": [
      "   NumRooms  Alley_Pave  Alley_nan\n",
      "0       3.0           1          0\n",
      "1       2.0           0          1\n",
      "2       4.0           0          1\n",
      "3       3.0           0          1\n"
     ]
    }
   ],
   "source": [
    "inputs = pd.get_dummies(inputs, dummy_na=True)\n",
    "print(inputs)"
   ]
  },
  {
   "cell_type": "code",
   "execution_count": 81,
   "metadata": {
    "origin_pos": 10,
    "tab": [
     "pytorch"
    ]
   },
   "outputs": [
    {
     "data": {
      "text/plain": [
       "(tensor([[3., 1., 0.],\n",
       "         [2., 0., 1.],\n",
       "         [4., 0., 1.],\n",
       "         [3., 0., 1.]], dtype=torch.float64),\n",
       " tensor([127500, 106000, 178100, 140000]))"
      ]
     },
     "execution_count": 81,
     "metadata": {},
     "output_type": "execute_result"
    }
   ],
   "source": [
    "import torch\n",
    "\n",
    "X, y = torch.tensor(inputs.values), torch.tensor(outputs.values)\n",
    "X, y"
   ]
  },
  {
   "cell_type": "markdown",
   "metadata": {
    "origin_pos": 0
   },
   "source": [
    "# Probability\n",
    ":label:`sec_prob`\n",
    "\n",
    "In some form or another, machine learning is all about making predictions.\n",
    "We might want to predict the *probability* of a patient suffering a heart attack in the next year, given their clinical history. In anomaly detection, we might want to assess how *likely* a set of readings from an airplane's jet engine would be, were it operating normally. In reinforcement learning, we want an agent to act intelligently in an environment. This means we need to think about the probability of getting a high reward under each of the available actions. And when we build recommender systems we also need to think about probability. For example, say *hypothetically* that we worked for a large online bookseller. We might want to estimate the probability that a particular user would buy a particular book. For this we need to use the language of probability.\n",
    "Entire courses, majors, theses, careers, and even departments, are devoted to probability. So naturally, our goal in this section is not to teach the whole subject. Instead we hope to get you off the ground, to teach you just enough that you can start building your first deep learning models, and to give you enough of a flavor for the subject that you can begin to explore it on your own if you wish.\n"
   ]
  },
  {
   "cell_type": "code",
   "execution_count": 82,
   "metadata": {
    "origin_pos": 2,
    "tab": [
     "pytorch"
    ]
   },
   "outputs": [],
   "source": [
    "%matplotlib inline\n",
    "import torch\n",
    "from torch.distributions import multinomial\n",
    "from d2l import torch as d2l\n"
   ]
  },
  {
   "cell_type": "code",
   "execution_count": 83,
   "metadata": {
    "origin_pos": 6,
    "tab": [
     "pytorch"
    ]
   },
   "outputs": [
    {
     "data": {
      "text/plain": [
       "tensor([0., 0., 0., 0., 0., 1.])"
      ]
     },
     "execution_count": 83,
     "metadata": {},
     "output_type": "execute_result"
    }
   ],
   "source": [
    "fair_probs = torch.ones([6]) / 6\n",
    "multinomial.Multinomial(1, fair_probs).sample()"
   ]
  },
  {
   "cell_type": "code",
   "execution_count": 84,
   "metadata": {
    "origin_pos": 10,
    "tab": [
     "pytorch"
    ]
   },
   "outputs": [
    {
     "data": {
      "text/plain": [
       "tensor([2., 3., 1., 1., 1., 2.])"
      ]
     },
     "execution_count": 84,
     "metadata": {},
     "output_type": "execute_result"
    }
   ],
   "source": [
    "multinomial.Multinomial(10, fair_probs).sample()"
   ]
  },
  {
   "cell_type": "code",
   "execution_count": 85,
   "metadata": {
    "origin_pos": 14,
    "tab": [
     "pytorch"
    ]
   },
   "outputs": [
    {
     "data": {
      "text/plain": [
       "tensor([0.1770, 0.1630, 0.1640, 0.1540, 0.1550, 0.1870])"
      ]
     },
     "execution_count": 85,
     "metadata": {},
     "output_type": "execute_result"
    }
   ],
   "source": [
    "# Store the results as 32-bit floats for division\n",
    "counts = multinomial.Multinomial(1000, fair_probs).sample()\n",
    "counts / 1000  # Relative frequency as the estimate"
   ]
  },
  {
   "cell_type": "code",
   "execution_count": 86,
   "metadata": {
    "origin_pos": 18,
    "tab": [
     "pytorch"
    ]
   },
   "outputs": [
    {
     "data": {
      "image/svg+xml": [
       "<?xml version=\"1.0\" encoding=\"utf-8\" standalone=\"no\"?>\r\n",
       "<!DOCTYPE svg PUBLIC \"-//W3C//DTD SVG 1.1//EN\"\r\n",
       "  \"http://www.w3.org/Graphics/SVG/1.1/DTD/svg11.dtd\">\r\n",
       "<svg height=\"289.37625pt\" version=\"1.1\" viewBox=\"0 0 385.78125 289.37625\" width=\"385.78125pt\" xmlns=\"http://www.w3.org/2000/svg\" xmlns:xlink=\"http://www.w3.org/1999/xlink\">\r\n",
       " <metadata>\r\n",
       "  <rdf:RDF xmlns:cc=\"http://creativecommons.org/ns#\" xmlns:dc=\"http://purl.org/dc/elements/1.1/\" xmlns:rdf=\"http://www.w3.org/1999/02/22-rdf-syntax-ns#\">\r\n",
       "   <cc:Work>\r\n",
       "    <dc:type rdf:resource=\"http://purl.org/dc/dcmitype/StillImage\"/>\r\n",
       "    <dc:date>2021-09-11T16:15:31.724608</dc:date>\r\n",
       "    <dc:format>image/svg+xml</dc:format>\r\n",
       "    <dc:creator>\r\n",
       "     <cc:Agent>\r\n",
       "      <dc:title>Matplotlib v3.4.1, https://matplotlib.org/</dc:title>\r\n",
       "     </cc:Agent>\r\n",
       "    </dc:creator>\r\n",
       "   </cc:Work>\r\n",
       "  </rdf:RDF>\r\n",
       " </metadata>\r\n",
       " <defs>\r\n",
       "  <style type=\"text/css\">*{stroke-linecap:butt;stroke-linejoin:round;}</style>\r\n",
       " </defs>\r\n",
       " <g id=\"figure_1\">\r\n",
       "  <g id=\"patch_1\">\r\n",
       "   <path d=\"M 0 289.37625 \r\n",
       "L 385.78125 289.37625 \r\n",
       "L 385.78125 0 \r\n",
       "L 0 0 \r\n",
       "z\r\n",
       "\" style=\"fill:none;\"/>\r\n",
       "  </g>\r\n",
       "  <g id=\"axes_1\">\r\n",
       "   <g id=\"patch_2\">\r\n",
       "    <path d=\"M 43.78125 251.82 \r\n",
       "L 378.58125 251.82 \r\n",
       "L 378.58125 7.2 \r\n",
       "L 43.78125 7.2 \r\n",
       "z\r\n",
       "\" style=\"fill:#ffffff;\"/>\r\n",
       "   </g>\r\n",
       "   <g id=\"matplotlib.axis_1\">\r\n",
       "    <g id=\"xtick_1\">\r\n",
       "     <g id=\"line2d_1\">\r\n",
       "      <defs>\r\n",
       "       <path d=\"M 0 0 \r\n",
       "L 0 3.5 \r\n",
       "\" id=\"m8ebc6a6db3\" style=\"stroke:#000000;stroke-width:0.8;\"/>\r\n",
       "      </defs>\r\n",
       "      <g>\r\n",
       "       <use style=\"stroke:#000000;stroke-width:0.8;\" x=\"58.999432\" xlink:href=\"#m8ebc6a6db3\" y=\"251.82\"/>\r\n",
       "      </g>\r\n",
       "     </g>\r\n",
       "     <g id=\"text_1\">\r\n",
       "      <!-- 0 -->\r\n",
       "      <g transform=\"translate(55.818182 266.418437)scale(0.1 -0.1)\">\r\n",
       "       <defs>\r\n",
       "        <path d=\"M 2034 4250 \r\n",
       "Q 1547 4250 1301 3770 \r\n",
       "Q 1056 3291 1056 2328 \r\n",
       "Q 1056 1369 1301 889 \r\n",
       "Q 1547 409 2034 409 \r\n",
       "Q 2525 409 2770 889 \r\n",
       "Q 3016 1369 3016 2328 \r\n",
       "Q 3016 3291 2770 3770 \r\n",
       "Q 2525 4250 2034 4250 \r\n",
       "z\r\n",
       "M 2034 4750 \r\n",
       "Q 2819 4750 3233 4129 \r\n",
       "Q 3647 3509 3647 2328 \r\n",
       "Q 3647 1150 3233 529 \r\n",
       "Q 2819 -91 2034 -91 \r\n",
       "Q 1250 -91 836 529 \r\n",
       "Q 422 1150 422 2328 \r\n",
       "Q 422 3509 836 4129 \r\n",
       "Q 1250 4750 2034 4750 \r\n",
       "z\r\n",
       "\" id=\"DejaVuSans-30\" transform=\"scale(0.015625)\"/>\r\n",
       "       </defs>\r\n",
       "       <use xlink:href=\"#DejaVuSans-30\"/>\r\n",
       "      </g>\r\n",
       "     </g>\r\n",
       "    </g>\r\n",
       "    <g id=\"xtick_2\">\r\n",
       "     <g id=\"line2d_2\">\r\n",
       "      <g>\r\n",
       "       <use style=\"stroke:#000000;stroke-width:0.8;\" x=\"119.994149\" xlink:href=\"#m8ebc6a6db3\" y=\"251.82\"/>\r\n",
       "      </g>\r\n",
       "     </g>\r\n",
       "     <g id=\"text_2\">\r\n",
       "      <!-- 100 -->\r\n",
       "      <g transform=\"translate(110.450399 266.418437)scale(0.1 -0.1)\">\r\n",
       "       <defs>\r\n",
       "        <path d=\"M 794 531 \r\n",
       "L 1825 531 \r\n",
       "L 1825 4091 \r\n",
       "L 703 3866 \r\n",
       "L 703 4441 \r\n",
       "L 1819 4666 \r\n",
       "L 2450 4666 \r\n",
       "L 2450 531 \r\n",
       "L 3481 531 \r\n",
       "L 3481 0 \r\n",
       "L 794 0 \r\n",
       "L 794 531 \r\n",
       "z\r\n",
       "\" id=\"DejaVuSans-31\" transform=\"scale(0.015625)\"/>\r\n",
       "       </defs>\r\n",
       "       <use xlink:href=\"#DejaVuSans-31\"/>\r\n",
       "       <use x=\"63.623047\" xlink:href=\"#DejaVuSans-30\"/>\r\n",
       "       <use x=\"127.246094\" xlink:href=\"#DejaVuSans-30\"/>\r\n",
       "      </g>\r\n",
       "     </g>\r\n",
       "    </g>\r\n",
       "    <g id=\"xtick_3\">\r\n",
       "     <g id=\"line2d_3\">\r\n",
       "      <g>\r\n",
       "       <use style=\"stroke:#000000;stroke-width:0.8;\" x=\"180.988865\" xlink:href=\"#m8ebc6a6db3\" y=\"251.82\"/>\r\n",
       "      </g>\r\n",
       "     </g>\r\n",
       "     <g id=\"text_3\">\r\n",
       "      <!-- 200 -->\r\n",
       "      <g transform=\"translate(171.445115 266.418437)scale(0.1 -0.1)\">\r\n",
       "       <defs>\r\n",
       "        <path d=\"M 1228 531 \r\n",
       "L 3431 531 \r\n",
       "L 3431 0 \r\n",
       "L 469 0 \r\n",
       "L 469 531 \r\n",
       "Q 828 903 1448 1529 \r\n",
       "Q 2069 2156 2228 2338 \r\n",
       "Q 2531 2678 2651 2914 \r\n",
       "Q 2772 3150 2772 3378 \r\n",
       "Q 2772 3750 2511 3984 \r\n",
       "Q 2250 4219 1831 4219 \r\n",
       "Q 1534 4219 1204 4116 \r\n",
       "Q 875 4013 500 3803 \r\n",
       "L 500 4441 \r\n",
       "Q 881 4594 1212 4672 \r\n",
       "Q 1544 4750 1819 4750 \r\n",
       "Q 2544 4750 2975 4387 \r\n",
       "Q 3406 4025 3406 3419 \r\n",
       "Q 3406 3131 3298 2873 \r\n",
       "Q 3191 2616 2906 2266 \r\n",
       "Q 2828 2175 2409 1742 \r\n",
       "Q 1991 1309 1228 531 \r\n",
       "z\r\n",
       "\" id=\"DejaVuSans-32\" transform=\"scale(0.015625)\"/>\r\n",
       "       </defs>\r\n",
       "       <use xlink:href=\"#DejaVuSans-32\"/>\r\n",
       "       <use x=\"63.623047\" xlink:href=\"#DejaVuSans-30\"/>\r\n",
       "       <use x=\"127.246094\" xlink:href=\"#DejaVuSans-30\"/>\r\n",
       "      </g>\r\n",
       "     </g>\r\n",
       "    </g>\r\n",
       "    <g id=\"xtick_4\">\r\n",
       "     <g id=\"line2d_4\">\r\n",
       "      <g>\r\n",
       "       <use style=\"stroke:#000000;stroke-width:0.8;\" x=\"241.983582\" xlink:href=\"#m8ebc6a6db3\" y=\"251.82\"/>\r\n",
       "      </g>\r\n",
       "     </g>\r\n",
       "     <g id=\"text_4\">\r\n",
       "      <!-- 300 -->\r\n",
       "      <g transform=\"translate(232.439832 266.418437)scale(0.1 -0.1)\">\r\n",
       "       <defs>\r\n",
       "        <path d=\"M 2597 2516 \r\n",
       "Q 3050 2419 3304 2112 \r\n",
       "Q 3559 1806 3559 1356 \r\n",
       "Q 3559 666 3084 287 \r\n",
       "Q 2609 -91 1734 -91 \r\n",
       "Q 1441 -91 1130 -33 \r\n",
       "Q 819 25 488 141 \r\n",
       "L 488 750 \r\n",
       "Q 750 597 1062 519 \r\n",
       "Q 1375 441 1716 441 \r\n",
       "Q 2309 441 2620 675 \r\n",
       "Q 2931 909 2931 1356 \r\n",
       "Q 2931 1769 2642 2001 \r\n",
       "Q 2353 2234 1838 2234 \r\n",
       "L 1294 2234 \r\n",
       "L 1294 2753 \r\n",
       "L 1863 2753 \r\n",
       "Q 2328 2753 2575 2939 \r\n",
       "Q 2822 3125 2822 3475 \r\n",
       "Q 2822 3834 2567 4026 \r\n",
       "Q 2313 4219 1838 4219 \r\n",
       "Q 1578 4219 1281 4162 \r\n",
       "Q 984 4106 628 3988 \r\n",
       "L 628 4550 \r\n",
       "Q 988 4650 1302 4700 \r\n",
       "Q 1616 4750 1894 4750 \r\n",
       "Q 2613 4750 3031 4423 \r\n",
       "Q 3450 4097 3450 3541 \r\n",
       "Q 3450 3153 3228 2886 \r\n",
       "Q 3006 2619 2597 2516 \r\n",
       "z\r\n",
       "\" id=\"DejaVuSans-33\" transform=\"scale(0.015625)\"/>\r\n",
       "       </defs>\r\n",
       "       <use xlink:href=\"#DejaVuSans-33\"/>\r\n",
       "       <use x=\"63.623047\" xlink:href=\"#DejaVuSans-30\"/>\r\n",
       "       <use x=\"127.246094\" xlink:href=\"#DejaVuSans-30\"/>\r\n",
       "      </g>\r\n",
       "     </g>\r\n",
       "    </g>\r\n",
       "    <g id=\"xtick_5\">\r\n",
       "     <g id=\"line2d_5\">\r\n",
       "      <g>\r\n",
       "       <use style=\"stroke:#000000;stroke-width:0.8;\" x=\"302.978299\" xlink:href=\"#m8ebc6a6db3\" y=\"251.82\"/>\r\n",
       "      </g>\r\n",
       "     </g>\r\n",
       "     <g id=\"text_5\">\r\n",
       "      <!-- 400 -->\r\n",
       "      <g transform=\"translate(293.434549 266.418437)scale(0.1 -0.1)\">\r\n",
       "       <defs>\r\n",
       "        <path d=\"M 2419 4116 \r\n",
       "L 825 1625 \r\n",
       "L 2419 1625 \r\n",
       "L 2419 4116 \r\n",
       "z\r\n",
       "M 2253 4666 \r\n",
       "L 3047 4666 \r\n",
       "L 3047 1625 \r\n",
       "L 3713 1625 \r\n",
       "L 3713 1100 \r\n",
       "L 3047 1100 \r\n",
       "L 3047 0 \r\n",
       "L 2419 0 \r\n",
       "L 2419 1100 \r\n",
       "L 313 1100 \r\n",
       "L 313 1709 \r\n",
       "L 2253 4666 \r\n",
       "z\r\n",
       "\" id=\"DejaVuSans-34\" transform=\"scale(0.015625)\"/>\r\n",
       "       </defs>\r\n",
       "       <use xlink:href=\"#DejaVuSans-34\"/>\r\n",
       "       <use x=\"63.623047\" xlink:href=\"#DejaVuSans-30\"/>\r\n",
       "       <use x=\"127.246094\" xlink:href=\"#DejaVuSans-30\"/>\r\n",
       "      </g>\r\n",
       "     </g>\r\n",
       "    </g>\r\n",
       "    <g id=\"xtick_6\">\r\n",
       "     <g id=\"line2d_6\">\r\n",
       "      <g>\r\n",
       "       <use style=\"stroke:#000000;stroke-width:0.8;\" x=\"363.973015\" xlink:href=\"#m8ebc6a6db3\" y=\"251.82\"/>\r\n",
       "      </g>\r\n",
       "     </g>\r\n",
       "     <g id=\"text_6\">\r\n",
       "      <!-- 500 -->\r\n",
       "      <g transform=\"translate(354.429265 266.418437)scale(0.1 -0.1)\">\r\n",
       "       <defs>\r\n",
       "        <path d=\"M 691 4666 \r\n",
       "L 3169 4666 \r\n",
       "L 3169 4134 \r\n",
       "L 1269 4134 \r\n",
       "L 1269 2991 \r\n",
       "Q 1406 3038 1543 3061 \r\n",
       "Q 1681 3084 1819 3084 \r\n",
       "Q 2600 3084 3056 2656 \r\n",
       "Q 3513 2228 3513 1497 \r\n",
       "Q 3513 744 3044 326 \r\n",
       "Q 2575 -91 1722 -91 \r\n",
       "Q 1428 -91 1123 -41 \r\n",
       "Q 819 9 494 109 \r\n",
       "L 494 744 \r\n",
       "Q 775 591 1075 516 \r\n",
       "Q 1375 441 1709 441 \r\n",
       "Q 2250 441 2565 725 \r\n",
       "Q 2881 1009 2881 1497 \r\n",
       "Q 2881 1984 2565 2268 \r\n",
       "Q 2250 2553 1709 2553 \r\n",
       "Q 1456 2553 1204 2497 \r\n",
       "Q 953 2441 691 2322 \r\n",
       "L 691 4666 \r\n",
       "z\r\n",
       "\" id=\"DejaVuSans-35\" transform=\"scale(0.015625)\"/>\r\n",
       "       </defs>\r\n",
       "       <use xlink:href=\"#DejaVuSans-35\"/>\r\n",
       "       <use x=\"63.623047\" xlink:href=\"#DejaVuSans-30\"/>\r\n",
       "       <use x=\"127.246094\" xlink:href=\"#DejaVuSans-30\"/>\r\n",
       "      </g>\r\n",
       "     </g>\r\n",
       "    </g>\r\n",
       "    <g id=\"text_7\">\r\n",
       "     <!-- Groups of experiments -->\r\n",
       "     <g transform=\"translate(154.035156 280.096562)scale(0.1 -0.1)\">\r\n",
       "      <defs>\r\n",
       "       <path d=\"M 3809 666 \r\n",
       "L 3809 1919 \r\n",
       "L 2778 1919 \r\n",
       "L 2778 2438 \r\n",
       "L 4434 2438 \r\n",
       "L 4434 434 \r\n",
       "Q 4069 175 3628 42 \r\n",
       "Q 3188 -91 2688 -91 \r\n",
       "Q 1594 -91 976 548 \r\n",
       "Q 359 1188 359 2328 \r\n",
       "Q 359 3472 976 4111 \r\n",
       "Q 1594 4750 2688 4750 \r\n",
       "Q 3144 4750 3555 4637 \r\n",
       "Q 3966 4525 4313 4306 \r\n",
       "L 4313 3634 \r\n",
       "Q 3963 3931 3569 4081 \r\n",
       "Q 3175 4231 2741 4231 \r\n",
       "Q 1884 4231 1454 3753 \r\n",
       "Q 1025 3275 1025 2328 \r\n",
       "Q 1025 1384 1454 906 \r\n",
       "Q 1884 428 2741 428 \r\n",
       "Q 3075 428 3337 486 \r\n",
       "Q 3600 544 3809 666 \r\n",
       "z\r\n",
       "\" id=\"DejaVuSans-47\" transform=\"scale(0.015625)\"/>\r\n",
       "       <path d=\"M 2631 2963 \r\n",
       "Q 2534 3019 2420 3045 \r\n",
       "Q 2306 3072 2169 3072 \r\n",
       "Q 1681 3072 1420 2755 \r\n",
       "Q 1159 2438 1159 1844 \r\n",
       "L 1159 0 \r\n",
       "L 581 0 \r\n",
       "L 581 3500 \r\n",
       "L 1159 3500 \r\n",
       "L 1159 2956 \r\n",
       "Q 1341 3275 1631 3429 \r\n",
       "Q 1922 3584 2338 3584 \r\n",
       "Q 2397 3584 2469 3576 \r\n",
       "Q 2541 3569 2628 3553 \r\n",
       "L 2631 2963 \r\n",
       "z\r\n",
       "\" id=\"DejaVuSans-72\" transform=\"scale(0.015625)\"/>\r\n",
       "       <path d=\"M 1959 3097 \r\n",
       "Q 1497 3097 1228 2736 \r\n",
       "Q 959 2375 959 1747 \r\n",
       "Q 959 1119 1226 758 \r\n",
       "Q 1494 397 1959 397 \r\n",
       "Q 2419 397 2687 759 \r\n",
       "Q 2956 1122 2956 1747 \r\n",
       "Q 2956 2369 2687 2733 \r\n",
       "Q 2419 3097 1959 3097 \r\n",
       "z\r\n",
       "M 1959 3584 \r\n",
       "Q 2709 3584 3137 3096 \r\n",
       "Q 3566 2609 3566 1747 \r\n",
       "Q 3566 888 3137 398 \r\n",
       "Q 2709 -91 1959 -91 \r\n",
       "Q 1206 -91 779 398 \r\n",
       "Q 353 888 353 1747 \r\n",
       "Q 353 2609 779 3096 \r\n",
       "Q 1206 3584 1959 3584 \r\n",
       "z\r\n",
       "\" id=\"DejaVuSans-6f\" transform=\"scale(0.015625)\"/>\r\n",
       "       <path d=\"M 544 1381 \r\n",
       "L 544 3500 \r\n",
       "L 1119 3500 \r\n",
       "L 1119 1403 \r\n",
       "Q 1119 906 1312 657 \r\n",
       "Q 1506 409 1894 409 \r\n",
       "Q 2359 409 2629 706 \r\n",
       "Q 2900 1003 2900 1516 \r\n",
       "L 2900 3500 \r\n",
       "L 3475 3500 \r\n",
       "L 3475 0 \r\n",
       "L 2900 0 \r\n",
       "L 2900 538 \r\n",
       "Q 2691 219 2414 64 \r\n",
       "Q 2138 -91 1772 -91 \r\n",
       "Q 1169 -91 856 284 \r\n",
       "Q 544 659 544 1381 \r\n",
       "z\r\n",
       "M 1991 3584 \r\n",
       "L 1991 3584 \r\n",
       "z\r\n",
       "\" id=\"DejaVuSans-75\" transform=\"scale(0.015625)\"/>\r\n",
       "       <path d=\"M 1159 525 \r\n",
       "L 1159 -1331 \r\n",
       "L 581 -1331 \r\n",
       "L 581 3500 \r\n",
       "L 1159 3500 \r\n",
       "L 1159 2969 \r\n",
       "Q 1341 3281 1617 3432 \r\n",
       "Q 1894 3584 2278 3584 \r\n",
       "Q 2916 3584 3314 3078 \r\n",
       "Q 3713 2572 3713 1747 \r\n",
       "Q 3713 922 3314 415 \r\n",
       "Q 2916 -91 2278 -91 \r\n",
       "Q 1894 -91 1617 61 \r\n",
       "Q 1341 213 1159 525 \r\n",
       "z\r\n",
       "M 3116 1747 \r\n",
       "Q 3116 2381 2855 2742 \r\n",
       "Q 2594 3103 2138 3103 \r\n",
       "Q 1681 3103 1420 2742 \r\n",
       "Q 1159 2381 1159 1747 \r\n",
       "Q 1159 1113 1420 752 \r\n",
       "Q 1681 391 2138 391 \r\n",
       "Q 2594 391 2855 752 \r\n",
       "Q 3116 1113 3116 1747 \r\n",
       "z\r\n",
       "\" id=\"DejaVuSans-70\" transform=\"scale(0.015625)\"/>\r\n",
       "       <path d=\"M 2834 3397 \r\n",
       "L 2834 2853 \r\n",
       "Q 2591 2978 2328 3040 \r\n",
       "Q 2066 3103 1784 3103 \r\n",
       "Q 1356 3103 1142 2972 \r\n",
       "Q 928 2841 928 2578 \r\n",
       "Q 928 2378 1081 2264 \r\n",
       "Q 1234 2150 1697 2047 \r\n",
       "L 1894 2003 \r\n",
       "Q 2506 1872 2764 1633 \r\n",
       "Q 3022 1394 3022 966 \r\n",
       "Q 3022 478 2636 193 \r\n",
       "Q 2250 -91 1575 -91 \r\n",
       "Q 1294 -91 989 -36 \r\n",
       "Q 684 19 347 128 \r\n",
       "L 347 722 \r\n",
       "Q 666 556 975 473 \r\n",
       "Q 1284 391 1588 391 \r\n",
       "Q 1994 391 2212 530 \r\n",
       "Q 2431 669 2431 922 \r\n",
       "Q 2431 1156 2273 1281 \r\n",
       "Q 2116 1406 1581 1522 \r\n",
       "L 1381 1569 \r\n",
       "Q 847 1681 609 1914 \r\n",
       "Q 372 2147 372 2553 \r\n",
       "Q 372 3047 722 3315 \r\n",
       "Q 1072 3584 1716 3584 \r\n",
       "Q 2034 3584 2315 3537 \r\n",
       "Q 2597 3491 2834 3397 \r\n",
       "z\r\n",
       "\" id=\"DejaVuSans-73\" transform=\"scale(0.015625)\"/>\r\n",
       "       <path id=\"DejaVuSans-20\" transform=\"scale(0.015625)\"/>\r\n",
       "       <path d=\"M 2375 4863 \r\n",
       "L 2375 4384 \r\n",
       "L 1825 4384 \r\n",
       "Q 1516 4384 1395 4259 \r\n",
       "Q 1275 4134 1275 3809 \r\n",
       "L 1275 3500 \r\n",
       "L 2222 3500 \r\n",
       "L 2222 3053 \r\n",
       "L 1275 3053 \r\n",
       "L 1275 0 \r\n",
       "L 697 0 \r\n",
       "L 697 3053 \r\n",
       "L 147 3053 \r\n",
       "L 147 3500 \r\n",
       "L 697 3500 \r\n",
       "L 697 3744 \r\n",
       "Q 697 4328 969 4595 \r\n",
       "Q 1241 4863 1831 4863 \r\n",
       "L 2375 4863 \r\n",
       "z\r\n",
       "\" id=\"DejaVuSans-66\" transform=\"scale(0.015625)\"/>\r\n",
       "       <path d=\"M 3597 1894 \r\n",
       "L 3597 1613 \r\n",
       "L 953 1613 \r\n",
       "Q 991 1019 1311 708 \r\n",
       "Q 1631 397 2203 397 \r\n",
       "Q 2534 397 2845 478 \r\n",
       "Q 3156 559 3463 722 \r\n",
       "L 3463 178 \r\n",
       "Q 3153 47 2828 -22 \r\n",
       "Q 2503 -91 2169 -91 \r\n",
       "Q 1331 -91 842 396 \r\n",
       "Q 353 884 353 1716 \r\n",
       "Q 353 2575 817 3079 \r\n",
       "Q 1281 3584 2069 3584 \r\n",
       "Q 2775 3584 3186 3129 \r\n",
       "Q 3597 2675 3597 1894 \r\n",
       "z\r\n",
       "M 3022 2063 \r\n",
       "Q 3016 2534 2758 2815 \r\n",
       "Q 2500 3097 2075 3097 \r\n",
       "Q 1594 3097 1305 2825 \r\n",
       "Q 1016 2553 972 2059 \r\n",
       "L 3022 2063 \r\n",
       "z\r\n",
       "\" id=\"DejaVuSans-65\" transform=\"scale(0.015625)\"/>\r\n",
       "       <path d=\"M 3513 3500 \r\n",
       "L 2247 1797 \r\n",
       "L 3578 0 \r\n",
       "L 2900 0 \r\n",
       "L 1881 1375 \r\n",
       "L 863 0 \r\n",
       "L 184 0 \r\n",
       "L 1544 1831 \r\n",
       "L 300 3500 \r\n",
       "L 978 3500 \r\n",
       "L 1906 2253 \r\n",
       "L 2834 3500 \r\n",
       "L 3513 3500 \r\n",
       "z\r\n",
       "\" id=\"DejaVuSans-78\" transform=\"scale(0.015625)\"/>\r\n",
       "       <path d=\"M 603 3500 \r\n",
       "L 1178 3500 \r\n",
       "L 1178 0 \r\n",
       "L 603 0 \r\n",
       "L 603 3500 \r\n",
       "z\r\n",
       "M 603 4863 \r\n",
       "L 1178 4863 \r\n",
       "L 1178 4134 \r\n",
       "L 603 4134 \r\n",
       "L 603 4863 \r\n",
       "z\r\n",
       "\" id=\"DejaVuSans-69\" transform=\"scale(0.015625)\"/>\r\n",
       "       <path d=\"M 3328 2828 \r\n",
       "Q 3544 3216 3844 3400 \r\n",
       "Q 4144 3584 4550 3584 \r\n",
       "Q 5097 3584 5394 3201 \r\n",
       "Q 5691 2819 5691 2113 \r\n",
       "L 5691 0 \r\n",
       "L 5113 0 \r\n",
       "L 5113 2094 \r\n",
       "Q 5113 2597 4934 2840 \r\n",
       "Q 4756 3084 4391 3084 \r\n",
       "Q 3944 3084 3684 2787 \r\n",
       "Q 3425 2491 3425 1978 \r\n",
       "L 3425 0 \r\n",
       "L 2847 0 \r\n",
       "L 2847 2094 \r\n",
       "Q 2847 2600 2669 2842 \r\n",
       "Q 2491 3084 2119 3084 \r\n",
       "Q 1678 3084 1418 2786 \r\n",
       "Q 1159 2488 1159 1978 \r\n",
       "L 1159 0 \r\n",
       "L 581 0 \r\n",
       "L 581 3500 \r\n",
       "L 1159 3500 \r\n",
       "L 1159 2956 \r\n",
       "Q 1356 3278 1631 3431 \r\n",
       "Q 1906 3584 2284 3584 \r\n",
       "Q 2666 3584 2933 3390 \r\n",
       "Q 3200 3197 3328 2828 \r\n",
       "z\r\n",
       "\" id=\"DejaVuSans-6d\" transform=\"scale(0.015625)\"/>\r\n",
       "       <path d=\"M 3513 2113 \r\n",
       "L 3513 0 \r\n",
       "L 2938 0 \r\n",
       "L 2938 2094 \r\n",
       "Q 2938 2591 2744 2837 \r\n",
       "Q 2550 3084 2163 3084 \r\n",
       "Q 1697 3084 1428 2787 \r\n",
       "Q 1159 2491 1159 1978 \r\n",
       "L 1159 0 \r\n",
       "L 581 0 \r\n",
       "L 581 3500 \r\n",
       "L 1159 3500 \r\n",
       "L 1159 2956 \r\n",
       "Q 1366 3272 1645 3428 \r\n",
       "Q 1925 3584 2291 3584 \r\n",
       "Q 2894 3584 3203 3211 \r\n",
       "Q 3513 2838 3513 2113 \r\n",
       "z\r\n",
       "\" id=\"DejaVuSans-6e\" transform=\"scale(0.015625)\"/>\r\n",
       "       <path d=\"M 1172 4494 \r\n",
       "L 1172 3500 \r\n",
       "L 2356 3500 \r\n",
       "L 2356 3053 \r\n",
       "L 1172 3053 \r\n",
       "L 1172 1153 \r\n",
       "Q 1172 725 1289 603 \r\n",
       "Q 1406 481 1766 481 \r\n",
       "L 2356 481 \r\n",
       "L 2356 0 \r\n",
       "L 1766 0 \r\n",
       "Q 1100 0 847 248 \r\n",
       "Q 594 497 594 1153 \r\n",
       "L 594 3053 \r\n",
       "L 172 3053 \r\n",
       "L 172 3500 \r\n",
       "L 594 3500 \r\n",
       "L 594 4494 \r\n",
       "L 1172 4494 \r\n",
       "z\r\n",
       "\" id=\"DejaVuSans-74\" transform=\"scale(0.015625)\"/>\r\n",
       "      </defs>\r\n",
       "      <use xlink:href=\"#DejaVuSans-47\"/>\r\n",
       "      <use x=\"77.490234\" xlink:href=\"#DejaVuSans-72\"/>\r\n",
       "      <use x=\"116.353516\" xlink:href=\"#DejaVuSans-6f\"/>\r\n",
       "      <use x=\"177.535156\" xlink:href=\"#DejaVuSans-75\"/>\r\n",
       "      <use x=\"240.914062\" xlink:href=\"#DejaVuSans-70\"/>\r\n",
       "      <use x=\"304.390625\" xlink:href=\"#DejaVuSans-73\"/>\r\n",
       "      <use x=\"356.490234\" xlink:href=\"#DejaVuSans-20\"/>\r\n",
       "      <use x=\"388.277344\" xlink:href=\"#DejaVuSans-6f\"/>\r\n",
       "      <use x=\"449.458984\" xlink:href=\"#DejaVuSans-66\"/>\r\n",
       "      <use x=\"484.664062\" xlink:href=\"#DejaVuSans-20\"/>\r\n",
       "      <use x=\"516.451172\" xlink:href=\"#DejaVuSans-65\"/>\r\n",
       "      <use x=\"576.224609\" xlink:href=\"#DejaVuSans-78\"/>\r\n",
       "      <use x=\"635.404297\" xlink:href=\"#DejaVuSans-70\"/>\r\n",
       "      <use x=\"698.880859\" xlink:href=\"#DejaVuSans-65\"/>\r\n",
       "      <use x=\"760.404297\" xlink:href=\"#DejaVuSans-72\"/>\r\n",
       "      <use x=\"801.517578\" xlink:href=\"#DejaVuSans-69\"/>\r\n",
       "      <use x=\"829.300781\" xlink:href=\"#DejaVuSans-6d\"/>\r\n",
       "      <use x=\"926.712891\" xlink:href=\"#DejaVuSans-65\"/>\r\n",
       "      <use x=\"988.236328\" xlink:href=\"#DejaVuSans-6e\"/>\r\n",
       "      <use x=\"1051.615234\" xlink:href=\"#DejaVuSans-74\"/>\r\n",
       "      <use x=\"1090.824219\" xlink:href=\"#DejaVuSans-73\"/>\r\n",
       "     </g>\r\n",
       "    </g>\r\n",
       "   </g>\r\n",
       "   <g id=\"matplotlib.axis_2\">\r\n",
       "    <g id=\"ytick_1\">\r\n",
       "     <g id=\"line2d_7\">\r\n",
       "      <defs>\r\n",
       "       <path d=\"M 0 0 \r\n",
       "L -3.5 0 \r\n",
       "\" id=\"ma6f97fb1e6\" style=\"stroke:#000000;stroke-width:0.8;\"/>\r\n",
       "      </defs>\r\n",
       "      <g>\r\n",
       "       <use style=\"stroke:#000000;stroke-width:0.8;\" x=\"43.78125\" xlink:href=\"#ma6f97fb1e6\" y=\"240.700909\"/>\r\n",
       "      </g>\r\n",
       "     </g>\r\n",
       "     <g id=\"text_8\">\r\n",
       "      <!-- 0.0 -->\r\n",
       "      <g transform=\"translate(20.878125 244.500128)scale(0.1 -0.1)\">\r\n",
       "       <defs>\r\n",
       "        <path d=\"M 684 794 \r\n",
       "L 1344 794 \r\n",
       "L 1344 0 \r\n",
       "L 684 0 \r\n",
       "L 684 794 \r\n",
       "z\r\n",
       "\" id=\"DejaVuSans-2e\" transform=\"scale(0.015625)\"/>\r\n",
       "       </defs>\r\n",
       "       <use xlink:href=\"#DejaVuSans-30\"/>\r\n",
       "       <use x=\"63.623047\" xlink:href=\"#DejaVuSans-2e\"/>\r\n",
       "       <use x=\"95.410156\" xlink:href=\"#DejaVuSans-30\"/>\r\n",
       "      </g>\r\n",
       "     </g>\r\n",
       "    </g>\r\n",
       "    <g id=\"ytick_2\">\r\n",
       "     <g id=\"line2d_8\">\r\n",
       "      <g>\r\n",
       "       <use style=\"stroke:#000000;stroke-width:0.8;\" x=\"43.78125\" xlink:href=\"#ma6f97fb1e6\" y=\"196.224545\"/>\r\n",
       "      </g>\r\n",
       "     </g>\r\n",
       "     <g id=\"text_9\">\r\n",
       "      <!-- 0.1 -->\r\n",
       "      <g transform=\"translate(20.878125 200.023764)scale(0.1 -0.1)\">\r\n",
       "       <use xlink:href=\"#DejaVuSans-30\"/>\r\n",
       "       <use x=\"63.623047\" xlink:href=\"#DejaVuSans-2e\"/>\r\n",
       "       <use x=\"95.410156\" xlink:href=\"#DejaVuSans-31\"/>\r\n",
       "      </g>\r\n",
       "     </g>\r\n",
       "    </g>\r\n",
       "    <g id=\"ytick_3\">\r\n",
       "     <g id=\"line2d_9\">\r\n",
       "      <g>\r\n",
       "       <use style=\"stroke:#000000;stroke-width:0.8;\" x=\"43.78125\" xlink:href=\"#ma6f97fb1e6\" y=\"151.748182\"/>\r\n",
       "      </g>\r\n",
       "     </g>\r\n",
       "     <g id=\"text_10\">\r\n",
       "      <!-- 0.2 -->\r\n",
       "      <g transform=\"translate(20.878125 155.547401)scale(0.1 -0.1)\">\r\n",
       "       <use xlink:href=\"#DejaVuSans-30\"/>\r\n",
       "       <use x=\"63.623047\" xlink:href=\"#DejaVuSans-2e\"/>\r\n",
       "       <use x=\"95.410156\" xlink:href=\"#DejaVuSans-32\"/>\r\n",
       "      </g>\r\n",
       "     </g>\r\n",
       "    </g>\r\n",
       "    <g id=\"ytick_4\">\r\n",
       "     <g id=\"line2d_10\">\r\n",
       "      <g>\r\n",
       "       <use style=\"stroke:#000000;stroke-width:0.8;\" x=\"43.78125\" xlink:href=\"#ma6f97fb1e6\" y=\"107.271818\"/>\r\n",
       "      </g>\r\n",
       "     </g>\r\n",
       "     <g id=\"text_11\">\r\n",
       "      <!-- 0.3 -->\r\n",
       "      <g transform=\"translate(20.878125 111.071037)scale(0.1 -0.1)\">\r\n",
       "       <use xlink:href=\"#DejaVuSans-30\"/>\r\n",
       "       <use x=\"63.623047\" xlink:href=\"#DejaVuSans-2e\"/>\r\n",
       "       <use x=\"95.410156\" xlink:href=\"#DejaVuSans-33\"/>\r\n",
       "      </g>\r\n",
       "     </g>\r\n",
       "    </g>\r\n",
       "    <g id=\"ytick_5\">\r\n",
       "     <g id=\"line2d_11\">\r\n",
       "      <g>\r\n",
       "       <use style=\"stroke:#000000;stroke-width:0.8;\" x=\"43.78125\" xlink:href=\"#ma6f97fb1e6\" y=\"62.795455\"/>\r\n",
       "      </g>\r\n",
       "     </g>\r\n",
       "     <g id=\"text_12\">\r\n",
       "      <!-- 0.4 -->\r\n",
       "      <g transform=\"translate(20.878125 66.594673)scale(0.1 -0.1)\">\r\n",
       "       <use xlink:href=\"#DejaVuSans-30\"/>\r\n",
       "       <use x=\"63.623047\" xlink:href=\"#DejaVuSans-2e\"/>\r\n",
       "       <use x=\"95.410156\" xlink:href=\"#DejaVuSans-34\"/>\r\n",
       "      </g>\r\n",
       "     </g>\r\n",
       "    </g>\r\n",
       "    <g id=\"ytick_6\">\r\n",
       "     <g id=\"line2d_12\">\r\n",
       "      <g>\r\n",
       "       <use style=\"stroke:#000000;stroke-width:0.8;\" x=\"43.78125\" xlink:href=\"#ma6f97fb1e6\" y=\"18.319091\"/>\r\n",
       "      </g>\r\n",
       "     </g>\r\n",
       "     <g id=\"text_13\">\r\n",
       "      <!-- 0.5 -->\r\n",
       "      <g transform=\"translate(20.878125 22.11831)scale(0.1 -0.1)\">\r\n",
       "       <use xlink:href=\"#DejaVuSans-30\"/>\r\n",
       "       <use x=\"63.623047\" xlink:href=\"#DejaVuSans-2e\"/>\r\n",
       "       <use x=\"95.410156\" xlink:href=\"#DejaVuSans-35\"/>\r\n",
       "      </g>\r\n",
       "     </g>\r\n",
       "    </g>\r\n",
       "    <g id=\"text_14\">\r\n",
       "     <!-- Estimated probability -->\r\n",
       "     <g transform=\"translate(14.798438 183.033437)rotate(-90)scale(0.1 -0.1)\">\r\n",
       "      <defs>\r\n",
       "       <path d=\"M 628 4666 \r\n",
       "L 3578 4666 \r\n",
       "L 3578 4134 \r\n",
       "L 1259 4134 \r\n",
       "L 1259 2753 \r\n",
       "L 3481 2753 \r\n",
       "L 3481 2222 \r\n",
       "L 1259 2222 \r\n",
       "L 1259 531 \r\n",
       "L 3634 531 \r\n",
       "L 3634 0 \r\n",
       "L 628 0 \r\n",
       "L 628 4666 \r\n",
       "z\r\n",
       "\" id=\"DejaVuSans-45\" transform=\"scale(0.015625)\"/>\r\n",
       "       <path d=\"M 2194 1759 \r\n",
       "Q 1497 1759 1228 1600 \r\n",
       "Q 959 1441 959 1056 \r\n",
       "Q 959 750 1161 570 \r\n",
       "Q 1363 391 1709 391 \r\n",
       "Q 2188 391 2477 730 \r\n",
       "Q 2766 1069 2766 1631 \r\n",
       "L 2766 1759 \r\n",
       "L 2194 1759 \r\n",
       "z\r\n",
       "M 3341 1997 \r\n",
       "L 3341 0 \r\n",
       "L 2766 0 \r\n",
       "L 2766 531 \r\n",
       "Q 2569 213 2275 61 \r\n",
       "Q 1981 -91 1556 -91 \r\n",
       "Q 1019 -91 701 211 \r\n",
       "Q 384 513 384 1019 \r\n",
       "Q 384 1609 779 1909 \r\n",
       "Q 1175 2209 1959 2209 \r\n",
       "L 2766 2209 \r\n",
       "L 2766 2266 \r\n",
       "Q 2766 2663 2505 2880 \r\n",
       "Q 2244 3097 1772 3097 \r\n",
       "Q 1472 3097 1187 3025 \r\n",
       "Q 903 2953 641 2809 \r\n",
       "L 641 3341 \r\n",
       "Q 956 3463 1253 3523 \r\n",
       "Q 1550 3584 1831 3584 \r\n",
       "Q 2591 3584 2966 3190 \r\n",
       "Q 3341 2797 3341 1997 \r\n",
       "z\r\n",
       "\" id=\"DejaVuSans-61\" transform=\"scale(0.015625)\"/>\r\n",
       "       <path d=\"M 2906 2969 \r\n",
       "L 2906 4863 \r\n",
       "L 3481 4863 \r\n",
       "L 3481 0 \r\n",
       "L 2906 0 \r\n",
       "L 2906 525 \r\n",
       "Q 2725 213 2448 61 \r\n",
       "Q 2172 -91 1784 -91 \r\n",
       "Q 1150 -91 751 415 \r\n",
       "Q 353 922 353 1747 \r\n",
       "Q 353 2572 751 3078 \r\n",
       "Q 1150 3584 1784 3584 \r\n",
       "Q 2172 3584 2448 3432 \r\n",
       "Q 2725 3281 2906 2969 \r\n",
       "z\r\n",
       "M 947 1747 \r\n",
       "Q 947 1113 1208 752 \r\n",
       "Q 1469 391 1925 391 \r\n",
       "Q 2381 391 2643 752 \r\n",
       "Q 2906 1113 2906 1747 \r\n",
       "Q 2906 2381 2643 2742 \r\n",
       "Q 2381 3103 1925 3103 \r\n",
       "Q 1469 3103 1208 2742 \r\n",
       "Q 947 2381 947 1747 \r\n",
       "z\r\n",
       "\" id=\"DejaVuSans-64\" transform=\"scale(0.015625)\"/>\r\n",
       "       <path d=\"M 3116 1747 \r\n",
       "Q 3116 2381 2855 2742 \r\n",
       "Q 2594 3103 2138 3103 \r\n",
       "Q 1681 3103 1420 2742 \r\n",
       "Q 1159 2381 1159 1747 \r\n",
       "Q 1159 1113 1420 752 \r\n",
       "Q 1681 391 2138 391 \r\n",
       "Q 2594 391 2855 752 \r\n",
       "Q 3116 1113 3116 1747 \r\n",
       "z\r\n",
       "M 1159 2969 \r\n",
       "Q 1341 3281 1617 3432 \r\n",
       "Q 1894 3584 2278 3584 \r\n",
       "Q 2916 3584 3314 3078 \r\n",
       "Q 3713 2572 3713 1747 \r\n",
       "Q 3713 922 3314 415 \r\n",
       "Q 2916 -91 2278 -91 \r\n",
       "Q 1894 -91 1617 61 \r\n",
       "Q 1341 213 1159 525 \r\n",
       "L 1159 0 \r\n",
       "L 581 0 \r\n",
       "L 581 4863 \r\n",
       "L 1159 4863 \r\n",
       "L 1159 2969 \r\n",
       "z\r\n",
       "\" id=\"DejaVuSans-62\" transform=\"scale(0.015625)\"/>\r\n",
       "       <path d=\"M 603 4863 \r\n",
       "L 1178 4863 \r\n",
       "L 1178 0 \r\n",
       "L 603 0 \r\n",
       "L 603 4863 \r\n",
       "z\r\n",
       "\" id=\"DejaVuSans-6c\" transform=\"scale(0.015625)\"/>\r\n",
       "       <path d=\"M 2059 -325 \r\n",
       "Q 1816 -950 1584 -1140 \r\n",
       "Q 1353 -1331 966 -1331 \r\n",
       "L 506 -1331 \r\n",
       "L 506 -850 \r\n",
       "L 844 -850 \r\n",
       "Q 1081 -850 1212 -737 \r\n",
       "Q 1344 -625 1503 -206 \r\n",
       "L 1606 56 \r\n",
       "L 191 3500 \r\n",
       "L 800 3500 \r\n",
       "L 1894 763 \r\n",
       "L 2988 3500 \r\n",
       "L 3597 3500 \r\n",
       "L 2059 -325 \r\n",
       "z\r\n",
       "\" id=\"DejaVuSans-79\" transform=\"scale(0.015625)\"/>\r\n",
       "      </defs>\r\n",
       "      <use xlink:href=\"#DejaVuSans-45\"/>\r\n",
       "      <use x=\"63.183594\" xlink:href=\"#DejaVuSans-73\"/>\r\n",
       "      <use x=\"115.283203\" xlink:href=\"#DejaVuSans-74\"/>\r\n",
       "      <use x=\"154.492188\" xlink:href=\"#DejaVuSans-69\"/>\r\n",
       "      <use x=\"182.275391\" xlink:href=\"#DejaVuSans-6d\"/>\r\n",
       "      <use x=\"279.6875\" xlink:href=\"#DejaVuSans-61\"/>\r\n",
       "      <use x=\"340.966797\" xlink:href=\"#DejaVuSans-74\"/>\r\n",
       "      <use x=\"380.175781\" xlink:href=\"#DejaVuSans-65\"/>\r\n",
       "      <use x=\"441.699219\" xlink:href=\"#DejaVuSans-64\"/>\r\n",
       "      <use x=\"505.175781\" xlink:href=\"#DejaVuSans-20\"/>\r\n",
       "      <use x=\"536.962891\" xlink:href=\"#DejaVuSans-70\"/>\r\n",
       "      <use x=\"600.439453\" xlink:href=\"#DejaVuSans-72\"/>\r\n",
       "      <use x=\"639.302734\" xlink:href=\"#DejaVuSans-6f\"/>\r\n",
       "      <use x=\"700.484375\" xlink:href=\"#DejaVuSans-62\"/>\r\n",
       "      <use x=\"763.960938\" xlink:href=\"#DejaVuSans-61\"/>\r\n",
       "      <use x=\"825.240234\" xlink:href=\"#DejaVuSans-62\"/>\r\n",
       "      <use x=\"888.716797\" xlink:href=\"#DejaVuSans-69\"/>\r\n",
       "      <use x=\"916.5\" xlink:href=\"#DejaVuSans-6c\"/>\r\n",
       "      <use x=\"944.283203\" xlink:href=\"#DejaVuSans-69\"/>\r\n",
       "      <use x=\"972.066406\" xlink:href=\"#DejaVuSans-74\"/>\r\n",
       "      <use x=\"1011.275391\" xlink:href=\"#DejaVuSans-79\"/>\r\n",
       "     </g>\r\n",
       "    </g>\r\n",
       "   </g>\r\n",
       "   <g id=\"line2d_13\">\r\n",
       "    <path clip-path=\"url(#pe5b2feb27e)\" d=\"M 58.999432 240.700909 \r\n",
       "L 60.219326 196.224545 \r\n",
       "L 60.829273 196.224545 \r\n",
       "L 61.43922 169.538729 \r\n",
       "L 62.049168 166.573634 \r\n",
       "L 62.659115 164.455712 \r\n",
       "L 63.269062 162.867274 \r\n",
       "L 63.879009 161.631816 \r\n",
       "L 64.488956 165.09109 \r\n",
       "L 65.098903 159.834791 \r\n",
       "L 65.708851 162.867274 \r\n",
       "L 66.928745 148.571298 \r\n",
       "L 67.538692 142.85291 \r\n",
       "L 68.148639 140.629094 \r\n",
       "L 69.368534 141.864545 \r\n",
       "L 69.978481 144.725601 \r\n",
       "L 70.588428 145.076726 \r\n",
       "L 71.808322 149.72653 \r\n",
       "L 72.418269 149.81443 \r\n",
       "L 73.028217 146.188634 \r\n",
       "L 73.638164 146.411019 \r\n",
       "L 74.858058 150.10091 \r\n",
       "L 75.468005 148.571298 \r\n",
       "L 76.077952 151.74818 \r\n",
       "L 77.297847 151.74818 \r\n",
       "L 77.907794 154.527957 \r\n",
       "L 79.127688 156.980694 \r\n",
       "L 79.737635 155.560441 \r\n",
       "L 80.347583 156.689998 \r\n",
       "L 80.95753 154.152311 \r\n",
       "L 83.397319 153.917764 \r\n",
       "L 84.007266 154.925063 \r\n",
       "L 84.617213 153.816847 \r\n",
       "L 85.22716 154.780664 \r\n",
       "L 85.837107 154.713275 \r\n",
       "L 86.447054 156.582567 \r\n",
       "L 87.666949 158.234317 \r\n",
       "L 88.276896 157.194265 \r\n",
       "L 88.886843 157.085348 \r\n",
       "L 89.49679 157.852779 \r\n",
       "L 90.716685 157.622421 \r\n",
       "L 91.936579 159.026131 \r\n",
       "L 92.546526 157.307727 \r\n",
       "L 94.376368 154.763531 \r\n",
       "L 94.986315 156.195819 \r\n",
       "L 95.596262 156.852027 \r\n",
       "L 96.206209 158.204427 \r\n",
       "L 96.816156 157.395972 \r\n",
       "L 97.426103 155.917842 \r\n",
       "L 98.036051 156.537944 \r\n",
       "L 99.255945 159.050275 \r\n",
       "L 99.865892 159.59695 \r\n",
       "L 101.085786 161.914207 \r\n",
       "L 101.695734 162.397451 \r\n",
       "L 102.305681 163.485003 \r\n",
       "L 102.915628 162.105689 \r\n",
       "L 103.525575 161.965723 \r\n",
       "L 104.135522 162.42251 \r\n",
       "L 104.745469 161.696845 \r\n",
       "L 105.965364 161.441746 \r\n",
       "L 106.575311 160.756052 \r\n",
       "L 107.185258 160.643451 \r\n",
       "L 107.795205 161.082728 \r\n",
       "L 108.405152 160.426494 \r\n",
       "L 109.0151 161.393657 \r\n",
       "L 109.625047 161.278829 \r\n",
       "L 110.234994 160.643451 \r\n",
       "L 110.844941 161.057186 \r\n",
       "L 112.064835 160.845623 \r\n",
       "L 112.674783 159.743935 \r\n",
       "L 113.28473 160.149272 \r\n",
       "L 113.894677 159.5682 \r\n",
       "L 114.504624 159.966638 \r\n",
       "L 115.114571 158.443547 \r\n",
       "L 115.724518 159.318628 \r\n",
       "L 116.334466 158.770767 \r\n",
       "L 116.944413 159.160907 \r\n",
       "L 118.164307 159.009628 \r\n",
       "L 118.774254 159.38554 \r\n",
       "L 119.994149 160.995742 \r\n",
       "L 121.82399 160.728986 \r\n",
       "L 123.043884 161.398714 \r\n",
       "L 126.703567 160.881723 \r\n",
       "L 127.923462 159.941195 \r\n",
       "L 128.533409 160.256704 \r\n",
       "L 129.143356 159.799937 \r\n",
       "L 129.753303 159.731117 \r\n",
       "L 130.36325 158.532714 \r\n",
       "L 130.973198 158.849448 \r\n",
       "L 131.583145 158.790271 \r\n",
       "L 132.193092 159.099649 \r\n",
       "L 132.803039 159.768509 \r\n",
       "L 134.022933 159.639147 \r\n",
       "L 134.632881 159.22021 \r\n",
       "L 135.242828 158.454933 \r\n",
       "L 135.852775 159.102539 \r\n",
       "L 136.462722 158.002673 \r\n",
       "L 137.072669 158.298962 \r\n",
       "L 137.682616 158.248573 \r\n",
       "L 138.292564 157.85944 \r\n",
       "L 138.902511 157.81314 \r\n",
       "L 139.512458 158.436356 \r\n",
       "L 140.732352 158.996181 \r\n",
       "L 141.342299 158.615856 \r\n",
       "L 142.562194 159.160907 \r\n",
       "L 143.172141 158.787607 \r\n",
       "L 143.782088 159.372702 \r\n",
       "L 144.392035 159.318628 \r\n",
       "L 145.001982 159.578526 \r\n",
       "L 146.831824 161.256919 \r\n",
       "L 147.441771 161.19179 \r\n",
       "L 148.051718 160.824992 \r\n",
       "L 148.661665 161.064178 \r\n",
       "L 149.271613 160.404656 \r\n",
       "L 149.88156 160.643451 \r\n",
       "L 150.491507 160.29 \r\n",
       "L 151.101454 160.233806 \r\n",
       "L 152.321348 160.701217 \r\n",
       "L 152.931296 160.643451 \r\n",
       "L 153.541243 160.301327 \r\n",
       "L 154.15119 160.530141 \r\n",
       "L 154.761137 159.911564 \r\n",
       "L 155.371084 160.419674 \r\n",
       "L 155.981031 160.643451 \r\n",
       "L 156.590979 160.588205 \r\n",
       "L 157.200926 159.710002 \r\n",
       "L 157.810873 159.661157 \r\n",
       "L 159.030767 160.104344 \r\n",
       "L 159.640714 160.589868 \r\n",
       "L 160.250662 159.73795 \r\n",
       "L 160.860609 159.955133 \r\n",
       "L 161.470556 160.432916 \r\n",
       "L 162.080503 160.381831 \r\n",
       "L 162.69045 160.591432 \r\n",
       "L 163.300397 161.057186 \r\n",
       "L 163.910345 160.489203 \r\n",
       "L 164.520292 160.694576 \r\n",
       "L 165.130239 160.135156 \r\n",
       "L 165.740186 160.087497 \r\n",
       "L 166.350133 160.542945 \r\n",
       "L 166.96008 160.243668 \r\n",
       "L 168.179975 160.149272 \r\n",
       "L 168.789922 159.611405 \r\n",
       "L 169.399869 159.5682 \r\n",
       "L 170.009816 159.039392 \r\n",
       "L 171.229711 158.960565 \r\n",
       "L 171.839658 158.682667 \r\n",
       "L 172.449605 158.645586 \r\n",
       "L 173.669499 158.101946 \r\n",
       "L 174.279446 158.068504 \r\n",
       "L 175.499341 158.465968 \r\n",
       "L 176.109288 158.200709 \r\n",
       "L 176.719235 158.625969 \r\n",
       "L 177.329182 158.818783 \r\n",
       "L 177.939129 158.782709 \r\n",
       "L 178.549077 159.198538 \r\n",
       "L 179.159024 159.160907 \r\n",
       "L 179.768971 158.900162 \r\n",
       "L 180.988865 159.271547 \r\n",
       "L 184.648548 159.053476 \r\n",
       "L 185.258495 159.232186 \r\n",
       "L 185.868443 159.196378 \r\n",
       "L 186.47839 158.949119 \r\n",
       "L 187.088337 158.282625 \r\n",
       "L 187.698284 158.042007 \r\n",
       "L 188.308231 158.012455 \r\n",
       "L 188.918178 158.398851 \r\n",
       "L 189.528126 158.367921 \r\n",
       "L 191.357967 158.888882 \r\n",
       "L 191.967914 158.653188 \r\n",
       "L 192.577861 158.823965 \r\n",
       "L 193.187809 158.791948 \r\n",
       "L 193.797756 158.960565 \r\n",
       "L 194.407703 158.728775 \r\n",
       "L 195.01765 159.094725 \r\n",
       "L 196.237544 159.029709 \r\n",
       "L 196.847492 158.801704 \r\n",
       "L 197.457439 159.160907 \r\n",
       "L 198.067386 159.322757 \r\n",
       "L 199.28728 160.027333 \r\n",
       "L 199.897227 160.183357 \r\n",
       "L 200.507175 160.147151 \r\n",
       "L 201.117122 160.301327 \r\n",
       "L 201.727069 159.886413 \r\n",
       "L 202.946963 160.19306 \r\n",
       "L 203.55691 160.531327 \r\n",
       "L 204.166858 160.494578 \r\n",
       "L 204.776805 160.643451 \r\n",
       "L 205.386752 160.975641 \r\n",
       "L 205.996699 160.937513 \r\n",
       "L 206.606646 161.082728 \r\n",
       "L 207.216593 160.862192 \r\n",
       "L 207.826541 161.006525 \r\n",
       "L 208.436488 160.968894 \r\n",
       "L 210.266329 161.393657 \r\n",
       "L 210.876276 161.17717 \r\n",
       "L 212.706118 161.065364 \r\n",
       "L 213.316065 160.503373 \r\n",
       "L 213.926012 160.29462 \r\n",
       "L 214.535959 159.740031 \r\n",
       "L 215.145907 159.708935 \r\n",
       "L 215.755854 159.850465 \r\n",
       "L 216.365801 159.819183 \r\n",
       "L 217.585695 160.098148 \r\n",
       "L 218.195642 160.066283 \r\n",
       "L 218.80559 160.203763 \r\n",
       "L 219.415537 160.003262 \r\n",
       "L 220.025484 160.307782 \r\n",
       "L 221.245378 160.243668 \r\n",
       "L 221.855325 160.54388 \r\n",
       "L 222.465273 160.676523 \r\n",
       "L 223.07522 160.643451 \r\n",
       "L 223.685167 160.774749 \r\n",
       "L 225.515008 160.675919 \r\n",
       "L 226.124956 160.805189 \r\n",
       "L 226.734903 161.094664 \r\n",
       "L 227.34485 161.221488 \r\n",
       "L 227.954797 161.18741 \r\n",
       "L 228.564744 160.994165 \r\n",
       "L 229.174691 161.278829 \r\n",
       "L 229.784639 160.928354 \r\n",
       "L 231.004533 161.1778 \r\n",
       "L 231.61448 161.457811 \r\n",
       "L 232.224427 161.267682 \r\n",
       "L 232.834374 161.389913 \r\n",
       "L 233.444322 161.666253 \r\n",
       "L 234.664216 161.905413 \r\n",
       "L 235.274163 161.870386 \r\n",
       "L 235.88411 161.682762 \r\n",
       "L 237.104005 161.918542 \r\n",
       "L 237.713952 161.883953 \r\n",
       "L 238.933846 162.416498 \r\n",
       "L 239.543793 162.530332 \r\n",
       "L 240.15374 162.494146 \r\n",
       "L 240.763688 162.755707 \r\n",
       "L 241.373635 162.867274 \r\n",
       "L 241.983582 162.830332 \r\n",
       "L 242.593529 162.940912 \r\n",
       "L 243.203476 162.90397 \r\n",
       "L 243.813423 162.574664 \r\n",
       "L 245.033318 162.794597 \r\n",
       "L 245.643265 162.613746 \r\n",
       "L 246.253212 162.867274 \r\n",
       "L 246.863159 162.831287 \r\n",
       "L 247.473106 163.082482 \r\n",
       "L 248.083054 163.046037 \r\n",
       "L 248.693001 162.867274 \r\n",
       "L 249.302948 163.115944 \r\n",
       "L 250.522842 163.043764 \r\n",
       "L 251.132789 163.14877 \r\n",
       "L 251.742737 163.393411 \r\n",
       "L 252.352684 163.077067 \r\n",
       "L 252.962631 163.041551 \r\n",
       "L 254.182525 162.694078 \r\n",
       "L 254.792472 162.798209 \r\n",
       "L 255.40242 163.039397 \r\n",
       "L 256.012367 163.141818 \r\n",
       "L 256.622314 162.969907 \r\n",
       "L 257.842208 163.173305 \r\n",
       "L 258.452155 163.409668 \r\n",
       "L 259.062103 163.239037 \r\n",
       "L 259.67205 163.204216 \r\n",
       "L 260.281997 163.035235 \r\n",
       "L 261.501891 163.23457 \r\n",
       "L 262.111838 162.933854 \r\n",
       "L 262.721786 162.900465 \r\n",
       "L 263.331733 162.602532 \r\n",
       "L 263.94168 162.702302 \r\n",
       "L 265.161574 162.637678 \r\n",
       "L 265.771521 162.867274 \r\n",
       "L 267.601363 163.15903 \r\n",
       "L 268.821257 163.092881 \r\n",
       "L 270.041152 162.514797 \r\n",
       "L 271.261046 162.707976 \r\n",
       "L 271.870993 162.676661 \r\n",
       "L 272.48094 162.898953 \r\n",
       "L 273.090887 162.993627 \r\n",
       "L 273.700835 162.961769 \r\n",
       "L 274.310782 162.804452 \r\n",
       "L 275.530676 162.742339 \r\n",
       "L 276.140623 162.462374 \r\n",
       "L 276.75057 162.680922 \r\n",
       "L 277.970465 162.867274 \r\n",
       "L 278.580412 163.08288 \r\n",
       "L 279.190359 163.174432 \r\n",
       "L 280.410253 163.11165 \r\n",
       "L 282.850042 162.50469 \r\n",
       "L 284.069936 162.446547 \r\n",
       "L 284.679884 162.657481 \r\n",
       "L 285.289831 162.747714 \r\n",
       "L 286.509725 162.688888 \r\n",
       "L 287.119672 162.77832 \r\n",
       "L 287.729619 162.985562 \r\n",
       "L 290.169408 162.867274 \r\n",
       "L 290.779355 162.72135 \r\n",
       "L 291.99925 162.896302 \r\n",
       "L 293.219144 162.838391 \r\n",
       "L 293.829091 163.040106 \r\n",
       "L 295.048985 162.981903 \r\n",
       "L 295.658933 163.067358 \r\n",
       "L 297.488774 162.98073 \r\n",
       "L 298.098721 163.065323 \r\n",
       "L 298.708668 163.0366 \r\n",
       "L 299.928563 163.204216 \r\n",
       "L 303.588246 163.033227 \r\n",
       "L 305.418087 163.169276 \r\n",
       "L 307.247929 162.867274 \r\n",
       "L 307.857876 162.840088 \r\n",
       "L 308.467823 163.029992 \r\n",
       "L 311.517559 163.001236 \r\n",
       "L 312.737453 163.16058 \r\n",
       "L 313.957348 162.787658 \r\n",
       "L 314.567295 162.867274 \r\n",
       "L 315.787189 162.709182 \r\n",
       "L 317.007083 162.972167 \r\n",
       "L 320.056819 162.841354 \r\n",
       "L 321.886661 163.279093 \r\n",
       "L 322.496608 163.149745 \r\n",
       "L 323.106555 163.328435 \r\n",
       "L 323.716502 163.19957 \r\n",
       "L 325.546344 163.425766 \r\n",
       "L 326.156291 163.297856 \r\n",
       "L 327.376185 163.44718 \r\n",
       "L 327.986132 163.320084 \r\n",
       "L 331.645815 163.661493 \r\n",
       "L 332.255763 163.634963 \r\n",
       "L 332.86571 163.806218 \r\n",
       "L 334.085604 163.752866 \r\n",
       "L 334.695551 163.922729 \r\n",
       "L 335.305498 163.699979 \r\n",
       "L 335.915446 163.869212 \r\n",
       "L 336.525393 163.647562 \r\n",
       "L 337.745287 163.886927 \r\n",
       "L 340.795023 163.851901 \r\n",
       "L 342.624865 163.964867 \r\n",
       "L 344.454706 163.981555 \r\n",
       "L 345.6746 164.212894 \r\n",
       "L 348.114389 163.827028 \r\n",
       "L 349.334283 163.869623 \r\n",
       "L 349.944231 164.03036 \r\n",
       "L 350.554178 163.911867 \r\n",
       "L 352.993966 164.455712 \r\n",
       "L 356.043702 164.234374 \r\n",
       "L 356.653649 164.026933 \r\n",
       "L 357.263597 164.092645 \r\n",
       "L 358.483491 163.771264 \r\n",
       "L 359.703385 163.722585 \r\n",
       "L 360.92328 163.943314 \r\n",
       "L 363.363068 164.290515 \r\n",
       "L 363.363068 164.290515 \r\n",
       "\" style=\"fill:none;stroke:#1f77b4;stroke-linecap:square;stroke-width:1.5;\"/>\r\n",
       "   </g>\r\n",
       "   <g id=\"line2d_14\">\r\n",
       "    <path clip-path=\"url(#pe5b2feb27e)\" d=\"M 58.999432 151.74818 \r\n",
       "L 59.609379 173.986361 \r\n",
       "L 60.219326 181.399088 \r\n",
       "L 60.829273 162.867274 \r\n",
       "L 61.43922 160.643451 \r\n",
       "L 62.049168 159.160907 \r\n",
       "L 62.659115 145.394415 \r\n",
       "L 63.269062 151.74818 \r\n",
       "L 63.879009 161.631816 \r\n",
       "L 65.098903 167.921408 \r\n",
       "L 65.708851 166.573634 \r\n",
       "L 66.318798 168.854473 \r\n",
       "L 66.928745 173.986361 \r\n",
       "L 67.538692 175.468912 \r\n",
       "L 68.148639 179.545908 \r\n",
       "L 68.758586 180.527002 \r\n",
       "L 69.368534 176.45727 \r\n",
       "L 70.588428 178.434 \r\n",
       "L 71.198375 179.281166 \r\n",
       "L 71.808322 176.008019 \r\n",
       "L 72.418269 174.95324 \r\n",
       "L 73.028217 175.839548 \r\n",
       "L 73.638164 173.096839 \r\n",
       "L 74.248111 172.275732 \r\n",
       "L 75.468005 177.163244 \r\n",
       "L 76.077952 177.820532 \r\n",
       "L 76.6879 176.951456 \r\n",
       "L 77.297847 177.573168 \r\n",
       "L 77.907794 172.596476 \r\n",
       "L 78.517741 171.96471 \r\n",
       "L 79.127688 170.061976 \r\n",
       "L 79.737635 170.809478 \r\n",
       "L 80.95753 169.779141 \r\n",
       "L 81.567477 166.963782 \r\n",
       "L 82.177424 167.714054 \r\n",
       "L 84.617213 166.228859 \r\n",
       "L 85.22716 165.89975 \r\n",
       "L 85.837107 167.561999 \r\n",
       "L 86.447054 166.251346 \r\n",
       "L 87.057002 167.835377 \r\n",
       "L 88.276896 168.994121 \r\n",
       "L 88.886843 170.428251 \r\n",
       "L 89.49679 170.061976 \r\n",
       "L 90.106737 171.42042 \r\n",
       "L 90.716685 169.370894 \r\n",
       "L 91.326632 169.868182 \r\n",
       "L 91.936579 168.730068 \r\n",
       "L 93.156473 169.694786 \r\n",
       "L 94.376368 169.086422 \r\n",
       "L 95.596262 169.976197 \r\n",
       "L 96.816156 167.985582 \r\n",
       "L 97.426103 169.12176 \r\n",
       "L 98.036051 169.538729 \r\n",
       "L 98.645998 168.595292 \r\n",
       "L 99.255945 169.007668 \r\n",
       "L 99.865892 168.099787 \r\n",
       "L 100.475839 167.862808 \r\n",
       "L 101.085786 166.997224 \r\n",
       "L 101.695734 166.782447 \r\n",
       "L 102.305681 164.720454 \r\n",
       "L 102.915628 163.933486 \r\n",
       "L 103.525575 164.369853 \r\n",
       "L 104.135522 163.015524 \r\n",
       "L 104.745469 162.28206 \r\n",
       "L 105.355417 163.300487 \r\n",
       "L 105.965364 162.011956 \r\n",
       "L 107.185258 161.755366 \r\n",
       "L 107.795205 162.180911 \r\n",
       "L 108.405152 162.053683 \r\n",
       "L 109.0151 159.786079 \r\n",
       "L 110.234994 158.550449 \r\n",
       "L 110.844941 159.505689 \r\n",
       "L 112.064835 159.329378 \r\n",
       "L 112.674783 158.744462 \r\n",
       "L 113.28473 159.160907 \r\n",
       "L 113.894677 158.101946 \r\n",
       "L 114.504624 158.99976 \r\n",
       "L 115.114571 158.921787 \r\n",
       "L 115.724518 157.426015 \r\n",
       "L 116.334466 157.834421 \r\n",
       "L 117.55436 159.543009 \r\n",
       "L 118.164307 159.91731 \r\n",
       "L 118.774254 158.487024 \r\n",
       "L 119.384201 157.974871 \r\n",
       "L 119.994149 156.592143 \r\n",
       "L 121.214043 157.361702 \r\n",
       "L 121.82399 158.163045 \r\n",
       "L 123.043884 158.042007 \r\n",
       "L 123.653832 157.567518 \r\n",
       "L 124.263779 157.513637 \r\n",
       "L 125.483673 158.21747 \r\n",
       "L 126.09362 158.960565 \r\n",
       "L 126.703567 159.293278 \r\n",
       "L 127.313515 159.226506 \r\n",
       "L 128.533409 159.86995 \r\n",
       "L 129.143356 160.566771 \r\n",
       "L 129.753303 160.491397 \r\n",
       "L 130.36325 160.79422 \r\n",
       "L 130.973198 160.344452 \r\n",
       "L 131.583145 160.643451 \r\n",
       "L 132.193092 161.305087 \r\n",
       "L 132.803039 160.862192 \r\n",
       "L 133.412986 161.511289 \r\n",
       "L 135.242828 161.278829 \r\n",
       "L 135.852775 161.553996 \r\n",
       "L 137.072669 162.781077 \r\n",
       "L 137.682616 163.038336 \r\n",
       "L 138.292564 162.952152 \r\n",
       "L 138.902511 162.530332 \r\n",
       "L 139.512458 162.783668 \r\n",
       "L 140.122405 162.701315 \r\n",
       "L 140.732352 162.290728 \r\n",
       "L 141.342299 162.867274 \r\n",
       "L 141.952247 162.786114 \r\n",
       "L 142.562194 163.028422 \r\n",
       "L 143.172141 163.587212 \r\n",
       "L 143.782088 163.184963 \r\n",
       "L 144.392035 163.419285 \r\n",
       "L 145.001982 163.023882 \r\n",
       "L 145.61193 162.322984 \r\n",
       "L 146.221877 161.940684 \r\n",
       "L 148.051718 161.732673 \r\n",
       "L 150.491507 163.824543 \r\n",
       "L 151.101454 164.037703 \r\n",
       "L 151.711401 164.538768 \r\n",
       "L 152.321348 164.455712 \r\n",
       "L 152.931296 164.660674 \r\n",
       "L 153.541243 164.007694 \r\n",
       "L 154.15119 163.646316 \r\n",
       "L 155.371084 164.056107 \r\n",
       "L 155.981031 163.423228 \r\n",
       "L 156.590979 163.626964 \r\n",
       "L 157.200926 164.102725 \r\n",
       "L 157.810873 164.299794 \r\n",
       "L 158.42082 163.952062 \r\n",
       "L 159.030767 163.338993 \r\n",
       "L 159.640714 163.269165 \r\n",
       "L 160.250662 163.732831 \r\n",
       "L 160.860609 163.926235 \r\n",
       "L 161.470556 163.854174 \r\n",
       "L 162.080503 164.044589 \r\n",
       "L 162.69045 164.492873 \r\n",
       "L 163.910345 164.859711 \r\n",
       "L 164.520292 164.528747 \r\n",
       "L 165.740186 164.888925 \r\n",
       "L 166.96008 164.241545 \r\n",
       "L 167.570028 164.420215 \r\n",
       "L 168.179975 164.102725 \r\n",
       "L 168.789922 164.280196 \r\n",
       "L 169.399869 164.211337 \r\n",
       "L 170.009816 164.629313 \r\n",
       "L 171.229711 164.490056 \r\n",
       "L 171.839658 164.899794 \r\n",
       "L 172.449605 165.067304 \r\n",
       "L 174.279446 164.857007 \r\n",
       "L 174.889394 165.02123 \r\n",
       "L 175.499341 164.952105 \r\n",
       "L 176.109288 165.344585 \r\n",
       "L 176.719235 164.586718 \r\n",
       "L 177.329182 164.292795 \r\n",
       "L 177.939129 164.682638 \r\n",
       "L 178.549077 164.842745 \r\n",
       "L 179.159024 164.327358 \r\n",
       "L 179.768971 164.711142 \r\n",
       "L 180.378918 164.646326 \r\n",
       "L 180.988865 164.80343 \r\n",
       "L 181.598812 165.179163 \r\n",
       "L 182.20876 165.332099 \r\n",
       "L 182.818707 165.265506 \r\n",
       "L 184.038601 165.566083 \r\n",
       "L 184.648548 165.499331 \r\n",
       "L 185.868443 165.793346 \r\n",
       "L 186.47839 165.514673 \r\n",
       "L 188.918178 166.088694 \r\n",
       "L 190.138073 165.955912 \r\n",
       "L 190.74802 165.685477 \r\n",
       "L 191.357967 166.029583 \r\n",
       "L 192.577861 165.89975 \r\n",
       "L 193.797756 166.172949 \r\n",
       "L 195.01765 166.044157 \r\n",
       "L 195.627597 166.375962 \r\n",
       "L 196.237544 166.311238 \r\n",
       "L 196.847492 166.638948 \r\n",
       "L 197.457439 166.573634 \r\n",
       "L 198.677333 167.218224 \r\n",
       "L 199.28728 166.958711 \r\n",
       "L 199.897227 166.509732 \r\n",
       "L 200.507175 165.873724 \r\n",
       "L 201.117122 165.813354 \r\n",
       "L 201.727069 165.942763 \r\n",
       "L 204.776805 165.647044 \r\n",
       "L 205.386752 165.773921 \r\n",
       "L 207.826541 164.818786 \r\n",
       "L 208.436488 164.946452 \r\n",
       "L 209.656382 164.840014 \r\n",
       "L 210.266329 164.966056 \r\n",
       "L 210.876276 164.913188 \r\n",
       "L 212.096171 165.514673 \r\n",
       "L 213.926012 165.875971 \r\n",
       "L 214.535959 166.16825 \r\n",
       "L 215.145907 166.285206 \r\n",
       "L 215.755854 166.056471 \r\n",
       "L 216.365801 166.172949 \r\n",
       "L 216.975748 165.946408 \r\n",
       "L 217.585695 165.892003 \r\n",
       "L 218.80559 166.460894 \r\n",
       "L 219.415537 166.573634 \r\n",
       "L 220.025484 166.349857 \r\n",
       "L 221.245378 166.906792 \r\n",
       "L 221.855325 166.850233 \r\n",
       "L 222.465273 166.628748 \r\n",
       "L 223.685167 166.847171 \r\n",
       "L 224.295114 166.628139 \r\n",
       "L 224.905061 166.736551 \r\n",
       "L 226.124956 167.274478 \r\n",
       "L 226.734903 167.057077 \r\n",
       "L 227.954797 166.946941 \r\n",
       "L 228.564744 167.051874 \r\n",
       "L 229.174691 166.997224 \r\n",
       "L 229.784639 166.784673 \r\n",
       "L 231.004533 166.678408 \r\n",
       "L 232.224427 165.949404 \r\n",
       "L 232.834374 165.89975 \r\n",
       "L 233.444322 165.695471 \r\n",
       "L 234.664216 165.906749 \r\n",
       "L 235.274163 165.857924 \r\n",
       "L 235.88411 165.962274 \r\n",
       "L 236.494057 165.761282 \r\n",
       "L 237.104005 165.865254 \r\n",
       "L 238.323899 166.372616 \r\n",
       "L 238.933846 166.473466 \r\n",
       "L 239.543793 166.274131 \r\n",
       "L 240.15374 166.225386 \r\n",
       "L 241.373635 166.425384 \r\n",
       "L 241.983582 166.376619 \r\n",
       "L 242.593529 166.622724 \r\n",
       "L 243.813423 166.817473 \r\n",
       "L 244.423371 167.059714 \r\n",
       "L 245.033318 166.864329 \r\n",
       "L 245.643265 166.959971 \r\n",
       "L 246.253212 166.910576 \r\n",
       "L 246.863159 167.005449 \r\n",
       "L 247.473106 166.812754 \r\n",
       "L 248.693001 167.001293 \r\n",
       "L 249.302948 166.810468 \r\n",
       "L 250.522842 166.714833 \r\n",
       "L 251.132789 166.808214 \r\n",
       "L 251.742737 166.760708 \r\n",
       "L 252.352684 166.993227 \r\n",
       "L 253.572578 167.175921 \r\n",
       "L 254.182525 167.404967 \r\n",
       "L 254.792472 167.356348 \r\n",
       "L 255.40242 167.44572 \r\n",
       "L 256.012367 167.397273 \r\n",
       "L 256.622314 167.485975 \r\n",
       "L 257.232261 167.437694 \r\n",
       "L 257.842208 167.525727 \r\n",
       "L 258.452155 167.477624 \r\n",
       "L 259.062103 167.294633 \r\n",
       "L 259.67205 167.517071 \r\n",
       "L 260.281997 167.335067 \r\n",
       "L 262.111838 167.994039 \r\n",
       "L 263.331733 168.162079 \r\n",
       "L 263.94168 167.981394 \r\n",
       "L 265.161574 167.885626 \r\n",
       "L 265.771521 167.576533 \r\n",
       "L 266.381469 167.660543 \r\n",
       "L 268.21131 167.521777 \r\n",
       "L 268.821257 167.347136 \r\n",
       "L 269.431204 167.430602 \r\n",
       "L 270.041152 167.641754 \r\n",
       "L 270.651099 167.596084 \r\n",
       "L 271.261046 167.805553 \r\n",
       "L 271.870993 167.886746 \r\n",
       "L 272.48094 167.714054 \r\n",
       "L 273.700835 167.623595 \r\n",
       "L 274.310782 167.704391 \r\n",
       "L 276.140623 168.317805 \r\n",
       "L 276.75057 168.023054 \r\n",
       "L 277.970465 167.685542 \r\n",
       "L 278.580412 167.887807 \r\n",
       "L 279.190359 167.843217 \r\n",
       "L 279.800306 168.043931 \r\n",
       "L 280.410253 167.876971 \r\n",
       "L 281.020201 167.832785 \r\n",
       "L 281.630148 167.91036 \r\n",
       "L 282.240095 167.86632 \r\n",
       "L 282.850042 167.943378 \r\n",
       "L 283.459989 167.899491 \r\n",
       "L 284.069936 167.735633 \r\n",
       "L 284.679884 167.452771 \r\n",
       "L 285.289831 167.530114 \r\n",
       "L 286.509725 167.921408 \r\n",
       "L 287.119672 167.878276 \r\n",
       "L 288.339567 168.028654 \r\n",
       "L 289.559461 168.412148 \r\n",
       "L 291.389302 168.63057 \r\n",
       "L 292.609197 168.310992 \r\n",
       "L 293.219144 168.499021 \r\n",
       "L 293.829091 168.455624 \r\n",
       "L 294.439038 168.182598 \r\n",
       "L 295.048985 168.25487 \r\n",
       "L 295.658933 168.212441 \r\n",
       "L 296.26888 168.398309 \r\n",
       "L 297.488774 168.313358 \r\n",
       "L 299.318616 167.849752 \r\n",
       "L 299.928563 167.809092 \r\n",
       "L 301.148457 168.063634 \r\n",
       "L 301.758404 168.245678 \r\n",
       "L 302.368351 167.982056 \r\n",
       "L 302.978299 168.052487 \r\n",
       "L 303.588246 167.901287 \r\n",
       "L 304.80814 168.151594 \r\n",
       "L 308.467823 167.911546 \r\n",
       "L 311.517559 168.252664 \r\n",
       "L 312.127506 168.106077 \r\n",
       "L 315.787189 168.40047 \r\n",
       "L 316.397136 168.255957 \r\n",
       "L 317.007083 168.426821 \r\n",
       "L 317.617031 168.282925 \r\n",
       "L 318.226978 168.45292 \r\n",
       "L 318.836925 168.30964 \r\n",
       "L 320.056819 168.336104 \r\n",
       "L 320.666766 168.090661 \r\n",
       "L 322.496608 167.874717 \r\n",
       "L 323.106555 167.632595 \r\n",
       "L 323.716502 167.596084 \r\n",
       "L 324.326449 167.763753 \r\n",
       "L 324.936397 167.523553 \r\n",
       "L 327.376185 167.380465 \r\n",
       "L 328.59608 167.611082 \r\n",
       "L 329.206027 167.575353 \r\n",
       "L 329.815974 167.739682 \r\n",
       "L 330.425921 167.50438 \r\n",
       "L 332.255763 167.696279 \r\n",
       "L 332.86571 167.463163 \r\n",
       "L 338.355234 168.124011 \r\n",
       "L 338.965181 168.281785 \r\n",
       "L 339.575129 168.149447 \r\n",
       "L 340.185076 168.210214 \r\n",
       "L 340.795023 167.982533 \r\n",
       "L 341.40497 168.139254 \r\n",
       "L 342.624865 167.782582 \r\n",
       "L 344.454706 167.774848 \r\n",
       "L 345.064653 167.930011 \r\n",
       "L 351.164125 167.685542 \r\n",
       "L 351.774072 167.837345 \r\n",
       "L 352.384019 167.527138 \r\n",
       "L 353.603914 167.553834 \r\n",
       "L 354.213861 167.429542 \r\n",
       "L 355.433755 167.639123 \r\n",
       "L 356.653649 167.756032 \r\n",
       "L 357.873544 167.600246 \r\n",
       "L 358.483491 167.748828 \r\n",
       "L 359.703385 167.774079 \r\n",
       "L 360.92328 167.799131 \r\n",
       "L 362.143174 167.645353 \r\n",
       "L 363.363068 167.581769 \r\n",
       "L 363.363068 167.581769 \r\n",
       "\" style=\"fill:none;stroke:#ff7f0e;stroke-linecap:square;stroke-width:1.5;\"/>\r\n",
       "   </g>\r\n",
       "   <g id=\"line2d_15\">\r\n",
       "    <path clip-path=\"url(#pe5b2feb27e)\" d=\"M 58.999432 196.224545 \r\n",
       "L 59.609379 129.51 \r\n",
       "L 60.219326 122.097267 \r\n",
       "L 60.829273 140.629094 \r\n",
       "L 61.43922 142.85291 \r\n",
       "L 62.049168 144.335454 \r\n",
       "L 62.659115 145.394415 \r\n",
       "L 63.269062 151.74818 \r\n",
       "L 63.879009 151.74818 \r\n",
       "L 64.488956 156.195819 \r\n",
       "L 65.708851 155.454547 \r\n",
       "L 66.928745 161.278829 \r\n",
       "L 68.148639 160.087497 \r\n",
       "L 68.758586 162.213207 \r\n",
       "L 69.368534 161.631816 \r\n",
       "L 70.588428 165.09109 \r\n",
       "L 71.198375 166.573634 \r\n",
       "L 71.808322 163.8781 \r\n",
       "L 72.418269 167.218224 \r\n",
       "L 73.638164 169.538729 \r\n",
       "L 74.248111 167.143844 \r\n",
       "L 75.468005 169.22104 \r\n",
       "L 76.077952 168.618528 \r\n",
       "L 76.6879 169.538729 \r\n",
       "L 77.297847 171.834281 \r\n",
       "L 77.907794 169.816706 \r\n",
       "L 78.517741 169.269175 \r\n",
       "L 80.347583 175.221819 \r\n",
       "L 80.95753 176.991526 \r\n",
       "L 81.567477 176.327225 \r\n",
       "L 82.177424 176.83741 \r\n",
       "L 82.787371 176.210184 \r\n",
       "L 83.397319 174.528755 \r\n",
       "L 84.617213 173.469198 \r\n",
       "L 85.22716 173.986361 \r\n",
       "L 85.837107 171.515452 \r\n",
       "L 86.447054 170.118853 \r\n",
       "L 87.057002 169.72799 \r\n",
       "L 87.666949 167.500224 \r\n",
       "L 88.276896 168.994121 \r\n",
       "L 88.886843 168.6492 \r\n",
       "L 89.49679 167.44572 \r\n",
       "L 91.936579 169.538729 \r\n",
       "L 92.546526 170.015259 \r\n",
       "L 93.76642 172.452699 \r\n",
       "L 94.986315 171.762545 \r\n",
       "L 95.596262 170.70532 \r\n",
       "L 96.206209 171.834281 \r\n",
       "L 96.816156 171.515452 \r\n",
       "L 97.426103 171.901537 \r\n",
       "L 98.036051 170.907234 \r\n",
       "L 98.645998 169.269175 \r\n",
       "L 99.255945 168.343838 \r\n",
       "L 99.865892 168.753848 \r\n",
       "L 100.475839 168.507391 \r\n",
       "L 101.085786 166.361846 \r\n",
       "L 101.695734 166.156016 \r\n",
       "L 102.305681 166.573634 \r\n",
       "L 102.915628 167.589079 \r\n",
       "L 103.525575 167.976045 \r\n",
       "L 104.135522 167.759671 \r\n",
       "L 104.745469 168.719425 \r\n",
       "L 105.355417 167.343789 \r\n",
       "L 107.795205 166.573634 \r\n",
       "L 108.405152 165.850442 \r\n",
       "L 109.0151 166.752258 \r\n",
       "L 110.234994 167.44572 \r\n",
       "L 113.28473 166.573634 \r\n",
       "L 113.894677 167.38822 \r\n",
       "L 114.504624 167.70166 \r\n",
       "L 115.114571 168.486601 \r\n",
       "L 115.724518 168.781683 \r\n",
       "L 116.334466 168.13421 \r\n",
       "L 117.55436 168.713394 \r\n",
       "L 118.774254 168.370659 \r\n",
       "L 119.384201 169.093964 \r\n",
       "L 119.994149 169.362583 \r\n",
       "L 120.604096 170.061976 \r\n",
       "L 121.214043 169.884174 \r\n",
       "L 121.82399 170.565102 \r\n",
       "L 123.653832 171.28453 \r\n",
       "L 124.263779 171.927271 \r\n",
       "L 124.873726 171.742145 \r\n",
       "L 125.483673 171.15605 \r\n",
       "L 126.703567 172.397923 \r\n",
       "L 127.313515 172.608777 \r\n",
       "L 128.533409 172.245981 \r\n",
       "L 129.143356 171.302444 \r\n",
       "L 129.753303 171.135312 \r\n",
       "L 130.973198 172.304482 \r\n",
       "L 131.583145 172.133181 \r\n",
       "L 132.803039 170.340762 \r\n",
       "L 133.412986 170.912794 \r\n",
       "L 134.022933 170.758241 \r\n",
       "L 134.632881 171.31778 \r\n",
       "L 135.242828 171.515452 \r\n",
       "L 135.852775 171.359805 \r\n",
       "L 136.462722 171.554064 \r\n",
       "L 137.682616 171.249358 \r\n",
       "L 138.292564 171.440005 \r\n",
       "L 138.902511 171.96471 \r\n",
       "L 140.732352 171.515452 \r\n",
       "L 141.342299 172.024172 \r\n",
       "L 141.952247 171.551525 \r\n",
       "L 142.562194 172.05261 \r\n",
       "L 143.782088 171.762545 \r\n",
       "L 144.392035 171.305162 \r\n",
       "L 146.221877 171.82432 \r\n",
       "L 146.831824 171.685865 \r\n",
       "L 147.441771 171.853938 \r\n",
       "L 148.661665 171.582237 \r\n",
       "L 149.271613 170.852126 \r\n",
       "L 149.88156 169.835236 \r\n",
       "L 150.491507 170.304542 \r\n",
       "L 151.101454 170.475075 \r\n",
       "L 151.711401 169.771281 \r\n",
       "L 154.15119 171.578407 \r\n",
       "L 155.981031 172.040522 \r\n",
       "L 156.590979 171.91448 \r\n",
       "L 157.200926 172.064547 \r\n",
       "L 158.42082 171.816784 \r\n",
       "L 159.030767 171.96471 \r\n",
       "L 159.640714 171.039134 \r\n",
       "L 160.250662 171.189943 \r\n",
       "L 160.860609 171.603704 \r\n",
       "L 162.080503 171.893358 \r\n",
       "L 162.69045 172.29574 \r\n",
       "L 163.300397 171.65911 \r\n",
       "L 163.910345 172.058197 \r\n",
       "L 164.520292 172.197083 \r\n",
       "L 165.130239 172.080234 \r\n",
       "L 166.350133 171.347935 \r\n",
       "L 166.96008 171.237826 \r\n",
       "L 168.179975 170.527094 \r\n",
       "L 168.789922 170.669068 \r\n",
       "L 170.009816 170.462277 \r\n",
       "L 170.619763 170.118853 \r\n",
       "L 171.229711 170.259966 \r\n",
       "L 171.839658 170.160441 \r\n",
       "L 173.059552 170.437715 \r\n",
       "L 173.669499 170.338833 \r\n",
       "L 174.279446 170.475075 \r\n",
       "L 174.889394 170.144164 \r\n",
       "L 175.499341 170.04835 \r\n",
       "L 176.109288 170.183982 \r\n",
       "L 176.719235 169.859692 \r\n",
       "L 177.329182 170.222978 \r\n",
       "L 177.939129 170.35564 \r\n",
       "L 178.549077 170.261185 \r\n",
       "L 179.768971 170.522123 \r\n",
       "L 180.378918 170.428251 \r\n",
       "L 181.598812 169.802941 \r\n",
       "L 182.20876 169.27581 \r\n",
       "L 183.428654 169.104814 \r\n",
       "L 184.038601 168.804654 \r\n",
       "L 184.648548 168.722255 \r\n",
       "L 185.258495 167.999162 \r\n",
       "L 185.868443 167.708599 \r\n",
       "L 186.47839 168.056185 \r\n",
       "L 187.088337 167.978895 \r\n",
       "L 188.308231 168.244107 \r\n",
       "L 188.918178 167.959191 \r\n",
       "L 189.528126 168.297525 \r\n",
       "L 190.138073 167.809092 \r\n",
       "L 191.357967 167.661743 \r\n",
       "L 191.967914 167.995258 \r\n",
       "L 192.577861 167.921408 \r\n",
       "L 193.187809 168.250722 \r\n",
       "L 194.407703 168.501612 \r\n",
       "L 195.627597 168.352692 \r\n",
       "L 196.237544 168.476017 \r\n",
       "L 196.847492 168.794189 \r\n",
       "L 197.457439 168.524351 \r\n",
       "L 198.677333 168.765227 \r\n",
       "L 199.28728 168.499021 \r\n",
       "L 199.897227 168.618528 \r\n",
       "L 200.507175 168.927893 \r\n",
       "L 201.117122 168.664403 \r\n",
       "L 201.727069 168.970945 \r\n",
       "L 202.337016 169.086422 \r\n",
       "L 202.946963 168.825604 \r\n",
       "L 203.55691 169.127599 \r\n",
       "L 204.776805 168.982775 \r\n",
       "L 205.386752 169.280356 \r\n",
       "L 205.996699 169.024124 \r\n",
       "L 206.606646 168.953031 \r\n",
       "L 207.216593 169.247079 \r\n",
       "L 207.826541 168.994121 \r\n",
       "L 208.436488 168.924015 \r\n",
       "L 209.046435 168.674411 \r\n",
       "L 209.656382 168.606161 \r\n",
       "L 210.266329 168.717079 \r\n",
       "L 210.876276 168.6492 \r\n",
       "L 211.486224 168.404672 \r\n",
       "L 212.096171 168.691556 \r\n",
       "L 212.706118 168.624585 \r\n",
       "L 213.316065 168.908355 \r\n",
       "L 215.755854 169.331858 \r\n",
       "L 216.365801 169.092248 \r\n",
       "L 217.585695 169.640971 \r\n",
       "L 218.80559 169.84313 \r\n",
       "L 219.415537 169.774588 \r\n",
       "L 220.025484 169.874398 \r\n",
       "L 220.635431 169.639049 \r\n",
       "L 222.465273 169.935543 \r\n",
       "L 223.07522 170.197634 \r\n",
       "L 223.685167 170.129557 \r\n",
       "L 224.905061 170.320727 \r\n",
       "L 225.515008 170.252947 \r\n",
       "L 226.124956 170.347389 \r\n",
       "L 226.734903 170.118853 \r\n",
       "L 227.954797 170.306663 \r\n",
       "L 228.564744 170.24015 \r\n",
       "L 229.174691 170.332948 \r\n",
       "L 229.784639 170.583368 \r\n",
       "L 230.394586 170.674297 \r\n",
       "L 231.004533 170.607419 \r\n",
       "L 231.61448 170.697619 \r\n",
       "L 232.224427 170.943241 \r\n",
       "L 232.834374 170.876131 \r\n",
       "L 233.444322 170.654507 \r\n",
       "L 234.664216 170.523674 \r\n",
       "L 235.88411 170.70031 \r\n",
       "L 236.494057 170.94004 \r\n",
       "L 237.104005 170.874534 \r\n",
       "L 237.713952 170.50692 \r\n",
       "L 238.933846 170.079658 \r\n",
       "L 239.543793 170.167685 \r\n",
       "L 240.15374 169.956626 \r\n",
       "L 240.763688 169.895725 \r\n",
       "L 241.373635 169.538729 \r\n",
       "L 241.983582 169.627385 \r\n",
       "L 242.593529 169.568181 \r\n",
       "L 243.203476 169.656155 \r\n",
       "L 244.423371 169.538729 \r\n",
       "L 245.643265 170.002322 \r\n",
       "L 246.863159 169.884174 \r\n",
       "L 247.473106 169.969145 \r\n",
       "L 248.083054 169.767543 \r\n",
       "L 248.693001 169.852342 \r\n",
       "L 249.302948 169.794504 \r\n",
       "L 249.912895 170.020316 \r\n",
       "L 250.522842 169.82112 \r\n",
       "L 252.962631 169.594499 \r\n",
       "L 253.572578 169.677714 \r\n",
       "L 254.792472 169.566352 \r\n",
       "L 255.40242 169.648884 \r\n",
       "L 256.622314 169.538729 \r\n",
       "L 257.232261 169.620585 \r\n",
       "L 258.452155 169.240412 \r\n",
       "L 259.062103 169.457615 \r\n",
       "L 259.67205 169.538729 \r\n",
       "L 260.281997 169.48498 \r\n",
       "L 260.891944 169.163626 \r\n",
       "L 261.501891 168.977764 \r\n",
       "L 262.111838 168.926176 \r\n",
       "L 262.721786 168.609369 \r\n",
       "L 263.331733 168.691556 \r\n",
       "L 263.94168 168.905233 \r\n",
       "L 265.771521 169.146288 \r\n",
       "L 266.381469 168.964841 \r\n",
       "L 266.991416 169.174594 \r\n",
       "L 267.601363 169.123788 \r\n",
       "L 268.21131 169.202569 \r\n",
       "L 268.821257 168.765227 \r\n",
       "L 269.431204 168.973132 \r\n",
       "L 270.041152 169.051668 \r\n",
       "L 270.651099 169.001942 \r\n",
       "L 271.261046 169.207387 \r\n",
       "L 271.870993 169.157502 \r\n",
       "L 272.48094 169.361331 \r\n",
       "L 273.090887 169.311293 \r\n",
       "L 273.700835 169.513531 \r\n",
       "L 274.920729 169.16287 \r\n",
       "L 275.530676 169.113953 \r\n",
       "L 276.140623 169.189891 \r\n",
       "L 276.75057 169.389643 \r\n",
       "L 277.360518 169.464395 \r\n",
       "L 277.970465 169.291636 \r\n",
       "L 278.580412 169.489447 \r\n",
       "L 279.800306 169.391698 \r\n",
       "L 280.410253 169.5876 \r\n",
       "L 282.240095 169.805346 \r\n",
       "L 282.850042 169.997994 \r\n",
       "L 283.459989 170.069068 \r\n",
       "L 284.069936 170.019554 \r\n",
       "L 284.679884 170.210068 \r\n",
       "L 285.289831 170.160441 \r\n",
       "L 285.899778 170.230315 \r\n",
       "L 286.509725 170.1809 \r\n",
       "L 287.119672 169.775934 \r\n",
       "L 287.729619 169.609703 \r\n",
       "L 288.339567 169.326371 \r\n",
       "L 288.949514 169.39753 \r\n",
       "L 290.169408 169.304639 \r\n",
       "L 292.609197 168.542643 \r\n",
       "L 293.219144 168.267973 \r\n",
       "L 293.829091 168.225179 \r\n",
       "L 294.439038 168.297525 \r\n",
       "L 295.658933 167.869435 \r\n",
       "L 296.878827 168.014471 \r\n",
       "L 298.708668 167.890617 \r\n",
       "L 299.318616 167.962353 \r\n",
       "L 299.928563 167.921408 \r\n",
       "L 300.53851 167.9927 \r\n",
       "L 301.148457 167.728382 \r\n",
       "L 301.758404 167.688332 \r\n",
       "L 302.978299 168.052487 \r\n",
       "L 303.588246 168.011926 \r\n",
       "L 304.80814 167.601141 \r\n",
       "L 306.028034 167.851693 \r\n",
       "L 307.857876 167.95106 \r\n",
       "L 308.467823 167.477624 \r\n",
       "L 309.07777 167.222923 \r\n",
       "L 310.297665 167.255676 \r\n",
       "L 313.3474 167.176584 \r\n",
       "L 313.957348 167.245914 \r\n",
       "L 314.567295 167.103118 \r\n",
       "L 319.446872 167.647441 \r\n",
       "L 321.276714 167.536775 \r\n",
       "L 322.496608 167.771998 \r\n",
       "L 323.106555 167.530114 \r\n",
       "L 323.716502 167.698327 \r\n",
       "L 324.326449 167.457722 \r\n",
       "L 324.936397 167.523553 \r\n",
       "L 326.156291 167.35037 \r\n",
       "L 327.986132 167.546345 \r\n",
       "L 330.425921 167.105491 \r\n",
       "L 332.86571 167.06782 \r\n",
       "L 334.085604 167.098432 \r\n",
       "L 336.525393 166.963782 \r\n",
       "L 337.13534 166.735842 \r\n",
       "L 338.355234 166.96123 \r\n",
       "L 341.40497 166.893152 \r\n",
       "L 342.624865 167.20992 \r\n",
       "L 343.234812 167.081572 \r\n",
       "L 344.454706 167.205851 \r\n",
       "L 345.064653 167.078331 \r\n",
       "L 349.334283 167.412814 \r\n",
       "L 351.774072 167.282544 \r\n",
       "L 352.384019 167.434864 \r\n",
       "L 352.993966 167.218224 \r\n",
       "L 354.213861 167.429542 \r\n",
       "L 355.433755 167.456469 \r\n",
       "L 356.653649 167.483172 \r\n",
       "L 358.483491 167.658422 \r\n",
       "L 359.703385 167.323913 \r\n",
       "L 360.92328 167.350774 \r\n",
       "L 361.533227 167.408871 \r\n",
       "L 362.753121 167.256975 \r\n",
       "L 363.363068 167.40386 \r\n",
       "L 363.363068 167.40386 \r\n",
       "\" style=\"fill:none;stroke:#2ca02c;stroke-linecap:square;stroke-width:1.5;\"/>\r\n",
       "   </g>\r\n",
       "   <g id=\"line2d_16\">\r\n",
       "    <path clip-path=\"url(#pe5b2feb27e)\" d=\"M 58.999432 196.224545 \r\n",
       "L 59.609379 173.986361 \r\n",
       "L 60.219326 181.399088 \r\n",
       "L 60.829273 185.105455 \r\n",
       "L 61.43922 178.434 \r\n",
       "L 62.049168 181.399088 \r\n",
       "L 62.659115 189.870779 \r\n",
       "L 63.269062 185.105455 \r\n",
       "L 63.879009 186.340909 \r\n",
       "L 64.488956 178.434 \r\n",
       "L 65.098903 180.051321 \r\n",
       "L 65.708851 173.986361 \r\n",
       "L 66.318798 172.275732 \r\n",
       "L 67.538692 175.468912 \r\n",
       "L 68.758586 172.678233 \r\n",
       "L 69.368534 173.986361 \r\n",
       "L 69.978481 168.13421 \r\n",
       "L 71.198375 170.809478 \r\n",
       "L 71.808322 171.96471 \r\n",
       "L 72.418269 167.218224 \r\n",
       "L 73.028217 170.280001 \r\n",
       "L 73.638164 167.759671 \r\n",
       "L 74.248111 168.854473 \r\n",
       "L 74.858058 164.926364 \r\n",
       "L 75.468005 164.455712 \r\n",
       "L 76.077952 162.483854 \r\n",
       "L 76.6879 162.126002 \r\n",
       "L 77.297847 158.921787 \r\n",
       "L 77.907794 161.477389 \r\n",
       "L 78.517741 161.182565 \r\n",
       "L 79.127688 163.521335 \r\n",
       "L 79.737635 161.914207 \r\n",
       "L 80.347583 159.160907 \r\n",
       "L 81.567477 163.452488 \r\n",
       "L 82.177424 164.292795 \r\n",
       "L 83.397319 168.020025 \r\n",
       "L 84.007266 167.632595 \r\n",
       "L 84.617213 168.297525 \r\n",
       "L 85.22716 166.910576 \r\n",
       "L 85.837107 167.561999 \r\n",
       "L 87.666949 166.573634 \r\n",
       "L 88.276896 165.363394 \r\n",
       "L 88.886843 163.312039 \r\n",
       "L 89.49679 163.957378 \r\n",
       "L 90.106737 163.722585 \r\n",
       "L 91.326632 164.926364 \r\n",
       "L 91.936579 166.304081 \r\n",
       "L 92.546526 166.044157 \r\n",
       "L 93.156473 164.232777 \r\n",
       "L 94.376368 166.824916 \r\n",
       "L 94.986315 165.832362 \r\n",
       "L 95.596262 166.330597 \r\n",
       "L 96.816156 165.86766 \r\n",
       "L 98.645998 167.247518 \r\n",
       "L 100.475839 166.573634 \r\n",
       "L 101.085786 167.632595 \r\n",
       "L 101.695734 167.408871 \r\n",
       "L 102.915628 168.198345 \r\n",
       "L 103.525575 167.375011 \r\n",
       "L 104.135522 167.759671 \r\n",
       "L 104.745469 166.963782 \r\n",
       "L 105.355417 166.766176 \r\n",
       "L 105.965364 167.143844 \r\n",
       "L 106.575311 168.074947 \r\n",
       "L 107.185258 168.426821 \r\n",
       "L 107.795205 168.220911 \r\n",
       "L 108.405152 169.104814 \r\n",
       "L 109.0151 169.431556 \r\n",
       "L 109.625047 169.22104 \r\n",
       "L 110.234994 169.538729 \r\n",
       "L 110.844941 169.331858 \r\n",
       "L 111.454888 170.152196 \r\n",
       "L 112.064835 169.943059 \r\n",
       "L 112.674783 170.238354 \r\n",
       "L 113.894677 171.78698 \r\n",
       "L 114.504624 172.05261 \r\n",
       "L 115.114571 172.790761 \r\n",
       "L 115.724518 173.040061 \r\n",
       "L 116.334466 173.752278 \r\n",
       "L 116.944413 172.596476 \r\n",
       "L 117.55436 172.840063 \r\n",
       "L 118.164307 171.71716 \r\n",
       "L 118.774254 171.515452 \r\n",
       "L 119.994149 172.004747 \r\n",
       "L 120.604096 170.934062 \r\n",
       "L 121.214043 171.611412 \r\n",
       "L 121.82399 170.992761 \r\n",
       "L 122.433937 169.538729 \r\n",
       "L 123.043884 168.531714 \r\n",
       "L 123.653832 169.206194 \r\n",
       "L 124.263779 168.63273 \r\n",
       "L 124.873726 167.661743 \r\n",
       "L 125.483673 167.921408 \r\n",
       "L 126.09362 167.775703 \r\n",
       "L 126.703567 168.426821 \r\n",
       "L 127.313515 167.885626 \r\n",
       "L 127.923462 168.13421 \r\n",
       "L 129.753303 167.714054 \r\n",
       "L 130.36325 167.201834 \r\n",
       "L 130.973198 167.44572 \r\n",
       "L 131.583145 167.314906 \r\n",
       "L 136.462722 169.12176 \r\n",
       "L 137.072669 169.331858 \r\n",
       "L 137.682616 169.196604 \r\n",
       "L 139.512458 170.809478 \r\n",
       "L 140.732352 170.527094 \r\n",
       "L 141.342299 170.061976 \r\n",
       "L 143.782088 170.809478 \r\n",
       "L 145.001982 170.541012 \r\n",
       "L 145.61193 170.720617 \r\n",
       "L 146.221877 170.588862 \r\n",
       "L 146.831824 169.845463 \r\n",
       "L 147.441771 169.416876 \r\n",
       "L 148.051718 169.29668 \r\n",
       "L 148.661665 168.87759 \r\n",
       "L 149.271613 169.359627 \r\n",
       "L 151.101454 169.012035 \r\n",
       "L 151.711401 169.189891 \r\n",
       "L 152.321348 168.787827 \r\n",
       "L 152.931296 168.104009 \r\n",
       "L 153.541243 168.284263 \r\n",
       "L 154.15119 168.745517 \r\n",
       "L 154.761137 168.356443 \r\n",
       "L 155.371084 167.412814 \r\n",
       "L 156.590979 167.770725 \r\n",
       "L 157.200926 167.671817 \r\n",
       "L 157.810873 167.846988 \r\n",
       "L 158.42082 167.748828 \r\n",
       "L 160.250662 168.260365 \r\n",
       "L 160.860609 168.162079 \r\n",
       "L 161.470556 167.538604 \r\n",
       "L 164.520292 167.084859 \r\n",
       "L 165.130239 167.50552 \r\n",
       "L 165.740186 167.668695 \r\n",
       "L 166.350133 167.327472 \r\n",
       "L 166.96008 167.739682 \r\n",
       "L 167.570028 167.650344 \r\n",
       "L 168.179975 167.809092 \r\n",
       "L 169.399869 167.632595 \r\n",
       "L 171.839658 168.247481 \r\n",
       "L 173.059552 169.018258 \r\n",
       "L 173.669499 169.162208 \r\n",
       "L 174.279446 169.070556 \r\n",
       "L 175.499341 168.426821 \r\n",
       "L 176.109288 168.57085 \r\n",
       "L 176.719235 168.942652 \r\n",
       "L 177.329182 168.626395 \r\n",
       "L 177.939129 168.767196 \r\n",
       "L 178.549077 168.003503 \r\n",
       "L 179.768971 168.287133 \r\n",
       "L 180.988865 168.122566 \r\n",
       "L 181.598812 168.261684 \r\n",
       "L 182.20876 168.180338 \r\n",
       "L 182.818707 168.317805 \r\n",
       "L 184.038601 169.020558 \r\n",
       "L 184.648548 168.937111 \r\n",
       "L 185.258495 168.640644 \r\n",
       "L 185.868443 168.77263 \r\n",
       "L 187.698284 168.531714 \r\n",
       "L 188.308231 168.870538 \r\n",
       "L 189.528126 168.71126 \r\n",
       "L 190.74802 168.964841 \r\n",
       "L 191.357967 168.885861 \r\n",
       "L 191.967914 169.213783 \r\n",
       "L 193.187809 169.055724 \r\n",
       "L 193.797756 168.577079 \r\n",
       "L 194.407703 168.701053 \r\n",
       "L 195.01765 168.625374 \r\n",
       "L 196.237544 168.082423 \r\n",
       "L 196.847492 167.618604 \r\n",
       "L 197.457439 167.74407 \r\n",
       "L 198.677333 167.604972 \r\n",
       "L 199.28728 167.728866 \r\n",
       "L 199.897227 167.659987 \r\n",
       "L 201.117122 168.284263 \r\n",
       "L 201.727069 168.213899 \r\n",
       "L 202.337016 168.332591 \r\n",
       "L 202.946963 168.262611 \r\n",
       "L 203.55691 168.006346 \r\n",
       "L 204.166858 167.938321 \r\n",
       "L 204.776805 168.056185 \r\n",
       "L 205.386752 167.619413 \r\n",
       "L 205.996699 167.921408 \r\n",
       "L 206.606646 168.03788 \r\n",
       "L 207.216593 167.971121 \r\n",
       "L 208.436488 167.477624 \r\n",
       "L 209.656382 167.709454 \r\n",
       "L 210.876276 167.581769 \r\n",
       "L 213.316065 168.032836 \r\n",
       "L 213.926012 168.317805 \r\n",
       "L 215.145907 168.534982 \r\n",
       "L 215.755854 167.95275 \r\n",
       "L 216.365801 168.061904 \r\n",
       "L 216.975748 167.999162 \r\n",
       "L 217.585695 167.76649 \r\n",
       "L 218.195642 167.875108 \r\n",
       "L 220.025484 167.692541 \r\n",
       "L 220.635431 167.7998 \r\n",
       "L 221.855325 167.680015 \r\n",
       "L 223.07522 167.232546 \r\n",
       "L 224.295114 167.772753 \r\n",
       "L 224.905061 167.551137 \r\n",
       "L 225.515008 167.493464 \r\n",
       "L 226.124956 167.112741 \r\n",
       "L 226.734903 167.218224 \r\n",
       "L 227.34485 167.00181 \r\n",
       "L 227.954797 167.26691 \r\n",
       "L 228.564744 167.370703 \r\n",
       "L 229.174691 167.314906 \r\n",
       "L 229.784639 167.576069 \r\n",
       "L 232.224427 167.978153 \r\n",
       "L 232.834374 167.765894 \r\n",
       "L 234.054269 167.963526 \r\n",
       "L 234.664216 167.599617 \r\n",
       "L 235.274163 167.391593 \r\n",
       "L 235.88411 167.643517 \r\n",
       "L 236.494057 167.589079 \r\n",
       "L 237.104005 167.838604 \r\n",
       "L 237.713952 167.93516 \r\n",
       "L 238.323899 167.578753 \r\n",
       "L 240.763688 167.961975 \r\n",
       "L 241.373635 167.759671 \r\n",
       "L 241.983582 167.706478 \r\n",
       "L 242.593529 167.506361 \r\n",
       "L 243.813423 167.987908 \r\n",
       "L 244.423371 168.080488 \r\n",
       "L 245.643265 167.974083 \r\n",
       "L 246.863159 167.581192 \r\n",
       "L 247.473106 167.530114 \r\n",
       "L 248.083054 167.622382 \r\n",
       "L 248.693001 167.428952 \r\n",
       "L 249.302948 167.520948 \r\n",
       "L 249.912895 167.329076 \r\n",
       "L 250.522842 167.279608 \r\n",
       "L 251.132789 167.089711 \r\n",
       "L 252.962631 167.363704 \r\n",
       "L 253.572578 167.314906 \r\n",
       "L 254.182525 167.404967 \r\n",
       "L 254.792472 167.218224 \r\n",
       "L 256.012367 167.397273 \r\n",
       "L 257.232261 167.301267 \r\n",
       "L 259.67205 166.573634 \r\n",
       "L 260.281997 166.797584 \r\n",
       "L 260.891944 166.752258 \r\n",
       "L 261.501891 166.573634 \r\n",
       "L 262.721786 166.750655 \r\n",
       "L 263.331733 166.706005 \r\n",
       "L 263.94168 166.793601 \r\n",
       "L 264.551627 166.749084 \r\n",
       "L 265.161574 166.836037 \r\n",
       "L 265.771521 166.660845 \r\n",
       "L 266.381469 166.617111 \r\n",
       "L 267.601363 166.78975 \r\n",
       "L 268.21131 166.746029 \r\n",
       "L 268.821257 166.960388 \r\n",
       "L 269.431204 166.916421 \r\n",
       "L 270.041152 167.000882 \r\n",
       "L 270.651099 166.957055 \r\n",
       "L 271.261046 167.040912 \r\n",
       "L 271.870993 166.997224 \r\n",
       "L 272.48094 166.700352 \r\n",
       "L 273.090887 166.784223 \r\n",
       "L 273.700835 166.615633 \r\n",
       "L 274.920729 167.033019 \r\n",
       "L 275.530676 166.990079 \r\n",
       "L 276.140623 167.071969 \r\n",
       "L 276.75057 167.029168 \r\n",
       "L 277.970465 167.438456 \r\n",
       "L 278.580412 167.271788 \r\n",
       "L 280.410253 167.143844 \r\n",
       "L 282.240095 167.381566 \r\n",
       "L 282.850042 167.339083 \r\n",
       "L 283.459989 167.417361 \r\n",
       "L 284.069936 167.615423 \r\n",
       "L 284.679884 167.452771 \r\n",
       "L 285.289831 167.530114 \r\n",
       "L 285.899778 167.487804 \r\n",
       "L 286.509725 167.564643 \r\n",
       "L 287.119672 167.759671 \r\n",
       "L 287.729619 167.717089 \r\n",
       "L 288.339567 167.910678 \r\n",
       "L 288.949514 167.75026 \r\n",
       "L 289.559461 167.825389 \r\n",
       "L 290.169408 167.783079 \r\n",
       "L 290.779355 167.857731 \r\n",
       "L 291.389302 167.699129 \r\n",
       "L 291.99925 167.773608 \r\n",
       "L 292.609197 167.963526 \r\n",
       "L 293.219144 167.921408 \r\n",
       "L 294.439038 168.182598 \r\n",
       "L 295.048985 168.140241 \r\n",
       "L 295.658933 168.212441 \r\n",
       "L 296.878827 168.128226 \r\n",
       "L 297.488774 168.313358 \r\n",
       "L 298.708668 168.229268 \r\n",
       "L 299.318616 168.300143 \r\n",
       "L 300.53851 167.9927 \r\n",
       "L 303.588246 168.343838 \r\n",
       "L 305.418087 168.220911 \r\n",
       "L 306.028034 167.961239 \r\n",
       "L 307.247929 168.208796 \r\n",
       "L 307.857876 168.386042 \r\n",
       "L 308.467823 168.236983 \r\n",
       "L 309.687717 168.264891 \r\n",
       "L 312.737453 168.173505 \r\n",
       "L 313.3474 168.240615 \r\n",
       "L 314.567295 168.056185 \r\n",
       "L 315.787189 167.978895 \r\n",
       "L 317.617031 168.387573 \r\n",
       "L 318.836925 168.413798 \r\n",
       "L 320.666766 168.814695 \r\n",
       "L 322.496608 168.799167 \r\n",
       "L 323.716502 169.129746 \r\n",
       "L 324.326449 168.987871 \r\n",
       "L 325.546344 169.213783 \r\n",
       "L 326.766238 169.235481 \r\n",
       "L 327.376185 169.29668 \r\n",
       "L 328.59608 169.016655 \r\n",
       "L 329.206027 169.178107 \r\n",
       "L 330.425921 169.199673 \r\n",
       "L 331.035868 168.862128 \r\n",
       "L 331.645815 168.724654 \r\n",
       "L 332.255763 168.884953 \r\n",
       "L 340.185076 168.40275 \r\n",
       "L 340.795023 168.5589 \r\n",
       "L 341.40497 168.330961 \r\n",
       "L 342.624865 168.355237 \r\n",
       "L 344.454706 168.154172 \r\n",
       "L 345.064653 168.024638 \r\n",
       "L 349.334283 168.34523 \r\n",
       "L 349.944231 168.124415 \r\n",
       "L 351.774072 168.392146 \r\n",
       "L 352.993966 168.599474 \r\n",
       "L 353.603914 168.380872 \r\n",
       "L 354.213861 168.529984 \r\n",
       "L 354.823808 168.312424 \r\n",
       "L 357.873544 168.506079 \r\n",
       "L 360.313332 168.460515 \r\n",
       "L 360.92328 168.606161 \r\n",
       "L 361.533227 168.393259 \r\n",
       "L 362.143174 168.449149 \r\n",
       "L 363.363068 168.115481 \r\n",
       "L 363.363068 168.115481 \r\n",
       "\" style=\"fill:none;stroke:#d62728;stroke-linecap:square;stroke-width:1.5;\"/>\r\n",
       "   </g>\r\n",
       "   <g id=\"line2d_17\">\r\n",
       "    <path clip-path=\"url(#pe5b2feb27e)\" d=\"M 58.999432 196.224545 \r\n",
       "L 59.609379 218.462727 \r\n",
       "L 60.219326 196.224545 \r\n",
       "L 60.829273 185.105455 \r\n",
       "L 61.43922 196.224545 \r\n",
       "L 62.659115 196.224545 \r\n",
       "L 63.269062 201.784092 \r\n",
       "L 63.879009 191.282727 \r\n",
       "L 65.098903 176.008019 \r\n",
       "L 65.708851 173.986361 \r\n",
       "L 66.318798 175.69699 \r\n",
       "L 66.928745 173.986361 \r\n",
       "L 67.538692 175.468912 \r\n",
       "L 68.148639 173.986361 \r\n",
       "L 68.758586 175.294489 \r\n",
       "L 69.368534 178.928179 \r\n",
       "L 69.978481 175.156796 \r\n",
       "L 70.588428 173.986361 \r\n",
       "L 71.198375 170.809478 \r\n",
       "L 71.808322 169.943059 \r\n",
       "L 72.418269 173.019489 \r\n",
       "L 73.028217 172.133181 \r\n",
       "L 73.638164 173.096839 \r\n",
       "L 74.858058 171.515452 \r\n",
       "L 75.468005 169.22104 \r\n",
       "L 76.077952 170.152196 \r\n",
       "L 77.297847 168.964841 \r\n",
       "L 77.907794 169.816706 \r\n",
       "L 79.127688 168.753848 \r\n",
       "L 79.737635 166.997224 \r\n",
       "L 80.347583 166.573634 \r\n",
       "L 80.95753 164.970887 \r\n",
       "L 82.177424 166.573634 \r\n",
       "L 82.787371 168.426821 \r\n",
       "L 83.397319 169.104814 \r\n",
       "L 84.007266 170.809478 \r\n",
       "L 85.22716 171.96471 \r\n",
       "L 85.837107 171.515452 \r\n",
       "L 86.447054 172.05261 \r\n",
       "L 87.057002 170.674297 \r\n",
       "L 87.666949 172.133181 \r\n",
       "L 89.49679 173.550318 \r\n",
       "L 90.106737 173.13105 \r\n",
       "L 90.716685 174.405954 \r\n",
       "L 91.326632 172.339091 \r\n",
       "L 91.936579 172.77337 \r\n",
       "L 92.546526 173.986361 \r\n",
       "L 93.76642 174.753195 \r\n",
       "L 94.376368 173.609442 \r\n",
       "L 95.596262 174.350926 \r\n",
       "L 96.206209 172.551641 \r\n",
       "L 97.426103 174.681307 \r\n",
       "L 98.036051 172.959987 \r\n",
       "L 98.645998 172.638594 \r\n",
       "L 99.865892 170.716044 \r\n",
       "L 100.475839 170.441148 \r\n",
       "L 101.085786 171.444856 \r\n",
       "L 101.695734 171.167442 \r\n",
       "L 102.305681 171.515452 \r\n",
       "L 102.915628 172.463204 \r\n",
       "L 103.525575 172.784299 \r\n",
       "L 105.965364 176.2672 \r\n",
       "L 106.575311 175.956834 \r\n",
       "L 107.185258 176.766138 \r\n",
       "L 107.795205 176.45727 \r\n",
       "L 109.0151 176.933595 \r\n",
       "L 110.234994 176.340997 \r\n",
       "L 110.844941 177.089367 \r\n",
       "L 111.454888 176.798089 \r\n",
       "L 112.064835 177.018844 \r\n",
       "L 112.674783 177.734375 \r\n",
       "L 113.28473 176.45727 \r\n",
       "L 113.894677 176.674493 \r\n",
       "L 114.504624 174.95324 \r\n",
       "L 115.724518 175.405825 \r\n",
       "L 116.944413 174.912958 \r\n",
       "L 118.164307 175.347887 \r\n",
       "L 118.774254 176.008019 \r\n",
       "L 119.994149 174.646903 \r\n",
       "L 120.604096 174.858446 \r\n",
       "L 121.214043 174.634079 \r\n",
       "L 121.82399 173.558709 \r\n",
       "L 123.043884 173.986361 \r\n",
       "L 124.263779 172.75091 \r\n",
       "L 126.09362 173.385333 \r\n",
       "L 126.703567 172.397923 \r\n",
       "L 127.923462 172.815932 \r\n",
       "L 128.533409 172.632735 \r\n",
       "L 129.143356 173.219527 \r\n",
       "L 130.36325 173.609442 \r\n",
       "L 130.973198 173.425735 \r\n",
       "L 131.583145 173.615725 \r\n",
       "L 132.193092 173.435006 \r\n",
       "L 132.803039 173.986361 \r\n",
       "L 133.412986 173.082371 \r\n",
       "L 134.022933 172.910321 \r\n",
       "L 134.632881 172.385211 \r\n",
       "L 135.242828 172.221426 \r\n",
       "L 135.852775 171.359805 \r\n",
       "L 136.462722 170.859118 \r\n",
       "L 137.072669 170.710974 \r\n",
       "L 138.292564 171.100491 \r\n",
       "L 138.902511 170.953885 \r\n",
       "L 140.122405 170.003402 \r\n",
       "L 141.952247 169.603658 \r\n",
       "L 142.562194 168.829686 \r\n",
       "L 143.172141 168.706793 \r\n",
       "L 144.392035 169.097119 \r\n",
       "L 145.001982 169.601372 \r\n",
       "L 145.61193 169.165502 \r\n",
       "L 147.441771 169.721509 \r\n",
       "L 148.051718 170.204361 \r\n",
       "L 148.661665 169.779141 \r\n",
       "L 149.88156 169.538729 \r\n",
       "L 150.491507 169.126366 \r\n",
       "L 151.711401 168.899196 \r\n",
       "L 152.321348 168.499021 \r\n",
       "L 152.931296 168.390953 \r\n",
       "L 153.541243 168.569372 \r\n",
       "L 154.15119 168.178939 \r\n",
       "L 155.371084 168.531714 \r\n",
       "L 155.981031 168.426821 \r\n",
       "L 156.590979 168.046973 \r\n",
       "L 157.810873 168.392709 \r\n",
       "L 159.030767 168.190962 \r\n",
       "L 159.640714 168.627766 \r\n",
       "L 161.470556 169.117651 \r\n",
       "L 162.080503 168.753848 \r\n",
       "L 163.300397 168.55611 \r\n",
       "L 164.520292 168.874137 \r\n",
       "L 165.740186 168.679527 \r\n",
       "L 166.350133 169.086422 \r\n",
       "L 166.96008 169.238888 \r\n",
       "L 167.570028 169.638115 \r\n",
       "L 168.789922 169.931892 \r\n",
       "L 169.399869 170.320727 \r\n",
       "L 170.619763 170.602289 \r\n",
       "L 171.839658 170.399561 \r\n",
       "L 172.449605 170.537665 \r\n",
       "L 173.669499 170.338833 \r\n",
       "L 174.279446 170.475075 \r\n",
       "L 174.889394 170.842748 \r\n",
       "L 176.109288 171.105767 \r\n",
       "L 176.719235 171.00599 \r\n",
       "L 177.329182 171.135312 \r\n",
       "L 177.939129 171.036403 \r\n",
       "L 179.159024 171.740084 \r\n",
       "L 180.378918 171.540166 \r\n",
       "L 180.988865 171.662973 \r\n",
       "L 181.598812 171.564383 \r\n",
       "L 182.818707 171.806147 \r\n",
       "L 183.428654 171.491348 \r\n",
       "L 184.038601 171.611412 \r\n",
       "L 184.648548 171.515452 \r\n",
       "L 185.258495 171.848079 \r\n",
       "L 186.47839 172.080234 \r\n",
       "L 187.088337 172.405452 \r\n",
       "L 187.698284 172.308008 \r\n",
       "L 188.308231 171.585061 \r\n",
       "L 188.918178 171.492362 \r\n",
       "L 190.138073 171.721362 \r\n",
       "L 190.74802 171.629319 \r\n",
       "L 191.357967 171.742145 \r\n",
       "L 191.967914 171.447759 \r\n",
       "L 192.577861 171.56038 \r\n",
       "L 193.187809 171.269479 \r\n",
       "L 195.01765 171.603704 \r\n",
       "L 195.627597 171.31778 \r\n",
       "L 196.237544 171.427989 \r\n",
       "L 196.847492 171.341295 \r\n",
       "L 197.457439 171.45043 \r\n",
       "L 198.067386 171.752836 \r\n",
       "L 198.677333 171.279109 \r\n",
       "L 199.28728 171.194555 \r\n",
       "L 199.897227 171.302444 \r\n",
       "L 200.507175 171.027635 \r\n",
       "L 201.117122 170.945242 \r\n",
       "L 202.337016 171.159476 \r\n",
       "L 203.55691 170.996354 \r\n",
       "L 204.166858 171.101916 \r\n",
       "L 204.776805 171.021273 \r\n",
       "L 205.386752 170.387651 \r\n",
       "L 206.606646 170.234245 \r\n",
       "L 207.216593 170.340762 \r\n",
       "L 207.826541 170.627944 \r\n",
       "L 208.436488 170.551198 \r\n",
       "L 209.046435 170.655137 \r\n",
       "L 210.266329 170.503275 \r\n",
       "L 210.876276 170.60616 \r\n",
       "L 212.096171 169.750517 \r\n",
       "L 212.706118 169.679364 \r\n",
       "L 213.316065 169.958978 \r\n",
       "L 215.145907 169.746401 \r\n",
       "L 215.755854 170.021416 \r\n",
       "L 216.365801 170.122585 \r\n",
       "L 216.975748 170.051916 \r\n",
       "L 217.585695 170.152196 \r\n",
       "L 218.195642 169.912195 \r\n",
       "L 218.80559 169.84313 \r\n",
       "L 219.415537 169.943059 \r\n",
       "L 220.635431 169.806254 \r\n",
       "L 221.855325 169.339579 \r\n",
       "L 223.07522 169.538729 \r\n",
       "L 223.685167 169.30896 \r\n",
       "L 224.295114 169.244395 \r\n",
       "L 224.905061 169.01739 \r\n",
       "L 225.515008 168.954369 \r\n",
       "L 226.124956 169.215261 \r\n",
       "L 226.734903 169.151975 \r\n",
       "L 227.954797 169.346744 \r\n",
       "L 228.564744 169.602492 \r\n",
       "L 229.174691 169.538729 \r\n",
       "L 229.784639 169.317139 \r\n",
       "L 231.004533 169.192972 \r\n",
       "L 231.61448 168.818333 \r\n",
       "L 232.834374 169.321009 \r\n",
       "L 233.444322 169.259784 \r\n",
       "L 234.054269 169.044543 \r\n",
       "L 234.664216 168.984697 \r\n",
       "L 235.274163 169.078628 \r\n",
       "L 235.88411 169.019074 \r\n",
       "L 236.494057 169.112243 \r\n",
       "L 237.104005 168.597591 \r\n",
       "L 237.713952 168.388998 \r\n",
       "L 238.933846 168.276562 \r\n",
       "L 239.543793 168.071156 \r\n",
       "L 240.15374 168.314882 \r\n",
       "L 240.763688 168.408224 \r\n",
       "L 241.373635 168.6492 \r\n",
       "L 242.593529 168.242729 \r\n",
       "L 243.203476 168.188291 \r\n",
       "L 243.813423 168.280512 \r\n",
       "L 245.033318 168.172458 \r\n",
       "L 246.863159 168.444808 \r\n",
       "L 248.083054 168.337436 \r\n",
       "L 249.302948 168.515629 \r\n",
       "L 249.912895 168.745517 \r\n",
       "L 251.132789 168.919436 \r\n",
       "L 251.742737 168.865269 \r\n",
       "L 252.352684 168.951301 \r\n",
       "L 252.962631 168.618528 \r\n",
       "L 253.572578 168.843783 \r\n",
       "L 254.182525 168.929086 \r\n",
       "L 254.792472 168.875728 \r\n",
       "L 255.40242 168.547302 \r\n",
       "L 256.012367 168.495455 \r\n",
       "L 256.622314 168.580778 \r\n",
       "L 257.232261 168.529143 \r\n",
       "L 258.452155 168.969215 \r\n",
       "L 259.67205 169.134399 \r\n",
       "L 260.281997 169.350607 \r\n",
       "L 260.891944 169.431556 \r\n",
       "L 261.501891 169.645577 \r\n",
       "L 262.111838 169.591994 \r\n",
       "L 263.331733 170.015259 \r\n",
       "L 263.94168 169.829079 \r\n",
       "L 265.161574 169.984806 \r\n",
       "L 266.381469 170.399561 \r\n",
       "L 267.601363 170.290804 \r\n",
       "L 268.21131 170.366191 \r\n",
       "L 268.821257 170.570066 \r\n",
       "L 269.431204 170.387121 \r\n",
       "L 270.041152 170.461581 \r\n",
       "L 270.651099 170.407805 \r\n",
       "L 271.261046 170.099461 \r\n",
       "L 271.870993 170.047031 \r\n",
       "L 272.48094 169.868182 \r\n",
       "L 273.090887 169.943059 \r\n",
       "L 274.310782 170.342823 \r\n",
       "L 275.530676 170.238354 \r\n",
       "L 276.75057 169.886586 \r\n",
       "L 277.360518 169.836065 \r\n",
       "L 277.970465 169.662272 \r\n",
       "L 278.580412 169.243037 \r\n",
       "L 281.020201 169.538729 \r\n",
       "L 281.630148 169.368601 \r\n",
       "L 282.240095 169.441775 \r\n",
       "L 283.459989 169.104814 \r\n",
       "L 284.069936 169.298316 \r\n",
       "L 284.679884 169.370894 \r\n",
       "L 285.289831 169.323521 \r\n",
       "L 286.509725 168.991689 \r\n",
       "L 287.119672 169.182919 \r\n",
       "L 288.949514 169.044543 \r\n",
       "L 289.559461 168.764207 \r\n",
       "L 290.169408 168.836466 \r\n",
       "L 290.779355 169.025091 \r\n",
       "L 291.99925 169.167125 \r\n",
       "L 292.609197 169.353411 \r\n",
       "L 293.219144 169.423205 \r\n",
       "L 294.439038 169.331858 \r\n",
       "L 295.658933 169.470128 \r\n",
       "L 296.26888 169.196604 \r\n",
       "L 296.878827 169.265729 \r\n",
       "L 298.098721 169.176576 \r\n",
       "L 298.708668 169.24523 \r\n",
       "L 299.318616 169.200932 \r\n",
       "L 301.148457 169.628127 \r\n",
       "L 302.978299 169.383447 \r\n",
       "L 303.588246 169.560858 \r\n",
       "L 306.028034 169.494908 \r\n",
       "L 307.857876 169.473481 \r\n",
       "L 309.07777 169.711872 \r\n",
       "L 310.297665 169.409499 \r\n",
       "L 310.907612 169.581702 \r\n",
       "L 313.957348 169.475039 \r\n",
       "L 315.177242 169.602114 \r\n",
       "L 315.787189 169.349017 \r\n",
       "L 317.007083 169.161101 \r\n",
       "L 317.617031 169.015475 \r\n",
       "L 318.226978 169.079344 \r\n",
       "L 320.056819 168.750799 \r\n",
       "L 321.886661 168.838633 \r\n",
       "L 324.326449 168.783851 \r\n",
       "L 325.546344 168.80761 \r\n",
       "L 326.766238 168.628986 \r\n",
       "L 327.986132 168.351347 \r\n",
       "L 332.255763 168.686844 \r\n",
       "L 334.085604 168.672814 \r\n",
       "L 337.13534 168.876934 \r\n",
       "L 338.355234 168.705401 \r\n",
       "L 338.965181 168.668539 \r\n",
       "L 340.185076 168.884098 \r\n",
       "L 341.40497 168.714381 \r\n",
       "L 342.014917 168.773545 \r\n",
       "L 342.624865 168.641565 \r\n",
       "L 345.064653 168.781683 \r\n",
       "L 351.164125 168.426821 \r\n",
       "L 351.774072 168.114745 \r\n",
       "L 357.263597 167.904899 \r\n",
       "L 360.313332 168.190962 \r\n",
       "L 360.92328 167.978471 \r\n",
       "L 362.143174 168.181213 \r\n",
       "L 363.363068 168.293389 \r\n",
       "L 363.363068 168.293389 \r\n",
       "\" style=\"fill:none;stroke:#9467bd;stroke-linecap:square;stroke-width:1.5;\"/>\r\n",
       "   </g>\r\n",
       "   <g id=\"line2d_18\">\r\n",
       "    <path clip-path=\"url(#pe5b2feb27e)\" d=\"M 58.999432 18.319091 \r\n",
       "L 59.609379 85.033639 \r\n",
       "L 60.219326 122.097267 \r\n",
       "L 60.829273 129.51 \r\n",
       "L 61.43922 151.74818 \r\n",
       "L 62.049168 151.74818 \r\n",
       "L 62.659115 158.101946 \r\n",
       "L 63.269062 146.188634 \r\n",
       "L 63.879009 146.806363 \r\n",
       "L 64.488956 151.74818 \r\n",
       "L 65.708851 166.573634 \r\n",
       "L 66.318798 168.854473 \r\n",
       "L 66.928745 167.632595 \r\n",
       "L 68.148639 171.206591 \r\n",
       "L 68.758586 167.44572 \r\n",
       "L 69.368534 166.573634 \r\n",
       "L 69.978481 170.475075 \r\n",
       "L 71.198375 164.455712 \r\n",
       "L 71.808322 167.921408 \r\n",
       "L 73.028217 166.573634 \r\n",
       "L 73.638164 169.538729 \r\n",
       "L 74.248111 170.565102 \r\n",
       "L 74.858058 169.868182 \r\n",
       "L 75.468005 170.809478 \r\n",
       "L 76.077952 168.618528 \r\n",
       "L 77.907794 171.206591 \r\n",
       "L 78.517741 171.96471 \r\n",
       "L 79.127688 168.753848 \r\n",
       "L 79.737635 170.809478 \r\n",
       "L 81.567477 172.815932 \r\n",
       "L 82.787371 167.314906 \r\n",
       "L 83.397319 166.93523 \r\n",
       "L 84.007266 165.514673 \r\n",
       "L 84.617213 166.228859 \r\n",
       "L 85.22716 165.89975 \r\n",
       "L 86.447054 167.218224 \r\n",
       "L 88.276896 166.271076 \r\n",
       "L 88.886843 166.870148 \r\n",
       "L 89.49679 166.573634 \r\n",
       "L 90.106737 165.433215 \r\n",
       "L 91.326632 164.926364 \r\n",
       "L 91.936579 163.069439 \r\n",
       "L 92.546526 162.867274 \r\n",
       "L 93.156473 163.452488 \r\n",
       "L 93.76642 161.717019 \r\n",
       "L 94.376368 163.055733 \r\n",
       "L 95.596262 161.22675 \r\n",
       "L 96.206209 161.791234 \r\n",
       "L 96.816156 163.043764 \r\n",
       "L 97.426103 161.477389 \r\n",
       "L 98.645998 163.8781 \r\n",
       "L 99.255945 164.360879 \r\n",
       "L 99.865892 165.483531 \r\n",
       "L 101.085786 165.09109 \r\n",
       "L 101.695734 165.529592 \r\n",
       "L 104.135522 164.794583 \r\n",
       "L 104.745469 165.208132 \r\n",
       "L 105.355417 165.033331 \r\n",
       "L 106.575311 165.822978 \r\n",
       "L 107.185258 165.09109 \r\n",
       "L 107.795205 164.926364 \r\n",
       "L 108.405152 165.308048 \r\n",
       "L 109.0151 165.14468 \r\n",
       "L 110.234994 166.922472 \r\n",
       "L 110.844941 165.194525 \r\n",
       "L 111.454888 165.039966 \r\n",
       "L 112.064835 165.394338 \r\n",
       "L 112.674783 166.240483 \r\n",
       "L 115.724518 165.469613 \r\n",
       "L 116.334466 165.793346 \r\n",
       "L 116.944413 165.647044 \r\n",
       "L 117.55436 164.128201 \r\n",
       "L 118.774254 165.675125 \r\n",
       "L 119.384201 165.09109 \r\n",
       "L 119.994149 165.839705 \r\n",
       "L 120.604096 165.701549 \r\n",
       "L 121.214043 165.134275 \r\n",
       "L 121.82399 165.433215 \r\n",
       "L 122.433937 166.150051 \r\n",
       "L 123.653832 166.712195 \r\n",
       "L 124.873726 168.069784 \r\n",
       "L 125.483673 167.921408 \r\n",
       "L 126.09362 166.573634 \r\n",
       "L 126.703567 166.044157 \r\n",
       "L 127.313515 166.704832 \r\n",
       "L 128.533409 166.444716 \r\n",
       "L 129.753303 166.953774 \r\n",
       "L 130.36325 167.578753 \r\n",
       "L 130.973198 167.071969 \r\n",
       "L 132.803039 166.695156 \r\n",
       "L 133.412986 166.212038 \r\n",
       "L 134.632881 166.69224 \r\n",
       "L 135.242828 167.279608 \r\n",
       "L 135.852775 167.157318 \r\n",
       "L 136.462722 167.731875 \r\n",
       "L 137.072669 166.918416 \r\n",
       "L 137.682616 166.801719 \r\n",
       "L 138.902511 165.89975 \r\n",
       "L 139.512458 165.124532 \r\n",
       "L 140.732352 166.244181 \r\n",
       "L 141.342299 166.137591 \r\n",
       "L 141.952247 166.357207 \r\n",
       "L 142.562194 165.929051 \r\n",
       "L 143.172141 165.827034 \r\n",
       "L 143.782088 165.408779 \r\n",
       "L 144.392035 165.627334 \r\n",
       "L 145.001982 165.216376 \r\n",
       "L 145.61193 165.433215 \r\n",
       "L 146.221877 165.029315 \r\n",
       "L 148.661665 165.872432 \r\n",
       "L 149.88156 166.870148 \r\n",
       "L 151.711401 166.573634 \r\n",
       "L 153.541243 167.143844 \r\n",
       "L 154.15119 166.762498 \r\n",
       "L 154.761137 167.230459 \r\n",
       "L 155.371084 167.133087 \r\n",
       "L 157.200926 167.671817 \r\n",
       "L 157.810873 167.301267 \r\n",
       "L 158.42082 167.748828 \r\n",
       "L 159.030767 167.921408 \r\n",
       "L 160.250662 167.727713 \r\n",
       "L 160.860609 166.838376 \r\n",
       "L 161.470556 166.749084 \r\n",
       "L 162.080503 166.922472 \r\n",
       "L 162.69045 166.053442 \r\n",
       "L 163.300397 166.228859 \r\n",
       "L 164.520292 166.062416 \r\n",
       "L 166.96008 166.740216 \r\n",
       "L 167.570028 166.656458 \r\n",
       "L 168.179975 167.06782 \r\n",
       "L 168.789922 167.228908 \r\n",
       "L 170.009816 167.059714 \r\n",
       "L 170.619763 167.218224 \r\n",
       "L 171.839658 167.051874 \r\n",
       "L 172.449605 166.256515 \r\n",
       "L 173.059552 166.179345 \r\n",
       "L 173.669499 166.573634 \r\n",
       "L 174.889394 166.418398 \r\n",
       "L 175.499341 166.573634 \r\n",
       "L 176.109288 166.035926 \r\n",
       "L 176.719235 166.420798 \r\n",
       "L 177.329182 166.345556 \r\n",
       "L 177.939129 165.817238 \r\n",
       "L 179.159024 165.675125 \r\n",
       "L 179.768971 165.381639 \r\n",
       "L 180.378918 165.535855 \r\n",
       "L 181.598812 165.399342 \r\n",
       "L 182.20876 165.770289 \r\n",
       "L 183.428654 165.633484 \r\n",
       "L 184.038601 165.350179 \r\n",
       "L 185.258495 166.074703 \r\n",
       "L 185.868443 166.006155 \r\n",
       "L 186.47839 166.150051 \r\n",
       "L 187.088337 166.503376 \r\n",
       "L 188.308231 166.782447 \r\n",
       "L 188.918178 166.712195 \r\n",
       "L 189.528126 166.435723 \r\n",
       "L 190.74802 166.710273 \r\n",
       "L 191.357967 166.233604 \r\n",
       "L 194.407703 165.908817 \r\n",
       "L 195.01765 165.647044 \r\n",
       "L 195.627597 165.980619 \r\n",
       "L 196.847492 166.247084 \r\n",
       "L 197.457439 165.98842 \r\n",
       "L 198.067386 165.149359 \r\n",
       "L 198.677333 164.897713 \r\n",
       "L 199.897227 165.167777 \r\n",
       "L 200.507175 165.491954 \r\n",
       "L 201.727069 165.374985 \r\n",
       "L 202.337016 164.940321 \r\n",
       "L 202.946963 165.259985 \r\n",
       "L 203.55691 165.016339 \r\n",
       "L 204.166858 165.14692 \r\n",
       "L 204.776805 165.09109 \r\n",
       "L 205.996699 165.715963 \r\n",
       "L 207.216593 165.966039 \r\n",
       "L 208.436488 166.573634 \r\n",
       "L 209.656382 166.454074 \r\n",
       "L 210.266329 166.216399 \r\n",
       "L 211.486224 166.809898 \r\n",
       "L 212.096171 166.573634 \r\n",
       "L 212.706118 166.51504 \r\n",
       "L 213.926012 166.050387 \r\n",
       "L 214.535959 166.16825 \r\n",
       "L 215.145907 165.939085 \r\n",
       "L 215.755854 166.228859 \r\n",
       "L 216.975748 166.11747 \r\n",
       "L 218.195642 165.668265 \r\n",
       "L 218.80559 165.277111 \r\n",
       "L 219.415537 165.394338 \r\n",
       "L 221.855325 165.190662 \r\n",
       "L 222.465273 165.306033 \r\n",
       "L 223.685167 164.877738 \r\n",
       "L 224.295114 164.829463 \r\n",
       "L 224.905061 165.10738 \r\n",
       "L 225.515008 165.058629 \r\n",
       "L 226.124956 164.68676 \r\n",
       "L 226.734903 164.801025 \r\n",
       "L 227.34485 164.753903 \r\n",
       "L 227.954797 164.387151 \r\n",
       "L 229.174691 163.979182 \r\n",
       "L 229.784639 164.252215 \r\n",
       "L 230.394586 164.050156 \r\n",
       "L 231.004533 164.006686 \r\n",
       "L 231.61448 164.276737 \r\n",
       "L 232.834374 164.189121 \r\n",
       "L 233.444322 164.300741 \r\n",
       "L 234.054269 164.257159 \r\n",
       "L 234.664216 164.521669 \r\n",
       "L 235.274163 164.63099 \r\n",
       "L 236.494057 164.238118 \r\n",
       "L 237.104005 164.347286 \r\n",
       "L 237.713952 164.606991 \r\n",
       "L 238.323899 164.714171 \r\n",
       "L 238.933846 164.520112 \r\n",
       "L 239.543793 164.626861 \r\n",
       "L 240.15374 164.583643 \r\n",
       "L 240.763688 164.094461 \r\n",
       "L 241.373635 164.201561 \r\n",
       "L 241.983582 164.455712 \r\n",
       "L 242.593529 164.56091 \r\n",
       "L 243.203476 164.225049 \r\n",
       "L 243.813423 164.184005 \r\n",
       "L 244.423371 163.851583 \r\n",
       "L 245.033318 163.81203 \r\n",
       "L 245.643265 163.627865 \r\n",
       "L 246.253212 163.589293 \r\n",
       "L 246.863159 163.694909 \r\n",
       "L 247.473106 163.65637 \r\n",
       "L 248.693001 163.865143 \r\n",
       "L 249.912895 163.504673 \r\n",
       "L 250.522842 163.749738 \r\n",
       "L 251.132789 163.711763 \r\n",
       "L 251.742737 163.533715 \r\n",
       "L 252.352684 163.496654 \r\n",
       "L 252.962631 163.738677 \r\n",
       "L 254.182525 163.386856 \r\n",
       "L 254.792472 163.626964 \r\n",
       "L 255.40242 163.452488 \r\n",
       "L 256.012367 163.416362 \r\n",
       "L 256.622314 163.517312 \r\n",
       "L 258.452155 163.409668 \r\n",
       "L 259.062103 163.644593 \r\n",
       "L 259.67205 163.473769 \r\n",
       "L 260.891944 163.403134 \r\n",
       "L 261.501891 163.23457 \r\n",
       "L 262.111838 163.333339 \r\n",
       "L 264.551627 163.196243 \r\n",
       "L 265.161574 163.031271 \r\n",
       "L 265.771521 162.998088 \r\n",
       "L 266.381469 162.834667 \r\n",
       "L 266.991416 162.542156 \r\n",
       "L 268.21131 162.4794 \r\n",
       "L 269.431204 162.931547 \r\n",
       "L 270.041152 162.771142 \r\n",
       "L 270.651099 162.867274 \r\n",
       "L 271.261046 162.580535 \r\n",
       "L 271.870993 162.676661 \r\n",
       "L 272.48094 162.898953 \r\n",
       "L 274.920729 162.272165 \r\n",
       "L 275.530676 162.242606 \r\n",
       "L 276.75057 162.432451 \r\n",
       "L 277.360518 162.278799 \r\n",
       "L 277.970465 162.496638 \r\n",
       "L 279.190359 162.437256 \r\n",
       "L 279.800306 162.285281 \r\n",
       "L 281.020201 162.227542 \r\n",
       "L 281.630148 162.320433 \r\n",
       "L 282.240095 162.291623 \r\n",
       "L 283.459989 162.475543 \r\n",
       "L 284.069936 162.326345 \r\n",
       "L 284.679884 162.297833 \r\n",
       "L 285.289831 162.149914 \r\n",
       "L 287.729619 162.039255 \r\n",
       "L 288.339567 162.129932 \r\n",
       "L 288.949514 162.102468 \r\n",
       "L 289.559461 162.192502 \r\n",
       "L 290.779355 162.137673 \r\n",
       "L 293.219144 162.49182 \r\n",
       "L 293.829091 162.23354 \r\n",
       "L 295.048985 162.638016 \r\n",
       "L 295.658933 162.610021 \r\n",
       "L 296.26888 162.696212 \r\n",
       "L 297.488774 162.640355 \r\n",
       "L 298.708668 162.923714 \r\n",
       "L 299.318616 163.008022 \r\n",
       "L 300.53851 162.951297 \r\n",
       "L 301.758404 162.783668 \r\n",
       "L 304.198193 162.674136 \r\n",
       "L 304.80814 162.867274 \r\n",
       "L 306.028034 162.922044 \r\n",
       "L 307.247929 162.976283 \r\n",
       "L 307.857876 162.948832 \r\n",
       "L 309.07777 163.218969 \r\n",
       "L 310.907612 163.243278 \r\n",
       "L 311.517559 163.322755 \r\n",
       "L 312.737453 163.16058 \r\n",
       "L 315.787189 163.657729 \r\n",
       "L 317.007083 163.286861 \r\n",
       "L 317.617031 163.364363 \r\n",
       "L 318.226978 163.232688 \r\n",
       "L 319.446872 163.282937 \r\n",
       "L 321.886661 162.867274 \r\n",
       "L 323.106555 163.123473 \r\n",
       "L 325.546344 163.121134 \r\n",
       "L 326.766238 163.372687 \r\n",
       "L 327.376185 163.346329 \r\n",
       "L 328.59608 163.595159 \r\n",
       "L 329.206027 163.368134 \r\n",
       "L 331.645815 163.562213 \r\n",
       "L 334.085604 163.457665 \r\n",
       "L 334.695551 163.235451 \r\n",
       "L 335.305498 163.406083 \r\n",
       "L 337.13534 163.42688 \r\n",
       "L 337.745287 163.49849 \r\n",
       "L 338.355234 163.279093 \r\n",
       "L 339.575129 163.325545 \r\n",
       "L 340.185076 163.300487 \r\n",
       "L 340.795023 163.467659 \r\n",
       "L 342.624865 163.487654 \r\n",
       "L 343.844759 163.722585 \r\n",
       "L 344.454706 163.507391 \r\n",
       "L 347.504442 163.38335 \r\n",
       "L 348.724336 163.70821 \r\n",
       "L 353.603914 163.602422 \r\n",
       "L 356.653649 163.935977 \r\n",
       "L 357.263597 163.820341 \r\n",
       "L 357.873544 163.886331 \r\n",
       "L 358.483491 163.771264 \r\n",
       "L 359.703385 163.902654 \r\n",
       "L 360.92328 163.763974 \r\n",
       "L 362.753121 163.869994 \r\n",
       "L 363.363068 163.756803 \r\n",
       "L 363.363068 163.756803 \r\n",
       "\" style=\"fill:none;stroke:#8c564b;stroke-linecap:square;stroke-width:1.5;\"/>\r\n",
       "   </g>\r\n",
       "   <g id=\"line2d_19\">\r\n",
       "    <path clip-path=\"url(#pe5b2feb27e)\" d=\"M 43.78125 166.425382 \r\n",
       "L 378.58125 166.425382 \r\n",
       "\" style=\"fill:none;stroke:#000000;stroke-dasharray:5.55,2.4;stroke-dashoffset:0;stroke-width:1.5;\"/>\r\n",
       "   </g>\r\n",
       "   <g id=\"patch_3\">\r\n",
       "    <path d=\"M 43.78125 251.82 \r\n",
       "L 43.78125 7.2 \r\n",
       "\" style=\"fill:none;stroke:#000000;stroke-linecap:square;stroke-linejoin:miter;stroke-width:0.8;\"/>\r\n",
       "   </g>\r\n",
       "   <g id=\"patch_4\">\r\n",
       "    <path d=\"M 378.58125 251.82 \r\n",
       "L 378.58125 7.2 \r\n",
       "\" style=\"fill:none;stroke:#000000;stroke-linecap:square;stroke-linejoin:miter;stroke-width:0.8;\"/>\r\n",
       "   </g>\r\n",
       "   <g id=\"patch_5\">\r\n",
       "    <path d=\"M 43.78125 251.82 \r\n",
       "L 378.58125 251.82 \r\n",
       "\" style=\"fill:none;stroke:#000000;stroke-linecap:square;stroke-linejoin:miter;stroke-width:0.8;\"/>\r\n",
       "   </g>\r\n",
       "   <g id=\"patch_6\">\r\n",
       "    <path d=\"M 43.78125 7.2 \r\n",
       "L 378.58125 7.2 \r\n",
       "\" style=\"fill:none;stroke:#000000;stroke-linecap:square;stroke-linejoin:miter;stroke-width:0.8;\"/>\r\n",
       "   </g>\r\n",
       "   <g id=\"legend_1\">\r\n",
       "    <g id=\"patch_7\">\r\n",
       "     <path d=\"M 295.726562 103.26875 \r\n",
       "L 371.58125 103.26875 \r\n",
       "Q 373.58125 103.26875 373.58125 101.26875 \r\n",
       "L 373.58125 14.2 \r\n",
       "Q 373.58125 12.2 371.58125 12.2 \r\n",
       "L 295.726562 12.2 \r\n",
       "Q 293.726562 12.2 293.726562 14.2 \r\n",
       "L 293.726562 101.26875 \r\n",
       "Q 293.726562 103.26875 295.726562 103.26875 \r\n",
       "z\r\n",
       "\" style=\"fill:#ffffff;opacity:0.8;stroke:#cccccc;stroke-linejoin:miter;\"/>\r\n",
       "    </g>\r\n",
       "    <g id=\"line2d_20\">\r\n",
       "     <path d=\"M 297.726562 20.298437 \r\n",
       "L 317.726562 20.298437 \r\n",
       "\" style=\"fill:none;stroke:#1f77b4;stroke-linecap:square;stroke-width:1.5;\"/>\r\n",
       "    </g>\r\n",
       "    <g id=\"line2d_21\"/>\r\n",
       "    <g id=\"text_15\">\r\n",
       "     <!-- P(die=1) -->\r\n",
       "     <g transform=\"translate(325.726562 23.798437)scale(0.1 -0.1)\">\r\n",
       "      <defs>\r\n",
       "       <path d=\"M 1259 4147 \r\n",
       "L 1259 2394 \r\n",
       "L 2053 2394 \r\n",
       "Q 2494 2394 2734 2622 \r\n",
       "Q 2975 2850 2975 3272 \r\n",
       "Q 2975 3691 2734 3919 \r\n",
       "Q 2494 4147 2053 4147 \r\n",
       "L 1259 4147 \r\n",
       "z\r\n",
       "M 628 4666 \r\n",
       "L 2053 4666 \r\n",
       "Q 2838 4666 3239 4311 \r\n",
       "Q 3641 3956 3641 3272 \r\n",
       "Q 3641 2581 3239 2228 \r\n",
       "Q 2838 1875 2053 1875 \r\n",
       "L 1259 1875 \r\n",
       "L 1259 0 \r\n",
       "L 628 0 \r\n",
       "L 628 4666 \r\n",
       "z\r\n",
       "\" id=\"DejaVuSans-50\" transform=\"scale(0.015625)\"/>\r\n",
       "       <path d=\"M 1984 4856 \r\n",
       "Q 1566 4138 1362 3434 \r\n",
       "Q 1159 2731 1159 2009 \r\n",
       "Q 1159 1288 1364 580 \r\n",
       "Q 1569 -128 1984 -844 \r\n",
       "L 1484 -844 \r\n",
       "Q 1016 -109 783 600 \r\n",
       "Q 550 1309 550 2009 \r\n",
       "Q 550 2706 781 3412 \r\n",
       "Q 1013 4119 1484 4856 \r\n",
       "L 1984 4856 \r\n",
       "z\r\n",
       "\" id=\"DejaVuSans-28\" transform=\"scale(0.015625)\"/>\r\n",
       "       <path d=\"M 678 2906 \r\n",
       "L 4684 2906 \r\n",
       "L 4684 2381 \r\n",
       "L 678 2381 \r\n",
       "L 678 2906 \r\n",
       "z\r\n",
       "M 678 1631 \r\n",
       "L 4684 1631 \r\n",
       "L 4684 1100 \r\n",
       "L 678 1100 \r\n",
       "L 678 1631 \r\n",
       "z\r\n",
       "\" id=\"DejaVuSans-3d\" transform=\"scale(0.015625)\"/>\r\n",
       "       <path d=\"M 513 4856 \r\n",
       "L 1013 4856 \r\n",
       "Q 1481 4119 1714 3412 \r\n",
       "Q 1947 2706 1947 2009 \r\n",
       "Q 1947 1309 1714 600 \r\n",
       "Q 1481 -109 1013 -844 \r\n",
       "L 513 -844 \r\n",
       "Q 928 -128 1133 580 \r\n",
       "Q 1338 1288 1338 2009 \r\n",
       "Q 1338 2731 1133 3434 \r\n",
       "Q 928 4138 513 4856 \r\n",
       "z\r\n",
       "\" id=\"DejaVuSans-29\" transform=\"scale(0.015625)\"/>\r\n",
       "      </defs>\r\n",
       "      <use xlink:href=\"#DejaVuSans-50\"/>\r\n",
       "      <use x=\"60.302734\" xlink:href=\"#DejaVuSans-28\"/>\r\n",
       "      <use x=\"99.316406\" xlink:href=\"#DejaVuSans-64\"/>\r\n",
       "      <use x=\"162.792969\" xlink:href=\"#DejaVuSans-69\"/>\r\n",
       "      <use x=\"190.576172\" xlink:href=\"#DejaVuSans-65\"/>\r\n",
       "      <use x=\"252.099609\" xlink:href=\"#DejaVuSans-3d\"/>\r\n",
       "      <use x=\"335.888672\" xlink:href=\"#DejaVuSans-31\"/>\r\n",
       "      <use x=\"399.511719\" xlink:href=\"#DejaVuSans-29\"/>\r\n",
       "     </g>\r\n",
       "    </g>\r\n",
       "    <g id=\"line2d_22\">\r\n",
       "     <path d=\"M 297.726562 34.976562 \r\n",
       "L 317.726562 34.976562 \r\n",
       "\" style=\"fill:none;stroke:#ff7f0e;stroke-linecap:square;stroke-width:1.5;\"/>\r\n",
       "    </g>\r\n",
       "    <g id=\"line2d_23\"/>\r\n",
       "    <g id=\"text_16\">\r\n",
       "     <!-- P(die=2) -->\r\n",
       "     <g transform=\"translate(325.726562 38.476562)scale(0.1 -0.1)\">\r\n",
       "      <use xlink:href=\"#DejaVuSans-50\"/>\r\n",
       "      <use x=\"60.302734\" xlink:href=\"#DejaVuSans-28\"/>\r\n",
       "      <use x=\"99.316406\" xlink:href=\"#DejaVuSans-64\"/>\r\n",
       "      <use x=\"162.792969\" xlink:href=\"#DejaVuSans-69\"/>\r\n",
       "      <use x=\"190.576172\" xlink:href=\"#DejaVuSans-65\"/>\r\n",
       "      <use x=\"252.099609\" xlink:href=\"#DejaVuSans-3d\"/>\r\n",
       "      <use x=\"335.888672\" xlink:href=\"#DejaVuSans-32\"/>\r\n",
       "      <use x=\"399.511719\" xlink:href=\"#DejaVuSans-29\"/>\r\n",
       "     </g>\r\n",
       "    </g>\r\n",
       "    <g id=\"line2d_24\">\r\n",
       "     <path d=\"M 297.726562 49.654687 \r\n",
       "L 317.726562 49.654687 \r\n",
       "\" style=\"fill:none;stroke:#2ca02c;stroke-linecap:square;stroke-width:1.5;\"/>\r\n",
       "    </g>\r\n",
       "    <g id=\"line2d_25\"/>\r\n",
       "    <g id=\"text_17\">\r\n",
       "     <!-- P(die=3) -->\r\n",
       "     <g transform=\"translate(325.726562 53.154687)scale(0.1 -0.1)\">\r\n",
       "      <use xlink:href=\"#DejaVuSans-50\"/>\r\n",
       "      <use x=\"60.302734\" xlink:href=\"#DejaVuSans-28\"/>\r\n",
       "      <use x=\"99.316406\" xlink:href=\"#DejaVuSans-64\"/>\r\n",
       "      <use x=\"162.792969\" xlink:href=\"#DejaVuSans-69\"/>\r\n",
       "      <use x=\"190.576172\" xlink:href=\"#DejaVuSans-65\"/>\r\n",
       "      <use x=\"252.099609\" xlink:href=\"#DejaVuSans-3d\"/>\r\n",
       "      <use x=\"335.888672\" xlink:href=\"#DejaVuSans-33\"/>\r\n",
       "      <use x=\"399.511719\" xlink:href=\"#DejaVuSans-29\"/>\r\n",
       "     </g>\r\n",
       "    </g>\r\n",
       "    <g id=\"line2d_26\">\r\n",
       "     <path d=\"M 297.726562 64.332812 \r\n",
       "L 317.726562 64.332812 \r\n",
       "\" style=\"fill:none;stroke:#d62728;stroke-linecap:square;stroke-width:1.5;\"/>\r\n",
       "    </g>\r\n",
       "    <g id=\"line2d_27\"/>\r\n",
       "    <g id=\"text_18\">\r\n",
       "     <!-- P(die=4) -->\r\n",
       "     <g transform=\"translate(325.726562 67.832812)scale(0.1 -0.1)\">\r\n",
       "      <use xlink:href=\"#DejaVuSans-50\"/>\r\n",
       "      <use x=\"60.302734\" xlink:href=\"#DejaVuSans-28\"/>\r\n",
       "      <use x=\"99.316406\" xlink:href=\"#DejaVuSans-64\"/>\r\n",
       "      <use x=\"162.792969\" xlink:href=\"#DejaVuSans-69\"/>\r\n",
       "      <use x=\"190.576172\" xlink:href=\"#DejaVuSans-65\"/>\r\n",
       "      <use x=\"252.099609\" xlink:href=\"#DejaVuSans-3d\"/>\r\n",
       "      <use x=\"335.888672\" xlink:href=\"#DejaVuSans-34\"/>\r\n",
       "      <use x=\"399.511719\" xlink:href=\"#DejaVuSans-29\"/>\r\n",
       "     </g>\r\n",
       "    </g>\r\n",
       "    <g id=\"line2d_28\">\r\n",
       "     <path d=\"M 297.726562 79.010937 \r\n",
       "L 317.726562 79.010937 \r\n",
       "\" style=\"fill:none;stroke:#9467bd;stroke-linecap:square;stroke-width:1.5;\"/>\r\n",
       "    </g>\r\n",
       "    <g id=\"line2d_29\"/>\r\n",
       "    <g id=\"text_19\">\r\n",
       "     <!-- P(die=5) -->\r\n",
       "     <g transform=\"translate(325.726562 82.510937)scale(0.1 -0.1)\">\r\n",
       "      <use xlink:href=\"#DejaVuSans-50\"/>\r\n",
       "      <use x=\"60.302734\" xlink:href=\"#DejaVuSans-28\"/>\r\n",
       "      <use x=\"99.316406\" xlink:href=\"#DejaVuSans-64\"/>\r\n",
       "      <use x=\"162.792969\" xlink:href=\"#DejaVuSans-69\"/>\r\n",
       "      <use x=\"190.576172\" xlink:href=\"#DejaVuSans-65\"/>\r\n",
       "      <use x=\"252.099609\" xlink:href=\"#DejaVuSans-3d\"/>\r\n",
       "      <use x=\"335.888672\" xlink:href=\"#DejaVuSans-35\"/>\r\n",
       "      <use x=\"399.511719\" xlink:href=\"#DejaVuSans-29\"/>\r\n",
       "     </g>\r\n",
       "    </g>\r\n",
       "    <g id=\"line2d_30\">\r\n",
       "     <path d=\"M 297.726562 93.689062 \r\n",
       "L 317.726562 93.689062 \r\n",
       "\" style=\"fill:none;stroke:#8c564b;stroke-linecap:square;stroke-width:1.5;\"/>\r\n",
       "    </g>\r\n",
       "    <g id=\"line2d_31\"/>\r\n",
       "    <g id=\"text_20\">\r\n",
       "     <!-- P(die=6) -->\r\n",
       "     <g transform=\"translate(325.726562 97.189062)scale(0.1 -0.1)\">\r\n",
       "      <defs>\r\n",
       "       <path d=\"M 2113 2584 \r\n",
       "Q 1688 2584 1439 2293 \r\n",
       "Q 1191 2003 1191 1497 \r\n",
       "Q 1191 994 1439 701 \r\n",
       "Q 1688 409 2113 409 \r\n",
       "Q 2538 409 2786 701 \r\n",
       "Q 3034 994 3034 1497 \r\n",
       "Q 3034 2003 2786 2293 \r\n",
       "Q 2538 2584 2113 2584 \r\n",
       "z\r\n",
       "M 3366 4563 \r\n",
       "L 3366 3988 \r\n",
       "Q 3128 4100 2886 4159 \r\n",
       "Q 2644 4219 2406 4219 \r\n",
       "Q 1781 4219 1451 3797 \r\n",
       "Q 1122 3375 1075 2522 \r\n",
       "Q 1259 2794 1537 2939 \r\n",
       "Q 1816 3084 2150 3084 \r\n",
       "Q 2853 3084 3261 2657 \r\n",
       "Q 3669 2231 3669 1497 \r\n",
       "Q 3669 778 3244 343 \r\n",
       "Q 2819 -91 2113 -91 \r\n",
       "Q 1303 -91 875 529 \r\n",
       "Q 447 1150 447 2328 \r\n",
       "Q 447 3434 972 4092 \r\n",
       "Q 1497 4750 2381 4750 \r\n",
       "Q 2619 4750 2861 4703 \r\n",
       "Q 3103 4656 3366 4563 \r\n",
       "z\r\n",
       "\" id=\"DejaVuSans-36\" transform=\"scale(0.015625)\"/>\r\n",
       "      </defs>\r\n",
       "      <use xlink:href=\"#DejaVuSans-50\"/>\r\n",
       "      <use x=\"60.302734\" xlink:href=\"#DejaVuSans-28\"/>\r\n",
       "      <use x=\"99.316406\" xlink:href=\"#DejaVuSans-64\"/>\r\n",
       "      <use x=\"162.792969\" xlink:href=\"#DejaVuSans-69\"/>\r\n",
       "      <use x=\"190.576172\" xlink:href=\"#DejaVuSans-65\"/>\r\n",
       "      <use x=\"252.099609\" xlink:href=\"#DejaVuSans-3d\"/>\r\n",
       "      <use x=\"335.888672\" xlink:href=\"#DejaVuSans-36\"/>\r\n",
       "      <use x=\"399.511719\" xlink:href=\"#DejaVuSans-29\"/>\r\n",
       "     </g>\r\n",
       "    </g>\r\n",
       "   </g>\r\n",
       "  </g>\r\n",
       " </g>\r\n",
       " <defs>\r\n",
       "  <clipPath id=\"pe5b2feb27e\">\r\n",
       "   <rect height=\"244.62\" width=\"334.8\" x=\"43.78125\" y=\"7.2\"/>\r\n",
       "  </clipPath>\r\n",
       " </defs>\r\n",
       "</svg>\r\n"
      ],
      "text/plain": [
       "<Figure size 432x324 with 1 Axes>"
      ]
     },
     "metadata": {
      "needs_background": "light"
     },
     "output_type": "display_data"
    }
   ],
   "source": [
    "counts = multinomial.Multinomial(10, fair_probs).sample((500,))\n",
    "cum_counts = counts.cumsum(dim=0)\n",
    "estimates = cum_counts / cum_counts.sum(dim=1, keepdims=True)\n",
    "\n",
    "d2l.set_figsize((6, 4.5))\n",
    "for i in range(6):\n",
    "    d2l.plt.plot(estimates[:, i].numpy(), label=(\"P(die=\" + str(i + 1) + \")\"))\n",
    "d2l.plt.axhline(y=0.167, color='black', linestyle='dashed')\n",
    "d2l.plt.gca().set_xlabel('Groups of experiments')\n",
    "d2l.plt.gca().set_ylabel('Estimated probability')\n",
    "d2l.plt.legend();"
   ]
  }
 ],
 "metadata": {
  "kernelspec": {
   "display_name": "Python 3",
   "language": "python",
   "name": "python3"
  },
  "language_info": {
   "codemirror_mode": {
    "name": "ipython",
    "version": 3
   },
   "file_extension": ".py",
   "mimetype": "text/x-python",
   "name": "python",
   "nbconvert_exporter": "python",
   "pygments_lexer": "ipython3",
   "version": "3.8.5"
  }
 },
 "nbformat": 4,
 "nbformat_minor": 4
}
